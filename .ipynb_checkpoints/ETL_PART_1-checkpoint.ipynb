{
 "cells": [
  {
   "cell_type": "markdown",
   "id": "6525b4c0",
   "metadata": {},
   "source": [
    "# Description -:\n",
    "\n",
    "1. In This Jupyter Notebook Data cleaning was done only for year 2015-2017.\n",
    "\n",
    "2. After cleaning the data, It was exported yearwise as CSV files to use for data cleaning of Year 2018-2023 in ETL_PART_2 notebook which helped to make the Data Consistent."
   ]
  },
  {
   "cell_type": "code",
   "execution_count": 34,
   "id": "f99958f8",
   "metadata": {},
   "outputs": [],
   "source": [
    "#importing the libraries\n",
    "\n",
    "import numpy as np \n",
    "import pandas as pd \n",
    "import matplotlib.pyplot as plt\n",
    "import seaborn as sns\n",
    "import plotly.express as px"
   ]
  },
  {
   "cell_type": "code",
   "execution_count": 35,
   "id": "53c92f23",
   "metadata": {},
   "outputs": [],
   "source": [
    "# Reading the CSVs for year 2015-2027 downloaded from Kaggle\n",
    "\n",
    "df1 = pd.read_csv(\"./resources/2015.csv\")\n",
    "df2 = pd.read_csv(\"./resources/2016.csv\")\n",
    "df3 = pd.read_csv(\"./resources/2017.csv\")"
   ]
  },
  {
   "cell_type": "code",
   "execution_count": 36,
   "id": "7389cf02",
   "metadata": {},
   "outputs": [
    {
     "data": {
      "text/plain": [
       "Country                           object\n",
       "Region                            object\n",
       "Happiness Rank                     int64\n",
       "Happiness Score                  float64\n",
       "Standard Error                   float64\n",
       "Economy (GDP per Capita)         float64\n",
       "Family                           float64\n",
       "Health (Life Expectancy)         float64\n",
       "Freedom                          float64\n",
       "Trust (Government Corruption)    float64\n",
       "Generosity                       float64\n",
       "Dystopia Residual                float64\n",
       "dtype: object"
      ]
     },
     "execution_count": 36,
     "metadata": {},
     "output_type": "execute_result"
    }
   ],
   "source": [
    "df1.head(1)\n",
    "df1.dtypes\n"
   ]
  },
  {
   "cell_type": "code",
   "execution_count": 37,
   "id": "a341900a",
   "metadata": {},
   "outputs": [],
   "source": [
    "#Dropping the unnecessary columns\n",
    "df1 = df1.drop(columns=['Standard Error','Region', 'Dystopia Residual'],axis=1)"
   ]
  },
  {
   "cell_type": "code",
   "execution_count": 38,
   "id": "ded195ef",
   "metadata": {},
   "outputs": [
    {
     "data": {
      "text/plain": [
       "Country                           object\n",
       "Happiness Rank                     int64\n",
       "Happiness Score                  float64\n",
       "Economy (GDP per Capita)         float64\n",
       "Family                           float64\n",
       "Health (Life Expectancy)         float64\n",
       "Freedom                          float64\n",
       "Trust (Government Corruption)    float64\n",
       "Generosity                       float64\n",
       "dtype: object"
      ]
     },
     "execution_count": 38,
     "metadata": {},
     "output_type": "execute_result"
    }
   ],
   "source": [
    "# Checking the data type \n",
    "df1.dtypes"
   ]
  },
  {
   "cell_type": "code",
   "execution_count": 39,
   "id": "66190791",
   "metadata": {},
   "outputs": [
    {
     "data": {
      "text/html": [
       "<div>\n",
       "<style scoped>\n",
       "    .dataframe tbody tr th:only-of-type {\n",
       "        vertical-align: middle;\n",
       "    }\n",
       "\n",
       "    .dataframe tbody tr th {\n",
       "        vertical-align: top;\n",
       "    }\n",
       "\n",
       "    .dataframe thead th {\n",
       "        text-align: right;\n",
       "    }\n",
       "</style>\n",
       "<table border=\"1\" class=\"dataframe\">\n",
       "  <thead>\n",
       "    <tr style=\"text-align: right;\">\n",
       "      <th></th>\n",
       "      <th>country</th>\n",
       "      <th>happiness_rank</th>\n",
       "      <th>happiness_score</th>\n",
       "      <th>gdp_per_capita</th>\n",
       "      <th>social_support</th>\n",
       "      <th>life_expectancy</th>\n",
       "      <th>freedom_to_make_life_choices</th>\n",
       "      <th>perceptions_of_corruption</th>\n",
       "      <th>generosity</th>\n",
       "    </tr>\n",
       "  </thead>\n",
       "  <tbody>\n",
       "    <tr>\n",
       "      <th>0</th>\n",
       "      <td>Switzerland</td>\n",
       "      <td>1</td>\n",
       "      <td>7.587</td>\n",
       "      <td>1.39651</td>\n",
       "      <td>1.34951</td>\n",
       "      <td>0.94143</td>\n",
       "      <td>0.66557</td>\n",
       "      <td>0.41978</td>\n",
       "      <td>0.29678</td>\n",
       "    </tr>\n",
       "    <tr>\n",
       "      <th>1</th>\n",
       "      <td>Iceland</td>\n",
       "      <td>2</td>\n",
       "      <td>7.561</td>\n",
       "      <td>1.30232</td>\n",
       "      <td>1.40223</td>\n",
       "      <td>0.94784</td>\n",
       "      <td>0.62877</td>\n",
       "      <td>0.14145</td>\n",
       "      <td>0.43630</td>\n",
       "    </tr>\n",
       "    <tr>\n",
       "      <th>2</th>\n",
       "      <td>Denmark</td>\n",
       "      <td>3</td>\n",
       "      <td>7.527</td>\n",
       "      <td>1.32548</td>\n",
       "      <td>1.36058</td>\n",
       "      <td>0.87464</td>\n",
       "      <td>0.64938</td>\n",
       "      <td>0.48357</td>\n",
       "      <td>0.34139</td>\n",
       "    </tr>\n",
       "    <tr>\n",
       "      <th>3</th>\n",
       "      <td>Norway</td>\n",
       "      <td>4</td>\n",
       "      <td>7.522</td>\n",
       "      <td>1.45900</td>\n",
       "      <td>1.33095</td>\n",
       "      <td>0.88521</td>\n",
       "      <td>0.66973</td>\n",
       "      <td>0.36503</td>\n",
       "      <td>0.34699</td>\n",
       "    </tr>\n",
       "    <tr>\n",
       "      <th>4</th>\n",
       "      <td>Canada</td>\n",
       "      <td>5</td>\n",
       "      <td>7.427</td>\n",
       "      <td>1.32629</td>\n",
       "      <td>1.32261</td>\n",
       "      <td>0.90563</td>\n",
       "      <td>0.63297</td>\n",
       "      <td>0.32957</td>\n",
       "      <td>0.45811</td>\n",
       "    </tr>\n",
       "  </tbody>\n",
       "</table>\n",
       "</div>"
      ],
      "text/plain": [
       "       country  happiness_rank  happiness_score  gdp_per_capita  \\\n",
       "0  Switzerland               1            7.587         1.39651   \n",
       "1      Iceland               2            7.561         1.30232   \n",
       "2      Denmark               3            7.527         1.32548   \n",
       "3       Norway               4            7.522         1.45900   \n",
       "4       Canada               5            7.427         1.32629   \n",
       "\n",
       "   social_support  life_expectancy  freedom_to_make_life_choices  \\\n",
       "0         1.34951          0.94143                       0.66557   \n",
       "1         1.40223          0.94784                       0.62877   \n",
       "2         1.36058          0.87464                       0.64938   \n",
       "3         1.33095          0.88521                       0.66973   \n",
       "4         1.32261          0.90563                       0.63297   \n",
       "\n",
       "   perceptions_of_corruption  generosity  \n",
       "0                    0.41978     0.29678  \n",
       "1                    0.14145     0.43630  \n",
       "2                    0.48357     0.34139  \n",
       "3                    0.36503     0.34699  \n",
       "4                    0.32957     0.45811  "
      ]
     },
     "execution_count": 39,
     "metadata": {},
     "output_type": "execute_result"
    }
   ],
   "source": [
    "#Rename the columns for consistency\n",
    "df1 = df1.rename({\n",
    "    'Country':'country',\n",
    "    'Happiness Rank': 'happiness_rank',\n",
    "    'Happiness Score':'happiness_score',\n",
    "    'Economy (GDP per Capita)':'gdp_per_capita',\n",
    "    'Family':'social_support',\n",
    "    'Health (Life Expectancy)':'life_expectancy',\n",
    "    'Freedom':'freedom_to_make_life_choices',\n",
    "    'Generosity':'generosity',\n",
    "    'Trust (Government Corruption)':'perceptions_of_corruption'\n",
    "    }, axis =1)\n",
    "df1.head()"
   ]
  },
  {
   "cell_type": "code",
   "execution_count": 40,
   "id": "4e0c673e",
   "metadata": {},
   "outputs": [
    {
     "data": {
      "text/html": [
       "<div>\n",
       "<style scoped>\n",
       "    .dataframe tbody tr th:only-of-type {\n",
       "        vertical-align: middle;\n",
       "    }\n",
       "\n",
       "    .dataframe tbody tr th {\n",
       "        vertical-align: top;\n",
       "    }\n",
       "\n",
       "    .dataframe thead th {\n",
       "        text-align: right;\n",
       "    }\n",
       "</style>\n",
       "<table border=\"1\" class=\"dataframe\">\n",
       "  <thead>\n",
       "    <tr style=\"text-align: right;\">\n",
       "      <th></th>\n",
       "      <th>country</th>\n",
       "      <th>happiness_rank</th>\n",
       "      <th>happiness_score</th>\n",
       "      <th>gdp_per_capita</th>\n",
       "      <th>social_support</th>\n",
       "      <th>life_expectancy</th>\n",
       "      <th>freedom_to_make_life_choices</th>\n",
       "      <th>perceptions_of_corruption</th>\n",
       "      <th>generosity</th>\n",
       "    </tr>\n",
       "  </thead>\n",
       "  <tbody>\n",
       "  </tbody>\n",
       "</table>\n",
       "</div>"
      ],
      "text/plain": [
       "Empty DataFrame\n",
       "Columns: [country, happiness_rank, happiness_score, gdp_per_capita, social_support, life_expectancy, freedom_to_make_life_choices, perceptions_of_corruption, generosity]\n",
       "Index: []"
      ]
     },
     "execution_count": 40,
     "metadata": {},
     "output_type": "execute_result"
    }
   ],
   "source": [
    "#checking the duplicated rows\n",
    "duplicate_rows = df1[df1.duplicated()]\n",
    "duplicate_rows"
   ]
  },
  {
   "cell_type": "markdown",
   "id": "ea9f982f",
   "metadata": {},
   "source": [
    "# Cleaning Data for Year 2016\n"
   ]
  },
  {
   "cell_type": "code",
   "execution_count": 41,
   "id": "c1212a0d",
   "metadata": {},
   "outputs": [
    {
     "data": {
      "text/plain": [
       "Country                           object\n",
       "Region                            object\n",
       "Happiness Rank                     int64\n",
       "Happiness Score                  float64\n",
       "Lower Confidence Interval        float64\n",
       "Upper Confidence Interval        float64\n",
       "Economy (GDP per Capita)         float64\n",
       "Family                           float64\n",
       "Health (Life Expectancy)         float64\n",
       "Freedom                          float64\n",
       "Trust (Government Corruption)    float64\n",
       "Generosity                       float64\n",
       "Dystopia Residual                float64\n",
       "dtype: object"
      ]
     },
     "execution_count": 41,
     "metadata": {},
     "output_type": "execute_result"
    }
   ],
   "source": [
    "\n",
    "df2.head(1)\n",
    "df2.dtypes"
   ]
  },
  {
   "cell_type": "code",
   "execution_count": 42,
   "id": "dd637122",
   "metadata": {},
   "outputs": [],
   "source": [
    "\n",
    "df2 = df2.drop(columns=['Lower Confidence Interval','Upper Confidence Interval', 'Region', 'Dystopia Residual'],axis=1)\n"
   ]
  },
  {
   "cell_type": "code",
   "execution_count": 43,
   "id": "fa108c77",
   "metadata": {},
   "outputs": [
    {
     "data": {
      "text/plain": [
       "Country                           object\n",
       "Happiness Rank                     int64\n",
       "Happiness Score                  float64\n",
       "Economy (GDP per Capita)         float64\n",
       "Family                           float64\n",
       "Health (Life Expectancy)         float64\n",
       "Freedom                          float64\n",
       "Trust (Government Corruption)    float64\n",
       "Generosity                       float64\n",
       "dtype: object"
      ]
     },
     "execution_count": 43,
     "metadata": {},
     "output_type": "execute_result"
    }
   ],
   "source": [
    "df2.dtypes"
   ]
  },
  {
   "cell_type": "code",
   "execution_count": 44,
   "id": "47e00596",
   "metadata": {},
   "outputs": [
    {
     "data": {
      "text/html": [
       "<div>\n",
       "<style scoped>\n",
       "    .dataframe tbody tr th:only-of-type {\n",
       "        vertical-align: middle;\n",
       "    }\n",
       "\n",
       "    .dataframe tbody tr th {\n",
       "        vertical-align: top;\n",
       "    }\n",
       "\n",
       "    .dataframe thead th {\n",
       "        text-align: right;\n",
       "    }\n",
       "</style>\n",
       "<table border=\"1\" class=\"dataframe\">\n",
       "  <thead>\n",
       "    <tr style=\"text-align: right;\">\n",
       "      <th></th>\n",
       "      <th>country</th>\n",
       "      <th>happiness_rank</th>\n",
       "      <th>happiness_score</th>\n",
       "      <th>gdp_per_capita</th>\n",
       "      <th>social_support</th>\n",
       "      <th>life_expectancy</th>\n",
       "      <th>freedom_to_make_life_choices</th>\n",
       "      <th>perceptions_of_corruption</th>\n",
       "      <th>generosity</th>\n",
       "    </tr>\n",
       "  </thead>\n",
       "  <tbody>\n",
       "    <tr>\n",
       "      <th>0</th>\n",
       "      <td>Denmark</td>\n",
       "      <td>1</td>\n",
       "      <td>7.526</td>\n",
       "      <td>1.44178</td>\n",
       "      <td>1.16374</td>\n",
       "      <td>0.79504</td>\n",
       "      <td>0.57941</td>\n",
       "      <td>0.44453</td>\n",
       "      <td>0.36171</td>\n",
       "    </tr>\n",
       "    <tr>\n",
       "      <th>1</th>\n",
       "      <td>Switzerland</td>\n",
       "      <td>2</td>\n",
       "      <td>7.509</td>\n",
       "      <td>1.52733</td>\n",
       "      <td>1.14524</td>\n",
       "      <td>0.86303</td>\n",
       "      <td>0.58557</td>\n",
       "      <td>0.41203</td>\n",
       "      <td>0.28083</td>\n",
       "    </tr>\n",
       "    <tr>\n",
       "      <th>2</th>\n",
       "      <td>Iceland</td>\n",
       "      <td>3</td>\n",
       "      <td>7.501</td>\n",
       "      <td>1.42666</td>\n",
       "      <td>1.18326</td>\n",
       "      <td>0.86733</td>\n",
       "      <td>0.56624</td>\n",
       "      <td>0.14975</td>\n",
       "      <td>0.47678</td>\n",
       "    </tr>\n",
       "    <tr>\n",
       "      <th>3</th>\n",
       "      <td>Norway</td>\n",
       "      <td>4</td>\n",
       "      <td>7.498</td>\n",
       "      <td>1.57744</td>\n",
       "      <td>1.12690</td>\n",
       "      <td>0.79579</td>\n",
       "      <td>0.59609</td>\n",
       "      <td>0.35776</td>\n",
       "      <td>0.37895</td>\n",
       "    </tr>\n",
       "    <tr>\n",
       "      <th>4</th>\n",
       "      <td>Finland</td>\n",
       "      <td>5</td>\n",
       "      <td>7.413</td>\n",
       "      <td>1.40598</td>\n",
       "      <td>1.13464</td>\n",
       "      <td>0.81091</td>\n",
       "      <td>0.57104</td>\n",
       "      <td>0.41004</td>\n",
       "      <td>0.25492</td>\n",
       "    </tr>\n",
       "  </tbody>\n",
       "</table>\n",
       "</div>"
      ],
      "text/plain": [
       "       country  happiness_rank  happiness_score  gdp_per_capita  \\\n",
       "0      Denmark               1            7.526         1.44178   \n",
       "1  Switzerland               2            7.509         1.52733   \n",
       "2      Iceland               3            7.501         1.42666   \n",
       "3       Norway               4            7.498         1.57744   \n",
       "4      Finland               5            7.413         1.40598   \n",
       "\n",
       "   social_support  life_expectancy  freedom_to_make_life_choices  \\\n",
       "0         1.16374          0.79504                       0.57941   \n",
       "1         1.14524          0.86303                       0.58557   \n",
       "2         1.18326          0.86733                       0.56624   \n",
       "3         1.12690          0.79579                       0.59609   \n",
       "4         1.13464          0.81091                       0.57104   \n",
       "\n",
       "   perceptions_of_corruption  generosity  \n",
       "0                    0.44453     0.36171  \n",
       "1                    0.41203     0.28083  \n",
       "2                    0.14975     0.47678  \n",
       "3                    0.35776     0.37895  \n",
       "4                    0.41004     0.25492  "
      ]
     },
     "execution_count": 44,
     "metadata": {},
     "output_type": "execute_result"
    }
   ],
   "source": [
    "#Rename the columns for consistency\n",
    "df2 = df2.rename({\n",
    "    'Country':'country',\n",
    "    'Happiness Rank': 'happiness_rank',\n",
    "    'Happiness Score':'happiness_score',\n",
    "    'Economy (GDP per Capita)':'gdp_per_capita',\n",
    "    'Family':'social_support',\n",
    "    'Health (Life Expectancy)':'life_expectancy',\n",
    "    'Freedom':'freedom_to_make_life_choices',\n",
    "    'Generosity':'generosity',\n",
    "    'Trust (Government Corruption)':'perceptions_of_corruption'\n",
    "    }, axis =1)\n",
    "df2.head()"
   ]
  },
  {
   "cell_type": "code",
   "execution_count": 45,
   "id": "34df7f19",
   "metadata": {},
   "outputs": [
    {
     "data": {
      "text/html": [
       "<div>\n",
       "<style scoped>\n",
       "    .dataframe tbody tr th:only-of-type {\n",
       "        vertical-align: middle;\n",
       "    }\n",
       "\n",
       "    .dataframe tbody tr th {\n",
       "        vertical-align: top;\n",
       "    }\n",
       "\n",
       "    .dataframe thead th {\n",
       "        text-align: right;\n",
       "    }\n",
       "</style>\n",
       "<table border=\"1\" class=\"dataframe\">\n",
       "  <thead>\n",
       "    <tr style=\"text-align: right;\">\n",
       "      <th></th>\n",
       "      <th>country</th>\n",
       "      <th>happiness_rank</th>\n",
       "      <th>happiness_score</th>\n",
       "      <th>gdp_per_capita</th>\n",
       "      <th>social_support</th>\n",
       "      <th>life_expectancy</th>\n",
       "      <th>freedom_to_make_life_choices</th>\n",
       "      <th>perceptions_of_corruption</th>\n",
       "      <th>generosity</th>\n",
       "    </tr>\n",
       "  </thead>\n",
       "  <tbody>\n",
       "  </tbody>\n",
       "</table>\n",
       "</div>"
      ],
      "text/plain": [
       "Empty DataFrame\n",
       "Columns: [country, happiness_rank, happiness_score, gdp_per_capita, social_support, life_expectancy, freedom_to_make_life_choices, perceptions_of_corruption, generosity]\n",
       "Index: []"
      ]
     },
     "execution_count": 45,
     "metadata": {},
     "output_type": "execute_result"
    }
   ],
   "source": [
    "duplicate_rows = df2[df2.duplicated()]\n",
    "duplicate_rows"
   ]
  },
  {
   "cell_type": "markdown",
   "id": "63e5be23",
   "metadata": {},
   "source": [
    "# Cleaning Data for Year 2017"
   ]
  },
  {
   "cell_type": "code",
   "execution_count": 46,
   "id": "839f617c",
   "metadata": {},
   "outputs": [
    {
     "data": {
      "text/plain": [
       "Country                           object\n",
       "Happiness.Rank                     int64\n",
       "Happiness.Score                  float64\n",
       "Whisker.high                     float64\n",
       "Whisker.low                      float64\n",
       "Economy..GDP.per.Capita.         float64\n",
       "Family                           float64\n",
       "Health..Life.Expectancy.         float64\n",
       "Freedom                          float64\n",
       "Generosity                       float64\n",
       "Trust..Government.Corruption.    float64\n",
       "Dystopia.Residual                float64\n",
       "dtype: object"
      ]
     },
     "execution_count": 46,
     "metadata": {},
     "output_type": "execute_result"
    }
   ],
   "source": [
    "df3.head(1)\n",
    "df3.dtypes"
   ]
  },
  {
   "cell_type": "code",
   "execution_count": 47,
   "id": "b1dc78f8",
   "metadata": {},
   "outputs": [],
   "source": [
    "df3 = df3.drop(columns=['Whisker.high','Whisker.low', 'Dystopia.Residual'],axis=1)\n"
   ]
  },
  {
   "cell_type": "code",
   "execution_count": 48,
   "id": "1c81e08d",
   "metadata": {},
   "outputs": [
    {
     "data": {
      "text/plain": [
       "Country                           object\n",
       "Happiness.Rank                     int64\n",
       "Happiness.Score                  float64\n",
       "Economy..GDP.per.Capita.         float64\n",
       "Family                           float64\n",
       "Health..Life.Expectancy.         float64\n",
       "Freedom                          float64\n",
       "Generosity                       float64\n",
       "Trust..Government.Corruption.    float64\n",
       "dtype: object"
      ]
     },
     "execution_count": 48,
     "metadata": {},
     "output_type": "execute_result"
    }
   ],
   "source": [
    "df3.dtypes"
   ]
  },
  {
   "cell_type": "code",
   "execution_count": 49,
   "id": "e551afea",
   "metadata": {},
   "outputs": [
    {
     "data": {
      "text/html": [
       "<div>\n",
       "<style scoped>\n",
       "    .dataframe tbody tr th:only-of-type {\n",
       "        vertical-align: middle;\n",
       "    }\n",
       "\n",
       "    .dataframe tbody tr th {\n",
       "        vertical-align: top;\n",
       "    }\n",
       "\n",
       "    .dataframe thead th {\n",
       "        text-align: right;\n",
       "    }\n",
       "</style>\n",
       "<table border=\"1\" class=\"dataframe\">\n",
       "  <thead>\n",
       "    <tr style=\"text-align: right;\">\n",
       "      <th></th>\n",
       "      <th>country</th>\n",
       "      <th>happiness_rank</th>\n",
       "      <th>happiness_score</th>\n",
       "      <th>gdp_per_capita</th>\n",
       "      <th>social_support</th>\n",
       "      <th>life_expectancy</th>\n",
       "      <th>freedom_to_make_life_choices</th>\n",
       "      <th>generosity</th>\n",
       "      <th>perceptions_of_corruption</th>\n",
       "    </tr>\n",
       "  </thead>\n",
       "  <tbody>\n",
       "    <tr>\n",
       "      <th>0</th>\n",
       "      <td>Norway</td>\n",
       "      <td>1</td>\n",
       "      <td>7.537</td>\n",
       "      <td>1.616463</td>\n",
       "      <td>1.533524</td>\n",
       "      <td>0.796667</td>\n",
       "      <td>0.635423</td>\n",
       "      <td>0.362012</td>\n",
       "      <td>0.315964</td>\n",
       "    </tr>\n",
       "    <tr>\n",
       "      <th>1</th>\n",
       "      <td>Denmark</td>\n",
       "      <td>2</td>\n",
       "      <td>7.522</td>\n",
       "      <td>1.482383</td>\n",
       "      <td>1.551122</td>\n",
       "      <td>0.792566</td>\n",
       "      <td>0.626007</td>\n",
       "      <td>0.355280</td>\n",
       "      <td>0.400770</td>\n",
       "    </tr>\n",
       "    <tr>\n",
       "      <th>2</th>\n",
       "      <td>Iceland</td>\n",
       "      <td>3</td>\n",
       "      <td>7.504</td>\n",
       "      <td>1.480633</td>\n",
       "      <td>1.610574</td>\n",
       "      <td>0.833552</td>\n",
       "      <td>0.627163</td>\n",
       "      <td>0.475540</td>\n",
       "      <td>0.153527</td>\n",
       "    </tr>\n",
       "    <tr>\n",
       "      <th>3</th>\n",
       "      <td>Switzerland</td>\n",
       "      <td>4</td>\n",
       "      <td>7.494</td>\n",
       "      <td>1.564980</td>\n",
       "      <td>1.516912</td>\n",
       "      <td>0.858131</td>\n",
       "      <td>0.620071</td>\n",
       "      <td>0.290549</td>\n",
       "      <td>0.367007</td>\n",
       "    </tr>\n",
       "    <tr>\n",
       "      <th>4</th>\n",
       "      <td>Finland</td>\n",
       "      <td>5</td>\n",
       "      <td>7.469</td>\n",
       "      <td>1.443572</td>\n",
       "      <td>1.540247</td>\n",
       "      <td>0.809158</td>\n",
       "      <td>0.617951</td>\n",
       "      <td>0.245483</td>\n",
       "      <td>0.382612</td>\n",
       "    </tr>\n",
       "  </tbody>\n",
       "</table>\n",
       "</div>"
      ],
      "text/plain": [
       "       country  happiness_rank  happiness_score  gdp_per_capita  \\\n",
       "0       Norway               1            7.537        1.616463   \n",
       "1      Denmark               2            7.522        1.482383   \n",
       "2      Iceland               3            7.504        1.480633   \n",
       "3  Switzerland               4            7.494        1.564980   \n",
       "4      Finland               5            7.469        1.443572   \n",
       "\n",
       "   social_support  life_expectancy  freedom_to_make_life_choices  generosity  \\\n",
       "0        1.533524         0.796667                      0.635423    0.362012   \n",
       "1        1.551122         0.792566                      0.626007    0.355280   \n",
       "2        1.610574         0.833552                      0.627163    0.475540   \n",
       "3        1.516912         0.858131                      0.620071    0.290549   \n",
       "4        1.540247         0.809158                      0.617951    0.245483   \n",
       "\n",
       "   perceptions_of_corruption  \n",
       "0                   0.315964  \n",
       "1                   0.400770  \n",
       "2                   0.153527  \n",
       "3                   0.367007  \n",
       "4                   0.382612  "
      ]
     },
     "execution_count": 49,
     "metadata": {},
     "output_type": "execute_result"
    }
   ],
   "source": [
    "#Rename the columns for consistency\n",
    "df3 = df3.rename({\n",
    "    'Country':'country',\n",
    "    'Happiness.Rank': 'happiness_rank',\n",
    "    'Happiness.Score':'happiness_score',\n",
    "    'Economy..GDP.per.Capita.':'gdp_per_capita',\n",
    "    'Family':'social_support',\n",
    "    'Health..Life.Expectancy.':'life_expectancy',\n",
    "    'Freedom':'freedom_to_make_life_choices',\n",
    "    'Generosity':'generosity',\n",
    "    'Trust..Government.Corruption.':'perceptions_of_corruption'\n",
    "    }, axis =1)\n",
    "df3.head()"
   ]
  },
  {
   "cell_type": "markdown",
   "id": "168c5c2a",
   "metadata": {},
   "source": [
    "# Cleaning the data to keep the common countries data in years 2015-2017"
   ]
  },
  {
   "cell_type": "code",
   "execution_count": 50,
   "id": "c2cecf20",
   "metadata": {},
   "outputs": [],
   "source": [
    "\n",
    "\n",
    "# Find common country names among three dataframes\n",
    "common_countries_mask = (\n",
    "    df1['country'].isin(df2['country']) &\n",
    "    df1['country'].isin(df3['country'])\n",
    ")\n",
    "\n",
    "# Keep only the rows with common country names\n",
    "df1 = df1[common_countries_mask]\n",
    "df2 = df2[df2['country'].isin(df1['country'])]\n",
    "df3 = df3[df3['country'].isin(df1['country'])]\n",
    "\n",
    "\n"
   ]
  },
  {
   "cell_type": "code",
   "execution_count": 51,
   "id": "37a78627",
   "metadata": {},
   "outputs": [
    {
     "data": {
      "text/html": [
       "<div>\n",
       "<style scoped>\n",
       "    .dataframe tbody tr th:only-of-type {\n",
       "        vertical-align: middle;\n",
       "    }\n",
       "\n",
       "    .dataframe tbody tr th {\n",
       "        vertical-align: top;\n",
       "    }\n",
       "\n",
       "    .dataframe thead th {\n",
       "        text-align: right;\n",
       "    }\n",
       "</style>\n",
       "<table border=\"1\" class=\"dataframe\">\n",
       "  <thead>\n",
       "    <tr style=\"text-align: right;\">\n",
       "      <th></th>\n",
       "      <th>country</th>\n",
       "      <th>happiness_rank</th>\n",
       "      <th>happiness_score</th>\n",
       "      <th>gdp_per_capita</th>\n",
       "      <th>social_support</th>\n",
       "      <th>life_expectancy</th>\n",
       "      <th>freedom_to_make_life_choices</th>\n",
       "      <th>perceptions_of_corruption</th>\n",
       "      <th>generosity</th>\n",
       "    </tr>\n",
       "  </thead>\n",
       "  <tbody>\n",
       "    <tr>\n",
       "      <th>0</th>\n",
       "      <td>Switzerland</td>\n",
       "      <td>1</td>\n",
       "      <td>7.587</td>\n",
       "      <td>1.39651</td>\n",
       "      <td>1.34951</td>\n",
       "      <td>0.94143</td>\n",
       "      <td>0.66557</td>\n",
       "      <td>0.41978</td>\n",
       "      <td>0.29678</td>\n",
       "    </tr>\n",
       "    <tr>\n",
       "      <th>1</th>\n",
       "      <td>Iceland</td>\n",
       "      <td>2</td>\n",
       "      <td>7.561</td>\n",
       "      <td>1.30232</td>\n",
       "      <td>1.40223</td>\n",
       "      <td>0.94784</td>\n",
       "      <td>0.62877</td>\n",
       "      <td>0.14145</td>\n",
       "      <td>0.43630</td>\n",
       "    </tr>\n",
       "    <tr>\n",
       "      <th>2</th>\n",
       "      <td>Denmark</td>\n",
       "      <td>3</td>\n",
       "      <td>7.527</td>\n",
       "      <td>1.32548</td>\n",
       "      <td>1.36058</td>\n",
       "      <td>0.87464</td>\n",
       "      <td>0.64938</td>\n",
       "      <td>0.48357</td>\n",
       "      <td>0.34139</td>\n",
       "    </tr>\n",
       "    <tr>\n",
       "      <th>3</th>\n",
       "      <td>Norway</td>\n",
       "      <td>4</td>\n",
       "      <td>7.522</td>\n",
       "      <td>1.45900</td>\n",
       "      <td>1.33095</td>\n",
       "      <td>0.88521</td>\n",
       "      <td>0.66973</td>\n",
       "      <td>0.36503</td>\n",
       "      <td>0.34699</td>\n",
       "    </tr>\n",
       "    <tr>\n",
       "      <th>4</th>\n",
       "      <td>Canada</td>\n",
       "      <td>5</td>\n",
       "      <td>7.427</td>\n",
       "      <td>1.32629</td>\n",
       "      <td>1.32261</td>\n",
       "      <td>0.90563</td>\n",
       "      <td>0.63297</td>\n",
       "      <td>0.32957</td>\n",
       "      <td>0.45811</td>\n",
       "    </tr>\n",
       "    <tr>\n",
       "      <th>...</th>\n",
       "      <td>...</td>\n",
       "      <td>...</td>\n",
       "      <td>...</td>\n",
       "      <td>...</td>\n",
       "      <td>...</td>\n",
       "      <td>...</td>\n",
       "      <td>...</td>\n",
       "      <td>...</td>\n",
       "      <td>...</td>\n",
       "    </tr>\n",
       "    <tr>\n",
       "      <th>153</th>\n",
       "      <td>Rwanda</td>\n",
       "      <td>154</td>\n",
       "      <td>3.465</td>\n",
       "      <td>0.22208</td>\n",
       "      <td>0.77370</td>\n",
       "      <td>0.42864</td>\n",
       "      <td>0.59201</td>\n",
       "      <td>0.55191</td>\n",
       "      <td>0.22628</td>\n",
       "    </tr>\n",
       "    <tr>\n",
       "      <th>154</th>\n",
       "      <td>Benin</td>\n",
       "      <td>155</td>\n",
       "      <td>3.340</td>\n",
       "      <td>0.28665</td>\n",
       "      <td>0.35386</td>\n",
       "      <td>0.31910</td>\n",
       "      <td>0.48450</td>\n",
       "      <td>0.08010</td>\n",
       "      <td>0.18260</td>\n",
       "    </tr>\n",
       "    <tr>\n",
       "      <th>155</th>\n",
       "      <td>Syria</td>\n",
       "      <td>156</td>\n",
       "      <td>3.006</td>\n",
       "      <td>0.66320</td>\n",
       "      <td>0.47489</td>\n",
       "      <td>0.72193</td>\n",
       "      <td>0.15684</td>\n",
       "      <td>0.18906</td>\n",
       "      <td>0.47179</td>\n",
       "    </tr>\n",
       "    <tr>\n",
       "      <th>156</th>\n",
       "      <td>Burundi</td>\n",
       "      <td>157</td>\n",
       "      <td>2.905</td>\n",
       "      <td>0.01530</td>\n",
       "      <td>0.41587</td>\n",
       "      <td>0.22396</td>\n",
       "      <td>0.11850</td>\n",
       "      <td>0.10062</td>\n",
       "      <td>0.19727</td>\n",
       "    </tr>\n",
       "    <tr>\n",
       "      <th>157</th>\n",
       "      <td>Togo</td>\n",
       "      <td>158</td>\n",
       "      <td>2.839</td>\n",
       "      <td>0.20868</td>\n",
       "      <td>0.13995</td>\n",
       "      <td>0.28443</td>\n",
       "      <td>0.36453</td>\n",
       "      <td>0.10731</td>\n",
       "      <td>0.16681</td>\n",
       "    </tr>\n",
       "  </tbody>\n",
       "</table>\n",
       "<p>146 rows × 9 columns</p>\n",
       "</div>"
      ],
      "text/plain": [
       "         country  happiness_rank  happiness_score  gdp_per_capita  \\\n",
       "0    Switzerland               1            7.587         1.39651   \n",
       "1        Iceland               2            7.561         1.30232   \n",
       "2        Denmark               3            7.527         1.32548   \n",
       "3         Norway               4            7.522         1.45900   \n",
       "4         Canada               5            7.427         1.32629   \n",
       "..           ...             ...              ...             ...   \n",
       "153       Rwanda             154            3.465         0.22208   \n",
       "154        Benin             155            3.340         0.28665   \n",
       "155        Syria             156            3.006         0.66320   \n",
       "156      Burundi             157            2.905         0.01530   \n",
       "157         Togo             158            2.839         0.20868   \n",
       "\n",
       "     social_support  life_expectancy  freedom_to_make_life_choices  \\\n",
       "0           1.34951          0.94143                       0.66557   \n",
       "1           1.40223          0.94784                       0.62877   \n",
       "2           1.36058          0.87464                       0.64938   \n",
       "3           1.33095          0.88521                       0.66973   \n",
       "4           1.32261          0.90563                       0.63297   \n",
       "..              ...              ...                           ...   \n",
       "153         0.77370          0.42864                       0.59201   \n",
       "154         0.35386          0.31910                       0.48450   \n",
       "155         0.47489          0.72193                       0.15684   \n",
       "156         0.41587          0.22396                       0.11850   \n",
       "157         0.13995          0.28443                       0.36453   \n",
       "\n",
       "     perceptions_of_corruption  generosity  \n",
       "0                      0.41978     0.29678  \n",
       "1                      0.14145     0.43630  \n",
       "2                      0.48357     0.34139  \n",
       "3                      0.36503     0.34699  \n",
       "4                      0.32957     0.45811  \n",
       "..                         ...         ...  \n",
       "153                    0.55191     0.22628  \n",
       "154                    0.08010     0.18260  \n",
       "155                    0.18906     0.47179  \n",
       "156                    0.10062     0.19727  \n",
       "157                    0.10731     0.16681  \n",
       "\n",
       "[146 rows x 9 columns]"
      ]
     },
     "execution_count": 51,
     "metadata": {},
     "output_type": "execute_result"
    }
   ],
   "source": [
    "df1"
   ]
  },
  {
   "cell_type": "code",
   "execution_count": 52,
   "id": "7573d819",
   "metadata": {},
   "outputs": [
    {
     "data": {
      "text/html": [
       "<div>\n",
       "<style scoped>\n",
       "    .dataframe tbody tr th:only-of-type {\n",
       "        vertical-align: middle;\n",
       "    }\n",
       "\n",
       "    .dataframe tbody tr th {\n",
       "        vertical-align: top;\n",
       "    }\n",
       "\n",
       "    .dataframe thead th {\n",
       "        text-align: right;\n",
       "    }\n",
       "</style>\n",
       "<table border=\"1\" class=\"dataframe\">\n",
       "  <thead>\n",
       "    <tr style=\"text-align: right;\">\n",
       "      <th></th>\n",
       "      <th>country</th>\n",
       "      <th>happiness_rank</th>\n",
       "      <th>happiness_score</th>\n",
       "      <th>gdp_per_capita</th>\n",
       "      <th>social_support</th>\n",
       "      <th>life_expectancy</th>\n",
       "      <th>freedom_to_make_life_choices</th>\n",
       "      <th>perceptions_of_corruption</th>\n",
       "      <th>generosity</th>\n",
       "    </tr>\n",
       "  </thead>\n",
       "  <tbody>\n",
       "    <tr>\n",
       "      <th>0</th>\n",
       "      <td>Denmark</td>\n",
       "      <td>1</td>\n",
       "      <td>7.526</td>\n",
       "      <td>1.44178</td>\n",
       "      <td>1.16374</td>\n",
       "      <td>0.79504</td>\n",
       "      <td>0.57941</td>\n",
       "      <td>0.44453</td>\n",
       "      <td>0.36171</td>\n",
       "    </tr>\n",
       "    <tr>\n",
       "      <th>1</th>\n",
       "      <td>Switzerland</td>\n",
       "      <td>2</td>\n",
       "      <td>7.509</td>\n",
       "      <td>1.52733</td>\n",
       "      <td>1.14524</td>\n",
       "      <td>0.86303</td>\n",
       "      <td>0.58557</td>\n",
       "      <td>0.41203</td>\n",
       "      <td>0.28083</td>\n",
       "    </tr>\n",
       "    <tr>\n",
       "      <th>2</th>\n",
       "      <td>Iceland</td>\n",
       "      <td>3</td>\n",
       "      <td>7.501</td>\n",
       "      <td>1.42666</td>\n",
       "      <td>1.18326</td>\n",
       "      <td>0.86733</td>\n",
       "      <td>0.56624</td>\n",
       "      <td>0.14975</td>\n",
       "      <td>0.47678</td>\n",
       "    </tr>\n",
       "    <tr>\n",
       "      <th>3</th>\n",
       "      <td>Norway</td>\n",
       "      <td>4</td>\n",
       "      <td>7.498</td>\n",
       "      <td>1.57744</td>\n",
       "      <td>1.12690</td>\n",
       "      <td>0.79579</td>\n",
       "      <td>0.59609</td>\n",
       "      <td>0.35776</td>\n",
       "      <td>0.37895</td>\n",
       "    </tr>\n",
       "    <tr>\n",
       "      <th>4</th>\n",
       "      <td>Finland</td>\n",
       "      <td>5</td>\n",
       "      <td>7.413</td>\n",
       "      <td>1.40598</td>\n",
       "      <td>1.13464</td>\n",
       "      <td>0.81091</td>\n",
       "      <td>0.57104</td>\n",
       "      <td>0.41004</td>\n",
       "      <td>0.25492</td>\n",
       "    </tr>\n",
       "    <tr>\n",
       "      <th>...</th>\n",
       "      <td>...</td>\n",
       "      <td>...</td>\n",
       "      <td>...</td>\n",
       "      <td>...</td>\n",
       "      <td>...</td>\n",
       "      <td>...</td>\n",
       "      <td>...</td>\n",
       "      <td>...</td>\n",
       "      <td>...</td>\n",
       "    </tr>\n",
       "    <tr>\n",
       "      <th>152</th>\n",
       "      <td>Benin</td>\n",
       "      <td>153</td>\n",
       "      <td>3.484</td>\n",
       "      <td>0.39499</td>\n",
       "      <td>0.10419</td>\n",
       "      <td>0.21028</td>\n",
       "      <td>0.39747</td>\n",
       "      <td>0.06681</td>\n",
       "      <td>0.20180</td>\n",
       "    </tr>\n",
       "    <tr>\n",
       "      <th>153</th>\n",
       "      <td>Afghanistan</td>\n",
       "      <td>154</td>\n",
       "      <td>3.360</td>\n",
       "      <td>0.38227</td>\n",
       "      <td>0.11037</td>\n",
       "      <td>0.17344</td>\n",
       "      <td>0.16430</td>\n",
       "      <td>0.07112</td>\n",
       "      <td>0.31268</td>\n",
       "    </tr>\n",
       "    <tr>\n",
       "      <th>154</th>\n",
       "      <td>Togo</td>\n",
       "      <td>155</td>\n",
       "      <td>3.303</td>\n",
       "      <td>0.28123</td>\n",
       "      <td>0.00000</td>\n",
       "      <td>0.24811</td>\n",
       "      <td>0.34678</td>\n",
       "      <td>0.11587</td>\n",
       "      <td>0.17517</td>\n",
       "    </tr>\n",
       "    <tr>\n",
       "      <th>155</th>\n",
       "      <td>Syria</td>\n",
       "      <td>156</td>\n",
       "      <td>3.069</td>\n",
       "      <td>0.74719</td>\n",
       "      <td>0.14866</td>\n",
       "      <td>0.62994</td>\n",
       "      <td>0.06912</td>\n",
       "      <td>0.17233</td>\n",
       "      <td>0.48397</td>\n",
       "    </tr>\n",
       "    <tr>\n",
       "      <th>156</th>\n",
       "      <td>Burundi</td>\n",
       "      <td>157</td>\n",
       "      <td>2.905</td>\n",
       "      <td>0.06831</td>\n",
       "      <td>0.23442</td>\n",
       "      <td>0.15747</td>\n",
       "      <td>0.04320</td>\n",
       "      <td>0.09419</td>\n",
       "      <td>0.20290</td>\n",
       "    </tr>\n",
       "  </tbody>\n",
       "</table>\n",
       "<p>146 rows × 9 columns</p>\n",
       "</div>"
      ],
      "text/plain": [
       "         country  happiness_rank  happiness_score  gdp_per_capita  \\\n",
       "0        Denmark               1            7.526         1.44178   \n",
       "1    Switzerland               2            7.509         1.52733   \n",
       "2        Iceland               3            7.501         1.42666   \n",
       "3         Norway               4            7.498         1.57744   \n",
       "4        Finland               5            7.413         1.40598   \n",
       "..           ...             ...              ...             ...   \n",
       "152        Benin             153            3.484         0.39499   \n",
       "153  Afghanistan             154            3.360         0.38227   \n",
       "154         Togo             155            3.303         0.28123   \n",
       "155        Syria             156            3.069         0.74719   \n",
       "156      Burundi             157            2.905         0.06831   \n",
       "\n",
       "     social_support  life_expectancy  freedom_to_make_life_choices  \\\n",
       "0           1.16374          0.79504                       0.57941   \n",
       "1           1.14524          0.86303                       0.58557   \n",
       "2           1.18326          0.86733                       0.56624   \n",
       "3           1.12690          0.79579                       0.59609   \n",
       "4           1.13464          0.81091                       0.57104   \n",
       "..              ...              ...                           ...   \n",
       "152         0.10419          0.21028                       0.39747   \n",
       "153         0.11037          0.17344                       0.16430   \n",
       "154         0.00000          0.24811                       0.34678   \n",
       "155         0.14866          0.62994                       0.06912   \n",
       "156         0.23442          0.15747                       0.04320   \n",
       "\n",
       "     perceptions_of_corruption  generosity  \n",
       "0                      0.44453     0.36171  \n",
       "1                      0.41203     0.28083  \n",
       "2                      0.14975     0.47678  \n",
       "3                      0.35776     0.37895  \n",
       "4                      0.41004     0.25492  \n",
       "..                         ...         ...  \n",
       "152                    0.06681     0.20180  \n",
       "153                    0.07112     0.31268  \n",
       "154                    0.11587     0.17517  \n",
       "155                    0.17233     0.48397  \n",
       "156                    0.09419     0.20290  \n",
       "\n",
       "[146 rows x 9 columns]"
      ]
     },
     "execution_count": 52,
     "metadata": {},
     "output_type": "execute_result"
    }
   ],
   "source": [
    "df2"
   ]
  },
  {
   "cell_type": "code",
   "execution_count": 53,
   "id": "6d4930b6",
   "metadata": {},
   "outputs": [
    {
     "data": {
      "text/html": [
       "<div>\n",
       "<style scoped>\n",
       "    .dataframe tbody tr th:only-of-type {\n",
       "        vertical-align: middle;\n",
       "    }\n",
       "\n",
       "    .dataframe tbody tr th {\n",
       "        vertical-align: top;\n",
       "    }\n",
       "\n",
       "    .dataframe thead th {\n",
       "        text-align: right;\n",
       "    }\n",
       "</style>\n",
       "<table border=\"1\" class=\"dataframe\">\n",
       "  <thead>\n",
       "    <tr style=\"text-align: right;\">\n",
       "      <th></th>\n",
       "      <th>country</th>\n",
       "      <th>happiness_rank</th>\n",
       "      <th>happiness_score</th>\n",
       "      <th>gdp_per_capita</th>\n",
       "      <th>social_support</th>\n",
       "      <th>life_expectancy</th>\n",
       "      <th>freedom_to_make_life_choices</th>\n",
       "      <th>generosity</th>\n",
       "      <th>perceptions_of_corruption</th>\n",
       "    </tr>\n",
       "  </thead>\n",
       "  <tbody>\n",
       "    <tr>\n",
       "      <th>0</th>\n",
       "      <td>Norway</td>\n",
       "      <td>1</td>\n",
       "      <td>7.537</td>\n",
       "      <td>1.616463</td>\n",
       "      <td>1.533524</td>\n",
       "      <td>0.796667</td>\n",
       "      <td>0.635423</td>\n",
       "      <td>0.362012</td>\n",
       "      <td>0.315964</td>\n",
       "    </tr>\n",
       "    <tr>\n",
       "      <th>1</th>\n",
       "      <td>Denmark</td>\n",
       "      <td>2</td>\n",
       "      <td>7.522</td>\n",
       "      <td>1.482383</td>\n",
       "      <td>1.551122</td>\n",
       "      <td>0.792566</td>\n",
       "      <td>0.626007</td>\n",
       "      <td>0.355280</td>\n",
       "      <td>0.400770</td>\n",
       "    </tr>\n",
       "    <tr>\n",
       "      <th>2</th>\n",
       "      <td>Iceland</td>\n",
       "      <td>3</td>\n",
       "      <td>7.504</td>\n",
       "      <td>1.480633</td>\n",
       "      <td>1.610574</td>\n",
       "      <td>0.833552</td>\n",
       "      <td>0.627163</td>\n",
       "      <td>0.475540</td>\n",
       "      <td>0.153527</td>\n",
       "    </tr>\n",
       "    <tr>\n",
       "      <th>3</th>\n",
       "      <td>Switzerland</td>\n",
       "      <td>4</td>\n",
       "      <td>7.494</td>\n",
       "      <td>1.564980</td>\n",
       "      <td>1.516912</td>\n",
       "      <td>0.858131</td>\n",
       "      <td>0.620071</td>\n",
       "      <td>0.290549</td>\n",
       "      <td>0.367007</td>\n",
       "    </tr>\n",
       "    <tr>\n",
       "      <th>4</th>\n",
       "      <td>Finland</td>\n",
       "      <td>5</td>\n",
       "      <td>7.469</td>\n",
       "      <td>1.443572</td>\n",
       "      <td>1.540247</td>\n",
       "      <td>0.809158</td>\n",
       "      <td>0.617951</td>\n",
       "      <td>0.245483</td>\n",
       "      <td>0.382612</td>\n",
       "    </tr>\n",
       "    <tr>\n",
       "      <th>...</th>\n",
       "      <td>...</td>\n",
       "      <td>...</td>\n",
       "      <td>...</td>\n",
       "      <td>...</td>\n",
       "      <td>...</td>\n",
       "      <td>...</td>\n",
       "      <td>...</td>\n",
       "      <td>...</td>\n",
       "      <td>...</td>\n",
       "    </tr>\n",
       "    <tr>\n",
       "      <th>149</th>\n",
       "      <td>Togo</td>\n",
       "      <td>150</td>\n",
       "      <td>3.495</td>\n",
       "      <td>0.305445</td>\n",
       "      <td>0.431883</td>\n",
       "      <td>0.247106</td>\n",
       "      <td>0.380426</td>\n",
       "      <td>0.196896</td>\n",
       "      <td>0.095665</td>\n",
       "    </tr>\n",
       "    <tr>\n",
       "      <th>150</th>\n",
       "      <td>Rwanda</td>\n",
       "      <td>151</td>\n",
       "      <td>3.471</td>\n",
       "      <td>0.368746</td>\n",
       "      <td>0.945707</td>\n",
       "      <td>0.326425</td>\n",
       "      <td>0.581844</td>\n",
       "      <td>0.252756</td>\n",
       "      <td>0.455220</td>\n",
       "    </tr>\n",
       "    <tr>\n",
       "      <th>151</th>\n",
       "      <td>Syria</td>\n",
       "      <td>152</td>\n",
       "      <td>3.462</td>\n",
       "      <td>0.777153</td>\n",
       "      <td>0.396103</td>\n",
       "      <td>0.500533</td>\n",
       "      <td>0.081539</td>\n",
       "      <td>0.493664</td>\n",
       "      <td>0.151347</td>\n",
       "    </tr>\n",
       "    <tr>\n",
       "      <th>152</th>\n",
       "      <td>Tanzania</td>\n",
       "      <td>153</td>\n",
       "      <td>3.349</td>\n",
       "      <td>0.511136</td>\n",
       "      <td>1.041990</td>\n",
       "      <td>0.364509</td>\n",
       "      <td>0.390018</td>\n",
       "      <td>0.354256</td>\n",
       "      <td>0.066035</td>\n",
       "    </tr>\n",
       "    <tr>\n",
       "      <th>153</th>\n",
       "      <td>Burundi</td>\n",
       "      <td>154</td>\n",
       "      <td>2.905</td>\n",
       "      <td>0.091623</td>\n",
       "      <td>0.629794</td>\n",
       "      <td>0.151611</td>\n",
       "      <td>0.059901</td>\n",
       "      <td>0.204435</td>\n",
       "      <td>0.084148</td>\n",
       "    </tr>\n",
       "  </tbody>\n",
       "</table>\n",
       "<p>146 rows × 9 columns</p>\n",
       "</div>"
      ],
      "text/plain": [
       "         country  happiness_rank  happiness_score  gdp_per_capita  \\\n",
       "0         Norway               1            7.537        1.616463   \n",
       "1        Denmark               2            7.522        1.482383   \n",
       "2        Iceland               3            7.504        1.480633   \n",
       "3    Switzerland               4            7.494        1.564980   \n",
       "4        Finland               5            7.469        1.443572   \n",
       "..           ...             ...              ...             ...   \n",
       "149         Togo             150            3.495        0.305445   \n",
       "150       Rwanda             151            3.471        0.368746   \n",
       "151        Syria             152            3.462        0.777153   \n",
       "152     Tanzania             153            3.349        0.511136   \n",
       "153      Burundi             154            2.905        0.091623   \n",
       "\n",
       "     social_support  life_expectancy  freedom_to_make_life_choices  \\\n",
       "0          1.533524         0.796667                      0.635423   \n",
       "1          1.551122         0.792566                      0.626007   \n",
       "2          1.610574         0.833552                      0.627163   \n",
       "3          1.516912         0.858131                      0.620071   \n",
       "4          1.540247         0.809158                      0.617951   \n",
       "..              ...              ...                           ...   \n",
       "149        0.431883         0.247106                      0.380426   \n",
       "150        0.945707         0.326425                      0.581844   \n",
       "151        0.396103         0.500533                      0.081539   \n",
       "152        1.041990         0.364509                      0.390018   \n",
       "153        0.629794         0.151611                      0.059901   \n",
       "\n",
       "     generosity  perceptions_of_corruption  \n",
       "0      0.362012                   0.315964  \n",
       "1      0.355280                   0.400770  \n",
       "2      0.475540                   0.153527  \n",
       "3      0.290549                   0.367007  \n",
       "4      0.245483                   0.382612  \n",
       "..          ...                        ...  \n",
       "149    0.196896                   0.095665  \n",
       "150    0.252756                   0.455220  \n",
       "151    0.493664                   0.151347  \n",
       "152    0.354256                   0.066035  \n",
       "153    0.204435                   0.084148  \n",
       "\n",
       "[146 rows x 9 columns]"
      ]
     },
     "execution_count": 53,
     "metadata": {},
     "output_type": "execute_result"
    }
   ],
   "source": [
    "df3"
   ]
  },
  {
   "cell_type": "code",
   "execution_count": null,
   "id": "a784a00c",
   "metadata": {},
   "outputs": [],
   "source": []
  },
  {
   "cell_type": "markdown",
   "id": "b1ffd3ca",
   "metadata": {},
   "source": [
    "# mapping continents Data for Year 2015\n"
   ]
  },
  {
   "cell_type": "code",
   "execution_count": 54,
   "id": "738f7ca9",
   "metadata": {},
   "outputs": [],
   "source": [
    "#Reading the CSV from kaggle dataset\n",
    "mapping_country = pd.read_csv(\"./resources/continents2.csv\")"
   ]
  },
  {
   "cell_type": "code",
   "execution_count": 55,
   "id": "9f7801f3",
   "metadata": {},
   "outputs": [
    {
     "data": {
      "text/html": [
       "<div>\n",
       "<style scoped>\n",
       "    .dataframe tbody tr th:only-of-type {\n",
       "        vertical-align: middle;\n",
       "    }\n",
       "\n",
       "    .dataframe tbody tr th {\n",
       "        vertical-align: top;\n",
       "    }\n",
       "\n",
       "    .dataframe thead th {\n",
       "        text-align: right;\n",
       "    }\n",
       "</style>\n",
       "<table border=\"1\" class=\"dataframe\">\n",
       "  <thead>\n",
       "    <tr style=\"text-align: right;\">\n",
       "      <th></th>\n",
       "      <th>name</th>\n",
       "      <th>alpha-2</th>\n",
       "      <th>alpha-3</th>\n",
       "      <th>country-code</th>\n",
       "      <th>iso_3166-2</th>\n",
       "      <th>region</th>\n",
       "      <th>sub-region</th>\n",
       "      <th>intermediate-region</th>\n",
       "      <th>region-code</th>\n",
       "      <th>sub-region-code</th>\n",
       "      <th>intermediate-region-code</th>\n",
       "    </tr>\n",
       "  </thead>\n",
       "  <tbody>\n",
       "    <tr>\n",
       "      <th>0</th>\n",
       "      <td>Afghanistan</td>\n",
       "      <td>AF</td>\n",
       "      <td>AFG</td>\n",
       "      <td>4</td>\n",
       "      <td>ISO 3166-2:AF</td>\n",
       "      <td>Asia</td>\n",
       "      <td>Southern Asia</td>\n",
       "      <td>NaN</td>\n",
       "      <td>142.0</td>\n",
       "      <td>34.0</td>\n",
       "      <td>NaN</td>\n",
       "    </tr>\n",
       "    <tr>\n",
       "      <th>1</th>\n",
       "      <td>Åland Islands</td>\n",
       "      <td>AX</td>\n",
       "      <td>ALA</td>\n",
       "      <td>248</td>\n",
       "      <td>ISO 3166-2:AX</td>\n",
       "      <td>Europe</td>\n",
       "      <td>Northern Europe</td>\n",
       "      <td>NaN</td>\n",
       "      <td>150.0</td>\n",
       "      <td>154.0</td>\n",
       "      <td>NaN</td>\n",
       "    </tr>\n",
       "    <tr>\n",
       "      <th>2</th>\n",
       "      <td>Albania</td>\n",
       "      <td>AL</td>\n",
       "      <td>ALB</td>\n",
       "      <td>8</td>\n",
       "      <td>ISO 3166-2:AL</td>\n",
       "      <td>Europe</td>\n",
       "      <td>Southern Europe</td>\n",
       "      <td>NaN</td>\n",
       "      <td>150.0</td>\n",
       "      <td>39.0</td>\n",
       "      <td>NaN</td>\n",
       "    </tr>\n",
       "    <tr>\n",
       "      <th>3</th>\n",
       "      <td>Algeria</td>\n",
       "      <td>DZ</td>\n",
       "      <td>DZA</td>\n",
       "      <td>12</td>\n",
       "      <td>ISO 3166-2:DZ</td>\n",
       "      <td>Africa</td>\n",
       "      <td>Northern Africa</td>\n",
       "      <td>NaN</td>\n",
       "      <td>2.0</td>\n",
       "      <td>15.0</td>\n",
       "      <td>NaN</td>\n",
       "    </tr>\n",
       "    <tr>\n",
       "      <th>4</th>\n",
       "      <td>American Samoa</td>\n",
       "      <td>AS</td>\n",
       "      <td>ASM</td>\n",
       "      <td>16</td>\n",
       "      <td>ISO 3166-2:AS</td>\n",
       "      <td>Oceania</td>\n",
       "      <td>Polynesia</td>\n",
       "      <td>NaN</td>\n",
       "      <td>9.0</td>\n",
       "      <td>61.0</td>\n",
       "      <td>NaN</td>\n",
       "    </tr>\n",
       "  </tbody>\n",
       "</table>\n",
       "</div>"
      ],
      "text/plain": [
       "             name alpha-2 alpha-3  country-code     iso_3166-2   region  \\\n",
       "0     Afghanistan      AF     AFG             4  ISO 3166-2:AF     Asia   \n",
       "1   Åland Islands      AX     ALA           248  ISO 3166-2:AX   Europe   \n",
       "2         Albania      AL     ALB             8  ISO 3166-2:AL   Europe   \n",
       "3         Algeria      DZ     DZA            12  ISO 3166-2:DZ   Africa   \n",
       "4  American Samoa      AS     ASM            16  ISO 3166-2:AS  Oceania   \n",
       "\n",
       "        sub-region intermediate-region  region-code  sub-region-code  \\\n",
       "0    Southern Asia                 NaN        142.0             34.0   \n",
       "1  Northern Europe                 NaN        150.0            154.0   \n",
       "2  Southern Europe                 NaN        150.0             39.0   \n",
       "3  Northern Africa                 NaN          2.0             15.0   \n",
       "4        Polynesia                 NaN          9.0             61.0   \n",
       "\n",
       "   intermediate-region-code  \n",
       "0                       NaN  \n",
       "1                       NaN  \n",
       "2                       NaN  \n",
       "3                       NaN  \n",
       "4                       NaN  "
      ]
     },
     "execution_count": 55,
     "metadata": {},
     "output_type": "execute_result"
    }
   ],
   "source": [
    "mapping_country.head()"
   ]
  },
  {
   "cell_type": "code",
   "execution_count": 56,
   "id": "215855a0",
   "metadata": {},
   "outputs": [
    {
     "data": {
      "text/html": [
       "<div>\n",
       "<style scoped>\n",
       "    .dataframe tbody tr th:only-of-type {\n",
       "        vertical-align: middle;\n",
       "    }\n",
       "\n",
       "    .dataframe tbody tr th {\n",
       "        vertical-align: top;\n",
       "    }\n",
       "\n",
       "    .dataframe thead th {\n",
       "        text-align: right;\n",
       "    }\n",
       "</style>\n",
       "<table border=\"1\" class=\"dataframe\">\n",
       "  <thead>\n",
       "    <tr style=\"text-align: right;\">\n",
       "      <th></th>\n",
       "      <th>name</th>\n",
       "      <th>alpha-3</th>\n",
       "      <th>region</th>\n",
       "      <th>sub-region</th>\n",
       "    </tr>\n",
       "  </thead>\n",
       "  <tbody>\n",
       "    <tr>\n",
       "      <th>0</th>\n",
       "      <td>Afghanistan</td>\n",
       "      <td>AFG</td>\n",
       "      <td>Asia</td>\n",
       "      <td>Southern Asia</td>\n",
       "    </tr>\n",
       "    <tr>\n",
       "      <th>1</th>\n",
       "      <td>Åland Islands</td>\n",
       "      <td>ALA</td>\n",
       "      <td>Europe</td>\n",
       "      <td>Northern Europe</td>\n",
       "    </tr>\n",
       "    <tr>\n",
       "      <th>2</th>\n",
       "      <td>Albania</td>\n",
       "      <td>ALB</td>\n",
       "      <td>Europe</td>\n",
       "      <td>Southern Europe</td>\n",
       "    </tr>\n",
       "    <tr>\n",
       "      <th>3</th>\n",
       "      <td>Algeria</td>\n",
       "      <td>DZA</td>\n",
       "      <td>Africa</td>\n",
       "      <td>Northern Africa</td>\n",
       "    </tr>\n",
       "    <tr>\n",
       "      <th>4</th>\n",
       "      <td>American Samoa</td>\n",
       "      <td>ASM</td>\n",
       "      <td>Oceania</td>\n",
       "      <td>Polynesia</td>\n",
       "    </tr>\n",
       "  </tbody>\n",
       "</table>\n",
       "</div>"
      ],
      "text/plain": [
       "             name alpha-3   region       sub-region\n",
       "0     Afghanistan     AFG     Asia    Southern Asia\n",
       "1   Åland Islands     ALA   Europe  Northern Europe\n",
       "2         Albania     ALB   Europe  Southern Europe\n",
       "3         Algeria     DZA   Africa  Northern Africa\n",
       "4  American Samoa     ASM  Oceania        Polynesia"
      ]
     },
     "execution_count": 56,
     "metadata": {},
     "output_type": "execute_result"
    }
   ],
   "source": [
    "# Dropping irrelevant columns\n",
    "mapping_country.drop('alpha-2', inplace=True, axis=1)\n",
    "# Remove all columns between column name 'country-code' to 'iso_3166-2' \n",
    "mapping_country = mapping_country.drop(mapping_country.loc[:, 'country-code':'iso_3166-2'].columns, axis=1)\n",
    "# Remove all columns between column name 'intermediate-region' to 'intermediate-region-code' \n",
    "mapping_country = mapping_country.drop(mapping_country.loc[:, 'intermediate-region':'intermediate-region-code'].columns, axis=1)\n",
    "mapping_country.head()"
   ]
  },
  {
   "cell_type": "code",
   "execution_count": 57,
   "id": "ea7b5fee",
   "metadata": {},
   "outputs": [
    {
     "data": {
      "text/html": [
       "<div>\n",
       "<style scoped>\n",
       "    .dataframe tbody tr th:only-of-type {\n",
       "        vertical-align: middle;\n",
       "    }\n",
       "\n",
       "    .dataframe tbody tr th {\n",
       "        vertical-align: top;\n",
       "    }\n",
       "\n",
       "    .dataframe thead th {\n",
       "        text-align: right;\n",
       "    }\n",
       "</style>\n",
       "<table border=\"1\" class=\"dataframe\">\n",
       "  <thead>\n",
       "    <tr style=\"text-align: right;\">\n",
       "      <th></th>\n",
       "      <th>country</th>\n",
       "      <th>iso_alpha</th>\n",
       "      <th>region</th>\n",
       "      <th>sub_region</th>\n",
       "    </tr>\n",
       "  </thead>\n",
       "  <tbody>\n",
       "    <tr>\n",
       "      <th>0</th>\n",
       "      <td>Afghanistan</td>\n",
       "      <td>AFG</td>\n",
       "      <td>Asia</td>\n",
       "      <td>Southern Asia</td>\n",
       "    </tr>\n",
       "    <tr>\n",
       "      <th>1</th>\n",
       "      <td>Åland Islands</td>\n",
       "      <td>ALA</td>\n",
       "      <td>Europe</td>\n",
       "      <td>Northern Europe</td>\n",
       "    </tr>\n",
       "    <tr>\n",
       "      <th>2</th>\n",
       "      <td>Albania</td>\n",
       "      <td>ALB</td>\n",
       "      <td>Europe</td>\n",
       "      <td>Southern Europe</td>\n",
       "    </tr>\n",
       "    <tr>\n",
       "      <th>3</th>\n",
       "      <td>Algeria</td>\n",
       "      <td>DZA</td>\n",
       "      <td>Africa</td>\n",
       "      <td>Northern Africa</td>\n",
       "    </tr>\n",
       "    <tr>\n",
       "      <th>4</th>\n",
       "      <td>American Samoa</td>\n",
       "      <td>ASM</td>\n",
       "      <td>Oceania</td>\n",
       "      <td>Polynesia</td>\n",
       "    </tr>\n",
       "  </tbody>\n",
       "</table>\n",
       "</div>"
      ],
      "text/plain": [
       "          country iso_alpha   region       sub_region\n",
       "0     Afghanistan       AFG     Asia    Southern Asia\n",
       "1   Åland Islands       ALA   Europe  Northern Europe\n",
       "2         Albania       ALB   Europe  Southern Europe\n",
       "3         Algeria       DZA   Africa  Northern Africa\n",
       "4  American Samoa       ASM  Oceania        Polynesia"
      ]
     },
     "execution_count": 57,
     "metadata": {},
     "output_type": "execute_result"
    }
   ],
   "source": [
    "#Rename the columns for consistency\n",
    "mapping_country = mapping_country.rename({'name':'country','alpha-3':'iso_alpha','sub-region':'sub_region'}, axis =1)\n",
    "mapping_country.head()"
   ]
  },
  {
   "cell_type": "code",
   "execution_count": 58,
   "id": "b6c82c7a",
   "metadata": {},
   "outputs": [
    {
     "data": {
      "text/html": [
       "<div>\n",
       "<style scoped>\n",
       "    .dataframe tbody tr th:only-of-type {\n",
       "        vertical-align: middle;\n",
       "    }\n",
       "\n",
       "    .dataframe tbody tr th {\n",
       "        vertical-align: top;\n",
       "    }\n",
       "\n",
       "    .dataframe thead th {\n",
       "        text-align: right;\n",
       "    }\n",
       "</style>\n",
       "<table border=\"1\" class=\"dataframe\">\n",
       "  <thead>\n",
       "    <tr style=\"text-align: right;\">\n",
       "      <th></th>\n",
       "      <th>country</th>\n",
       "      <th>happiness_rank</th>\n",
       "      <th>happiness_score</th>\n",
       "      <th>gdp_per_capita</th>\n",
       "      <th>social_support</th>\n",
       "      <th>life_expectancy</th>\n",
       "      <th>freedom_to_make_life_choices</th>\n",
       "      <th>perceptions_of_corruption</th>\n",
       "      <th>generosity</th>\n",
       "      <th>iso_alpha</th>\n",
       "      <th>region</th>\n",
       "      <th>sub_region</th>\n",
       "    </tr>\n",
       "  </thead>\n",
       "  <tbody>\n",
       "    <tr>\n",
       "      <th>0</th>\n",
       "      <td>Switzerland</td>\n",
       "      <td>1</td>\n",
       "      <td>7.587</td>\n",
       "      <td>1.39651</td>\n",
       "      <td>1.34951</td>\n",
       "      <td>0.94143</td>\n",
       "      <td>0.66557</td>\n",
       "      <td>0.41978</td>\n",
       "      <td>0.29678</td>\n",
       "      <td>CHE</td>\n",
       "      <td>Europe</td>\n",
       "      <td>Western Europe</td>\n",
       "    </tr>\n",
       "    <tr>\n",
       "      <th>1</th>\n",
       "      <td>Iceland</td>\n",
       "      <td>2</td>\n",
       "      <td>7.561</td>\n",
       "      <td>1.30232</td>\n",
       "      <td>1.40223</td>\n",
       "      <td>0.94784</td>\n",
       "      <td>0.62877</td>\n",
       "      <td>0.14145</td>\n",
       "      <td>0.43630</td>\n",
       "      <td>ISL</td>\n",
       "      <td>Europe</td>\n",
       "      <td>Northern Europe</td>\n",
       "    </tr>\n",
       "    <tr>\n",
       "      <th>2</th>\n",
       "      <td>Denmark</td>\n",
       "      <td>3</td>\n",
       "      <td>7.527</td>\n",
       "      <td>1.32548</td>\n",
       "      <td>1.36058</td>\n",
       "      <td>0.87464</td>\n",
       "      <td>0.64938</td>\n",
       "      <td>0.48357</td>\n",
       "      <td>0.34139</td>\n",
       "      <td>DNK</td>\n",
       "      <td>Europe</td>\n",
       "      <td>Northern Europe</td>\n",
       "    </tr>\n",
       "    <tr>\n",
       "      <th>3</th>\n",
       "      <td>Norway</td>\n",
       "      <td>4</td>\n",
       "      <td>7.522</td>\n",
       "      <td>1.45900</td>\n",
       "      <td>1.33095</td>\n",
       "      <td>0.88521</td>\n",
       "      <td>0.66973</td>\n",
       "      <td>0.36503</td>\n",
       "      <td>0.34699</td>\n",
       "      <td>NOR</td>\n",
       "      <td>Europe</td>\n",
       "      <td>Northern Europe</td>\n",
       "    </tr>\n",
       "    <tr>\n",
       "      <th>4</th>\n",
       "      <td>Canada</td>\n",
       "      <td>5</td>\n",
       "      <td>7.427</td>\n",
       "      <td>1.32629</td>\n",
       "      <td>1.32261</td>\n",
       "      <td>0.90563</td>\n",
       "      <td>0.63297</td>\n",
       "      <td>0.32957</td>\n",
       "      <td>0.45811</td>\n",
       "      <td>CAN</td>\n",
       "      <td>Americas</td>\n",
       "      <td>Northern America</td>\n",
       "    </tr>\n",
       "    <tr>\n",
       "      <th>...</th>\n",
       "      <td>...</td>\n",
       "      <td>...</td>\n",
       "      <td>...</td>\n",
       "      <td>...</td>\n",
       "      <td>...</td>\n",
       "      <td>...</td>\n",
       "      <td>...</td>\n",
       "      <td>...</td>\n",
       "      <td>...</td>\n",
       "      <td>...</td>\n",
       "      <td>...</td>\n",
       "      <td>...</td>\n",
       "    </tr>\n",
       "    <tr>\n",
       "      <th>141</th>\n",
       "      <td>Rwanda</td>\n",
       "      <td>154</td>\n",
       "      <td>3.465</td>\n",
       "      <td>0.22208</td>\n",
       "      <td>0.77370</td>\n",
       "      <td>0.42864</td>\n",
       "      <td>0.59201</td>\n",
       "      <td>0.55191</td>\n",
       "      <td>0.22628</td>\n",
       "      <td>RWA</td>\n",
       "      <td>Africa</td>\n",
       "      <td>Sub-Saharan Africa</td>\n",
       "    </tr>\n",
       "    <tr>\n",
       "      <th>142</th>\n",
       "      <td>Benin</td>\n",
       "      <td>155</td>\n",
       "      <td>3.340</td>\n",
       "      <td>0.28665</td>\n",
       "      <td>0.35386</td>\n",
       "      <td>0.31910</td>\n",
       "      <td>0.48450</td>\n",
       "      <td>0.08010</td>\n",
       "      <td>0.18260</td>\n",
       "      <td>BEN</td>\n",
       "      <td>Africa</td>\n",
       "      <td>Sub-Saharan Africa</td>\n",
       "    </tr>\n",
       "    <tr>\n",
       "      <th>143</th>\n",
       "      <td>Syria</td>\n",
       "      <td>156</td>\n",
       "      <td>3.006</td>\n",
       "      <td>0.66320</td>\n",
       "      <td>0.47489</td>\n",
       "      <td>0.72193</td>\n",
       "      <td>0.15684</td>\n",
       "      <td>0.18906</td>\n",
       "      <td>0.47179</td>\n",
       "      <td>SYR</td>\n",
       "      <td>Asia</td>\n",
       "      <td>Western Asia</td>\n",
       "    </tr>\n",
       "    <tr>\n",
       "      <th>144</th>\n",
       "      <td>Burundi</td>\n",
       "      <td>157</td>\n",
       "      <td>2.905</td>\n",
       "      <td>0.01530</td>\n",
       "      <td>0.41587</td>\n",
       "      <td>0.22396</td>\n",
       "      <td>0.11850</td>\n",
       "      <td>0.10062</td>\n",
       "      <td>0.19727</td>\n",
       "      <td>BDI</td>\n",
       "      <td>Africa</td>\n",
       "      <td>Sub-Saharan Africa</td>\n",
       "    </tr>\n",
       "    <tr>\n",
       "      <th>145</th>\n",
       "      <td>Togo</td>\n",
       "      <td>158</td>\n",
       "      <td>2.839</td>\n",
       "      <td>0.20868</td>\n",
       "      <td>0.13995</td>\n",
       "      <td>0.28443</td>\n",
       "      <td>0.36453</td>\n",
       "      <td>0.10731</td>\n",
       "      <td>0.16681</td>\n",
       "      <td>TGO</td>\n",
       "      <td>Africa</td>\n",
       "      <td>Sub-Saharan Africa</td>\n",
       "    </tr>\n",
       "  </tbody>\n",
       "</table>\n",
       "<p>146 rows × 12 columns</p>\n",
       "</div>"
      ],
      "text/plain": [
       "         country  happiness_rank  happiness_score  gdp_per_capita  \\\n",
       "0    Switzerland               1            7.587         1.39651   \n",
       "1        Iceland               2            7.561         1.30232   \n",
       "2        Denmark               3            7.527         1.32548   \n",
       "3         Norway               4            7.522         1.45900   \n",
       "4         Canada               5            7.427         1.32629   \n",
       "..           ...             ...              ...             ...   \n",
       "141       Rwanda             154            3.465         0.22208   \n",
       "142        Benin             155            3.340         0.28665   \n",
       "143        Syria             156            3.006         0.66320   \n",
       "144      Burundi             157            2.905         0.01530   \n",
       "145         Togo             158            2.839         0.20868   \n",
       "\n",
       "     social_support  life_expectancy  freedom_to_make_life_choices  \\\n",
       "0           1.34951          0.94143                       0.66557   \n",
       "1           1.40223          0.94784                       0.62877   \n",
       "2           1.36058          0.87464                       0.64938   \n",
       "3           1.33095          0.88521                       0.66973   \n",
       "4           1.32261          0.90563                       0.63297   \n",
       "..              ...              ...                           ...   \n",
       "141         0.77370          0.42864                       0.59201   \n",
       "142         0.35386          0.31910                       0.48450   \n",
       "143         0.47489          0.72193                       0.15684   \n",
       "144         0.41587          0.22396                       0.11850   \n",
       "145         0.13995          0.28443                       0.36453   \n",
       "\n",
       "     perceptions_of_corruption  generosity iso_alpha    region  \\\n",
       "0                      0.41978     0.29678       CHE    Europe   \n",
       "1                      0.14145     0.43630       ISL    Europe   \n",
       "2                      0.48357     0.34139       DNK    Europe   \n",
       "3                      0.36503     0.34699       NOR    Europe   \n",
       "4                      0.32957     0.45811       CAN  Americas   \n",
       "..                         ...         ...       ...       ...   \n",
       "141                    0.55191     0.22628       RWA    Africa   \n",
       "142                    0.08010     0.18260       BEN    Africa   \n",
       "143                    0.18906     0.47179       SYR      Asia   \n",
       "144                    0.10062     0.19727       BDI    Africa   \n",
       "145                    0.10731     0.16681       TGO    Africa   \n",
       "\n",
       "             sub_region  \n",
       "0        Western Europe  \n",
       "1       Northern Europe  \n",
       "2       Northern Europe  \n",
       "3       Northern Europe  \n",
       "4      Northern America  \n",
       "..                  ...  \n",
       "141  Sub-Saharan Africa  \n",
       "142  Sub-Saharan Africa  \n",
       "143        Western Asia  \n",
       "144  Sub-Saharan Africa  \n",
       "145  Sub-Saharan Africa  \n",
       "\n",
       "[146 rows x 12 columns]"
      ]
     },
     "execution_count": 58,
     "metadata": {},
     "output_type": "execute_result"
    }
   ],
   "source": [
    "\n",
    "df_2015 = df1.merge(mapping_country, on='country', how='left')\n",
    "\n",
    "df_2015"
   ]
  },
  {
   "cell_type": "code",
   "execution_count": 59,
   "id": "746ffb6e",
   "metadata": {},
   "outputs": [
    {
     "data": {
      "text/plain": [
       "country                         0\n",
       "happiness_rank                  0\n",
       "happiness_score                 0\n",
       "gdp_per_capita                  0\n",
       "social_support                  0\n",
       "life_expectancy                 0\n",
       "freedom_to_make_life_choices    0\n",
       "perceptions_of_corruption       0\n",
       "generosity                      0\n",
       "iso_alpha                       7\n",
       "region                          7\n",
       "sub_region                      7\n",
       "dtype: int64"
      ]
     },
     "execution_count": 59,
     "metadata": {},
     "output_type": "execute_result"
    }
   ],
   "source": [
    "df_2015.isnull().sum()"
   ]
  },
  {
   "cell_type": "code",
   "execution_count": 60,
   "id": "e3fca118",
   "metadata": {},
   "outputs": [
    {
     "data": {
      "text/html": [
       "<div>\n",
       "<style scoped>\n",
       "    .dataframe tbody tr th:only-of-type {\n",
       "        vertical-align: middle;\n",
       "    }\n",
       "\n",
       "    .dataframe tbody tr th {\n",
       "        vertical-align: top;\n",
       "    }\n",
       "\n",
       "    .dataframe thead th {\n",
       "        text-align: right;\n",
       "    }\n",
       "</style>\n",
       "<table border=\"1\" class=\"dataframe\">\n",
       "  <thead>\n",
       "    <tr style=\"text-align: right;\">\n",
       "      <th></th>\n",
       "      <th>country</th>\n",
       "      <th>happiness_rank</th>\n",
       "      <th>happiness_score</th>\n",
       "      <th>gdp_per_capita</th>\n",
       "      <th>social_support</th>\n",
       "      <th>life_expectancy</th>\n",
       "      <th>freedom_to_make_life_choices</th>\n",
       "      <th>perceptions_of_corruption</th>\n",
       "      <th>generosity</th>\n",
       "      <th>iso_alpha</th>\n",
       "      <th>region</th>\n",
       "      <th>sub_region</th>\n",
       "    </tr>\n",
       "  </thead>\n",
       "  <tbody>\n",
       "    <tr>\n",
       "      <th>0</th>\n",
       "      <td>Switzerland</td>\n",
       "      <td>1</td>\n",
       "      <td>7.587</td>\n",
       "      <td>1.39651</td>\n",
       "      <td>1.34951</td>\n",
       "      <td>0.94143</td>\n",
       "      <td>0.66557</td>\n",
       "      <td>0.41978</td>\n",
       "      <td>0.29678</td>\n",
       "      <td>CHE</td>\n",
       "      <td>Europe</td>\n",
       "      <td>Western Europe</td>\n",
       "    </tr>\n",
       "    <tr>\n",
       "      <th>1</th>\n",
       "      <td>Iceland</td>\n",
       "      <td>2</td>\n",
       "      <td>7.561</td>\n",
       "      <td>1.30232</td>\n",
       "      <td>1.40223</td>\n",
       "      <td>0.94784</td>\n",
       "      <td>0.62877</td>\n",
       "      <td>0.14145</td>\n",
       "      <td>0.43630</td>\n",
       "      <td>ISL</td>\n",
       "      <td>Europe</td>\n",
       "      <td>Northern Europe</td>\n",
       "    </tr>\n",
       "    <tr>\n",
       "      <th>2</th>\n",
       "      <td>Denmark</td>\n",
       "      <td>3</td>\n",
       "      <td>7.527</td>\n",
       "      <td>1.32548</td>\n",
       "      <td>1.36058</td>\n",
       "      <td>0.87464</td>\n",
       "      <td>0.64938</td>\n",
       "      <td>0.48357</td>\n",
       "      <td>0.34139</td>\n",
       "      <td>DNK</td>\n",
       "      <td>Europe</td>\n",
       "      <td>Northern Europe</td>\n",
       "    </tr>\n",
       "    <tr>\n",
       "      <th>3</th>\n",
       "      <td>Norway</td>\n",
       "      <td>4</td>\n",
       "      <td>7.522</td>\n",
       "      <td>1.45900</td>\n",
       "      <td>1.33095</td>\n",
       "      <td>0.88521</td>\n",
       "      <td>0.66973</td>\n",
       "      <td>0.36503</td>\n",
       "      <td>0.34699</td>\n",
       "      <td>NOR</td>\n",
       "      <td>Europe</td>\n",
       "      <td>Northern Europe</td>\n",
       "    </tr>\n",
       "    <tr>\n",
       "      <th>4</th>\n",
       "      <td>Canada</td>\n",
       "      <td>5</td>\n",
       "      <td>7.427</td>\n",
       "      <td>1.32629</td>\n",
       "      <td>1.32261</td>\n",
       "      <td>0.90563</td>\n",
       "      <td>0.63297</td>\n",
       "      <td>0.32957</td>\n",
       "      <td>0.45811</td>\n",
       "      <td>CAN</td>\n",
       "      <td>Americas</td>\n",
       "      <td>Northern America</td>\n",
       "    </tr>\n",
       "    <tr>\n",
       "      <th>...</th>\n",
       "      <td>...</td>\n",
       "      <td>...</td>\n",
       "      <td>...</td>\n",
       "      <td>...</td>\n",
       "      <td>...</td>\n",
       "      <td>...</td>\n",
       "      <td>...</td>\n",
       "      <td>...</td>\n",
       "      <td>...</td>\n",
       "      <td>...</td>\n",
       "      <td>...</td>\n",
       "      <td>...</td>\n",
       "    </tr>\n",
       "    <tr>\n",
       "      <th>141</th>\n",
       "      <td>Rwanda</td>\n",
       "      <td>154</td>\n",
       "      <td>3.465</td>\n",
       "      <td>0.22208</td>\n",
       "      <td>0.77370</td>\n",
       "      <td>0.42864</td>\n",
       "      <td>0.59201</td>\n",
       "      <td>0.55191</td>\n",
       "      <td>0.22628</td>\n",
       "      <td>RWA</td>\n",
       "      <td>Africa</td>\n",
       "      <td>Sub-Saharan Africa</td>\n",
       "    </tr>\n",
       "    <tr>\n",
       "      <th>142</th>\n",
       "      <td>Benin</td>\n",
       "      <td>155</td>\n",
       "      <td>3.340</td>\n",
       "      <td>0.28665</td>\n",
       "      <td>0.35386</td>\n",
       "      <td>0.31910</td>\n",
       "      <td>0.48450</td>\n",
       "      <td>0.08010</td>\n",
       "      <td>0.18260</td>\n",
       "      <td>BEN</td>\n",
       "      <td>Africa</td>\n",
       "      <td>Sub-Saharan Africa</td>\n",
       "    </tr>\n",
       "    <tr>\n",
       "      <th>143</th>\n",
       "      <td>Syria</td>\n",
       "      <td>156</td>\n",
       "      <td>3.006</td>\n",
       "      <td>0.66320</td>\n",
       "      <td>0.47489</td>\n",
       "      <td>0.72193</td>\n",
       "      <td>0.15684</td>\n",
       "      <td>0.18906</td>\n",
       "      <td>0.47179</td>\n",
       "      <td>SYR</td>\n",
       "      <td>Asia</td>\n",
       "      <td>Western Asia</td>\n",
       "    </tr>\n",
       "    <tr>\n",
       "      <th>144</th>\n",
       "      <td>Burundi</td>\n",
       "      <td>157</td>\n",
       "      <td>2.905</td>\n",
       "      <td>0.01530</td>\n",
       "      <td>0.41587</td>\n",
       "      <td>0.22396</td>\n",
       "      <td>0.11850</td>\n",
       "      <td>0.10062</td>\n",
       "      <td>0.19727</td>\n",
       "      <td>BDI</td>\n",
       "      <td>Africa</td>\n",
       "      <td>Sub-Saharan Africa</td>\n",
       "    </tr>\n",
       "    <tr>\n",
       "      <th>145</th>\n",
       "      <td>Togo</td>\n",
       "      <td>158</td>\n",
       "      <td>2.839</td>\n",
       "      <td>0.20868</td>\n",
       "      <td>0.13995</td>\n",
       "      <td>0.28443</td>\n",
       "      <td>0.36453</td>\n",
       "      <td>0.10731</td>\n",
       "      <td>0.16681</td>\n",
       "      <td>TGO</td>\n",
       "      <td>Africa</td>\n",
       "      <td>Sub-Saharan Africa</td>\n",
       "    </tr>\n",
       "  </tbody>\n",
       "</table>\n",
       "<p>139 rows × 12 columns</p>\n",
       "</div>"
      ],
      "text/plain": [
       "         country  happiness_rank  happiness_score  gdp_per_capita  \\\n",
       "0    Switzerland               1            7.587         1.39651   \n",
       "1        Iceland               2            7.561         1.30232   \n",
       "2        Denmark               3            7.527         1.32548   \n",
       "3         Norway               4            7.522         1.45900   \n",
       "4         Canada               5            7.427         1.32629   \n",
       "..           ...             ...              ...             ...   \n",
       "141       Rwanda             154            3.465         0.22208   \n",
       "142        Benin             155            3.340         0.28665   \n",
       "143        Syria             156            3.006         0.66320   \n",
       "144      Burundi             157            2.905         0.01530   \n",
       "145         Togo             158            2.839         0.20868   \n",
       "\n",
       "     social_support  life_expectancy  freedom_to_make_life_choices  \\\n",
       "0           1.34951          0.94143                       0.66557   \n",
       "1           1.40223          0.94784                       0.62877   \n",
       "2           1.36058          0.87464                       0.64938   \n",
       "3           1.33095          0.88521                       0.66973   \n",
       "4           1.32261          0.90563                       0.63297   \n",
       "..              ...              ...                           ...   \n",
       "141         0.77370          0.42864                       0.59201   \n",
       "142         0.35386          0.31910                       0.48450   \n",
       "143         0.47489          0.72193                       0.15684   \n",
       "144         0.41587          0.22396                       0.11850   \n",
       "145         0.13995          0.28443                       0.36453   \n",
       "\n",
       "     perceptions_of_corruption  generosity iso_alpha    region  \\\n",
       "0                      0.41978     0.29678       CHE    Europe   \n",
       "1                      0.14145     0.43630       ISL    Europe   \n",
       "2                      0.48357     0.34139       DNK    Europe   \n",
       "3                      0.36503     0.34699       NOR    Europe   \n",
       "4                      0.32957     0.45811       CAN  Americas   \n",
       "..                         ...         ...       ...       ...   \n",
       "141                    0.55191     0.22628       RWA    Africa   \n",
       "142                    0.08010     0.18260       BEN    Africa   \n",
       "143                    0.18906     0.47179       SYR      Asia   \n",
       "144                    0.10062     0.19727       BDI    Africa   \n",
       "145                    0.10731     0.16681       TGO    Africa   \n",
       "\n",
       "             sub_region  \n",
       "0        Western Europe  \n",
       "1       Northern Europe  \n",
       "2       Northern Europe  \n",
       "3       Northern Europe  \n",
       "4      Northern America  \n",
       "..                  ...  \n",
       "141  Sub-Saharan Africa  \n",
       "142  Sub-Saharan Africa  \n",
       "143        Western Asia  \n",
       "144  Sub-Saharan Africa  \n",
       "145  Sub-Saharan Africa  \n",
       "\n",
       "[139 rows x 12 columns]"
      ]
     },
     "execution_count": 60,
     "metadata": {},
     "output_type": "execute_result"
    }
   ],
   "source": [
    "df_2015.dropna(inplace=True)\n",
    "df_2015"
   ]
  },
  {
   "cell_type": "code",
   "execution_count": 61,
   "id": "d688a1e5",
   "metadata": {
    "scrolled": true
   },
   "outputs": [
    {
     "data": {
      "text/html": [
       "<div>\n",
       "<style scoped>\n",
       "    .dataframe tbody tr th:only-of-type {\n",
       "        vertical-align: middle;\n",
       "    }\n",
       "\n",
       "    .dataframe tbody tr th {\n",
       "        vertical-align: top;\n",
       "    }\n",
       "\n",
       "    .dataframe thead th {\n",
       "        text-align: right;\n",
       "    }\n",
       "</style>\n",
       "<table border=\"1\" class=\"dataframe\">\n",
       "  <thead>\n",
       "    <tr style=\"text-align: right;\">\n",
       "      <th></th>\n",
       "      <th>country</th>\n",
       "      <th>region</th>\n",
       "      <th>sub_region</th>\n",
       "      <th>iso_alpha</th>\n",
       "      <th>happiness_score</th>\n",
       "      <th>gdp_per_capita</th>\n",
       "      <th>social_support</th>\n",
       "      <th>life_expectancy</th>\n",
       "      <th>freedom_to_make_life_choices</th>\n",
       "      <th>generosity</th>\n",
       "      <th>perceptions_of_corruption</th>\n",
       "    </tr>\n",
       "  </thead>\n",
       "  <tbody>\n",
       "    <tr>\n",
       "      <th>0</th>\n",
       "      <td>Switzerland</td>\n",
       "      <td>Europe</td>\n",
       "      <td>Western Europe</td>\n",
       "      <td>CHE</td>\n",
       "      <td>7.587</td>\n",
       "      <td>1.39651</td>\n",
       "      <td>1.34951</td>\n",
       "      <td>0.94143</td>\n",
       "      <td>0.66557</td>\n",
       "      <td>0.29678</td>\n",
       "      <td>0.41978</td>\n",
       "    </tr>\n",
       "    <tr>\n",
       "      <th>1</th>\n",
       "      <td>Iceland</td>\n",
       "      <td>Europe</td>\n",
       "      <td>Northern Europe</td>\n",
       "      <td>ISL</td>\n",
       "      <td>7.561</td>\n",
       "      <td>1.30232</td>\n",
       "      <td>1.40223</td>\n",
       "      <td>0.94784</td>\n",
       "      <td>0.62877</td>\n",
       "      <td>0.43630</td>\n",
       "      <td>0.14145</td>\n",
       "    </tr>\n",
       "    <tr>\n",
       "      <th>2</th>\n",
       "      <td>Denmark</td>\n",
       "      <td>Europe</td>\n",
       "      <td>Northern Europe</td>\n",
       "      <td>DNK</td>\n",
       "      <td>7.527</td>\n",
       "      <td>1.32548</td>\n",
       "      <td>1.36058</td>\n",
       "      <td>0.87464</td>\n",
       "      <td>0.64938</td>\n",
       "      <td>0.34139</td>\n",
       "      <td>0.48357</td>\n",
       "    </tr>\n",
       "    <tr>\n",
       "      <th>3</th>\n",
       "      <td>Norway</td>\n",
       "      <td>Europe</td>\n",
       "      <td>Northern Europe</td>\n",
       "      <td>NOR</td>\n",
       "      <td>7.522</td>\n",
       "      <td>1.45900</td>\n",
       "      <td>1.33095</td>\n",
       "      <td>0.88521</td>\n",
       "      <td>0.66973</td>\n",
       "      <td>0.34699</td>\n",
       "      <td>0.36503</td>\n",
       "    </tr>\n",
       "    <tr>\n",
       "      <th>4</th>\n",
       "      <td>Canada</td>\n",
       "      <td>Americas</td>\n",
       "      <td>Northern America</td>\n",
       "      <td>CAN</td>\n",
       "      <td>7.427</td>\n",
       "      <td>1.32629</td>\n",
       "      <td>1.32261</td>\n",
       "      <td>0.90563</td>\n",
       "      <td>0.63297</td>\n",
       "      <td>0.45811</td>\n",
       "      <td>0.32957</td>\n",
       "    </tr>\n",
       "    <tr>\n",
       "      <th>...</th>\n",
       "      <td>...</td>\n",
       "      <td>...</td>\n",
       "      <td>...</td>\n",
       "      <td>...</td>\n",
       "      <td>...</td>\n",
       "      <td>...</td>\n",
       "      <td>...</td>\n",
       "      <td>...</td>\n",
       "      <td>...</td>\n",
       "      <td>...</td>\n",
       "      <td>...</td>\n",
       "    </tr>\n",
       "    <tr>\n",
       "      <th>141</th>\n",
       "      <td>Rwanda</td>\n",
       "      <td>Africa</td>\n",
       "      <td>Sub-Saharan Africa</td>\n",
       "      <td>RWA</td>\n",
       "      <td>3.465</td>\n",
       "      <td>0.22208</td>\n",
       "      <td>0.77370</td>\n",
       "      <td>0.42864</td>\n",
       "      <td>0.59201</td>\n",
       "      <td>0.22628</td>\n",
       "      <td>0.55191</td>\n",
       "    </tr>\n",
       "    <tr>\n",
       "      <th>142</th>\n",
       "      <td>Benin</td>\n",
       "      <td>Africa</td>\n",
       "      <td>Sub-Saharan Africa</td>\n",
       "      <td>BEN</td>\n",
       "      <td>3.340</td>\n",
       "      <td>0.28665</td>\n",
       "      <td>0.35386</td>\n",
       "      <td>0.31910</td>\n",
       "      <td>0.48450</td>\n",
       "      <td>0.18260</td>\n",
       "      <td>0.08010</td>\n",
       "    </tr>\n",
       "    <tr>\n",
       "      <th>143</th>\n",
       "      <td>Syria</td>\n",
       "      <td>Asia</td>\n",
       "      <td>Western Asia</td>\n",
       "      <td>SYR</td>\n",
       "      <td>3.006</td>\n",
       "      <td>0.66320</td>\n",
       "      <td>0.47489</td>\n",
       "      <td>0.72193</td>\n",
       "      <td>0.15684</td>\n",
       "      <td>0.47179</td>\n",
       "      <td>0.18906</td>\n",
       "    </tr>\n",
       "    <tr>\n",
       "      <th>144</th>\n",
       "      <td>Burundi</td>\n",
       "      <td>Africa</td>\n",
       "      <td>Sub-Saharan Africa</td>\n",
       "      <td>BDI</td>\n",
       "      <td>2.905</td>\n",
       "      <td>0.01530</td>\n",
       "      <td>0.41587</td>\n",
       "      <td>0.22396</td>\n",
       "      <td>0.11850</td>\n",
       "      <td>0.19727</td>\n",
       "      <td>0.10062</td>\n",
       "    </tr>\n",
       "    <tr>\n",
       "      <th>145</th>\n",
       "      <td>Togo</td>\n",
       "      <td>Africa</td>\n",
       "      <td>Sub-Saharan Africa</td>\n",
       "      <td>TGO</td>\n",
       "      <td>2.839</td>\n",
       "      <td>0.20868</td>\n",
       "      <td>0.13995</td>\n",
       "      <td>0.28443</td>\n",
       "      <td>0.36453</td>\n",
       "      <td>0.16681</td>\n",
       "      <td>0.10731</td>\n",
       "    </tr>\n",
       "  </tbody>\n",
       "</table>\n",
       "<p>139 rows × 11 columns</p>\n",
       "</div>"
      ],
      "text/plain": [
       "         country    region          sub_region iso_alpha  happiness_score  \\\n",
       "0    Switzerland    Europe      Western Europe       CHE            7.587   \n",
       "1        Iceland    Europe     Northern Europe       ISL            7.561   \n",
       "2        Denmark    Europe     Northern Europe       DNK            7.527   \n",
       "3         Norway    Europe     Northern Europe       NOR            7.522   \n",
       "4         Canada  Americas    Northern America       CAN            7.427   \n",
       "..           ...       ...                 ...       ...              ...   \n",
       "141       Rwanda    Africa  Sub-Saharan Africa       RWA            3.465   \n",
       "142        Benin    Africa  Sub-Saharan Africa       BEN            3.340   \n",
       "143        Syria      Asia        Western Asia       SYR            3.006   \n",
       "144      Burundi    Africa  Sub-Saharan Africa       BDI            2.905   \n",
       "145         Togo    Africa  Sub-Saharan Africa       TGO            2.839   \n",
       "\n",
       "     gdp_per_capita  social_support  life_expectancy  \\\n",
       "0           1.39651         1.34951          0.94143   \n",
       "1           1.30232         1.40223          0.94784   \n",
       "2           1.32548         1.36058          0.87464   \n",
       "3           1.45900         1.33095          0.88521   \n",
       "4           1.32629         1.32261          0.90563   \n",
       "..              ...             ...              ...   \n",
       "141         0.22208         0.77370          0.42864   \n",
       "142         0.28665         0.35386          0.31910   \n",
       "143         0.66320         0.47489          0.72193   \n",
       "144         0.01530         0.41587          0.22396   \n",
       "145         0.20868         0.13995          0.28443   \n",
       "\n",
       "     freedom_to_make_life_choices  generosity  perceptions_of_corruption  \n",
       "0                         0.66557     0.29678                    0.41978  \n",
       "1                         0.62877     0.43630                    0.14145  \n",
       "2                         0.64938     0.34139                    0.48357  \n",
       "3                         0.66973     0.34699                    0.36503  \n",
       "4                         0.63297     0.45811                    0.32957  \n",
       "..                            ...         ...                        ...  \n",
       "141                       0.59201     0.22628                    0.55191  \n",
       "142                       0.48450     0.18260                    0.08010  \n",
       "143                       0.15684     0.47179                    0.18906  \n",
       "144                       0.11850     0.19727                    0.10062  \n",
       "145                       0.36453     0.16681                    0.10731  \n",
       "\n",
       "[139 rows x 11 columns]"
      ]
     },
     "execution_count": 61,
     "metadata": {},
     "output_type": "execute_result"
    }
   ],
   "source": [
    "df_2015=df_2015[[\"country\",\"region\",\"sub_region\",\"iso_alpha\",\"happiness_score\",\"gdp_per_capita\",\"social_support\",\"life_expectancy\",\"freedom_to_make_life_choices\",\"generosity\",\"perceptions_of_corruption\"]]\n",
    "df_2015"
   ]
  },
  {
   "cell_type": "code",
   "execution_count": 62,
   "id": "859ef524",
   "metadata": {},
   "outputs": [
    {
     "data": {
      "text/plain": [
       "country                         0\n",
       "region                          0\n",
       "sub_region                      0\n",
       "iso_alpha                       0\n",
       "happiness_score                 0\n",
       "gdp_per_capita                  0\n",
       "social_support                  0\n",
       "life_expectancy                 0\n",
       "freedom_to_make_life_choices    0\n",
       "generosity                      0\n",
       "perceptions_of_corruption       0\n",
       "dtype: int64"
      ]
     },
     "execution_count": 62,
     "metadata": {},
     "output_type": "execute_result"
    }
   ],
   "source": [
    "df_2015.isnull().sum()"
   ]
  },
  {
   "cell_type": "code",
   "execution_count": 63,
   "id": "afc3b5c8",
   "metadata": {},
   "outputs": [
    {
     "data": {
      "text/plain": [
       "country                         0\n",
       "region                          0\n",
       "sub_region                      0\n",
       "iso_alpha                       0\n",
       "happiness_score                 0\n",
       "gdp_per_capita                  0\n",
       "social_support                  0\n",
       "life_expectancy                 0\n",
       "freedom_to_make_life_choices    0\n",
       "generosity                      0\n",
       "perceptions_of_corruption       0\n",
       "dtype: int64"
      ]
     },
     "execution_count": 63,
     "metadata": {},
     "output_type": "execute_result"
    }
   ],
   "source": [
    "df_2015.isna().sum()"
   ]
  },
  {
   "cell_type": "code",
   "execution_count": 64,
   "id": "baf1b5e4",
   "metadata": {},
   "outputs": [
    {
     "data": {
      "image/png": "[encoded data removed]",
      "text/plain": [
       "<Figure size 1000x800 with 1 Axes>"
      ]
     },
     "metadata": {},
     "output_type": "display_data"
    }
   ],
   "source": [
    "# Happiest and Unhappiest Countries for Year 2015 \n",
    "\n",
    "top10 = df_2015.set_index('country')['happiness_score'].nlargest(10).to_frame()\n",
    "bottom10 = df_2015.set_index('country')['happiness_score'].nsmallest(10).to_frame()\n",
    "dfconcat = pd.concat([top10, bottom10], axis=0)\n",
    "dfconcat = dfconcat.sort_values(by=\"happiness_score\")\n",
    "\n",
    "fig = plt.figure(figsize=(10,8))\n",
    "cmap = plt.cm.RdYlGn\n",
    "norm = plt.Normalize(vmin=dfconcat['happiness_score'].min(), vmax=dfconcat['happiness_score'].max())\n",
    "colors = [cmap(norm(value)) for value in dfconcat['happiness_score']]\n",
    "\n",
    "g = plt.barh(y=dfconcat.index, width=dfconcat[\"happiness_score\"], color= colors)\n",
    "plt.ylabel(\"Country\")\n",
    "plt.xlabel(\"Happiness Score\")\n",
    "plt.title(\"10 happiest and least happiest Countries\", fontsize = 20)\n",
    "\n",
    "plt.show()\n"
   ]
  },
  {
   "cell_type": "code",
   "execution_count": 65,
   "id": "068b2822",
   "metadata": {},
   "outputs": [
    {
     "data": {
      "application/vnd.plotly.v1+json": {
       "config": {
        "plotlyServerURL": "https://plot.ly"
       },
       "data": [
        {
         "branchvalues": "total",
         "customdata": [
          [
           3.575
          ],
          [
           4.959
          ],
          [
           5.605
          ],
          [
           4.033
          ],
          [
           6.574
          ],
          [
           4.35
          ],
          [
           7.284
          ],
          [
           7.2
          ],
          [
           5.212
          ],
          [
           5.96
          ],
          [
           4.694
          ],
          [
           5.813
          ],
          [
           6.937000000000001
          ],
          [
           3.34
          ],
          [
           5.253
          ],
          [
           5.89
          ],
          [
           4.332
          ],
          [
           6.983
          ],
          [
           4.218
          ],
          [
           3.587
          ],
          [
           2.905
          ],
          [
           3.819
          ],
          [
           4.252
          ],
          [
           7.427
          ],
          [
           3.667
          ],
          [
           6.67
          ],
          [
           5.14
          ],
          [
           6.476999999999999
          ],
          [
           7.225999999999999
          ],
          [
           5.759
          ],
          [
           5.689
          ],
          [
           6.505
          ],
          [
           7.527
          ],
          [
           4.885
          ],
          [
           5.975
          ],
          [
           4.194
          ],
          [
           6.130000000000001
          ],
          [
           5.429
          ],
          [
           4.512
          ],
          [
           7.406
          ],
          [
           6.575
          ],
          [
           3.896
          ],
          [
           4.297
          ],
          [
           6.75
          ],
          [
           4.633
          ],
          [
           4.857
          ],
          [
           6.123
          ],
          [
           3.656
          ],
          [
           4.518
          ],
          [
           4.788
          ],
          [
           4.8
          ],
          [
           7.561
          ],
          [
           4.565
          ],
          [
           5.399
          ],
          [
           4.686
          ],
          [
           4.677
          ],
          [
           6.94
          ],
          [
           7.278
          ],
          [
           5.948
          ],
          [
           5.7090000000000005
          ],
          [
           5.987
          ],
          [
           5.192
          ],
          [
           5.855
          ],
          [
           4.419
          ],
          [
           6.294999999999999
          ],
          [
           5.286
          ],
          [
           5.098
          ],
          [
           4.839
          ],
          [
           4.571
          ],
          [
           5.754
          ],
          [
           5.833
          ],
          [
           6.946
          ],
          [
           5.007
          ],
          [
           3.681
          ],
          [
           4.292
          ],
          [
           5.77
          ],
          [
           3.995
          ],
          [
           6.302
          ],
          [
           4.436
          ],
          [
           5.477
          ],
          [
           7.187
          ],
          [
           5.888999999999999
          ],
          [
           4.874
          ],
          [
           5.192
          ],
          [
           5.013
          ],
          [
           4.307
          ],
          [
           4.514
          ],
          [
           7.378
          ],
          [
           7.286
          ],
          [
           5.828000000000001
          ],
          [
           3.845
          ],
          [
           5.268
          ],
          [
           7.522
          ],
          [
           5.194
          ],
          [
           6.786
          ],
          [
           5.878
          ],
          [
           5.824
          ],
          [
           5.073
          ],
          [
           5.791
          ],
          [
           5.102
          ],
          [
           6.611
          ],
          [
           5.124
          ],
          [
           5.716
          ],
          [
           3.465
          ],
          [
           6.411
          ],
          [
           3.904
          ],
          [
           5.123
          ],
          [
           4.507
          ],
          [
           6.798
          ],
          [
           5.994999999999999
          ],
          [
           5.848
          ],
          [
           4.642
          ],
          [
           5.984
          ],
          [
           6.329000000000001
          ],
          [
           4.271
          ],
          [
           4.55
          ],
          [
           7.364
          ],
          [
           7.587
          ],
          [
           3.006
          ],
          [
           4.786
          ],
          [
           3.7810000000000006
          ],
          [
           6.455
          ],
          [
           2.839
          ],
          [
           6.168
          ],
          [
           4.739
          ],
          [
           5.332
          ],
          [
           5.548
          ],
          [
           3.931
          ],
          [
           4.681
          ],
          [
           6.901
          ],
          [
           6.867
          ],
          [
           7.119
          ],
          [
           6.485000000000001
          ],
          [
           6.003
          ],
          [
           6.81
          ],
          [
           5.36
          ],
          [
           4.077
          ],
          [
           5.129
          ],
          [
           4.61
          ],
          [
           7.285000137268359
          ],
          [
           5.529693936967756
          ],
          [
           5.541410097793951
          ],
          [
           5.536810276534879
          ],
          [
           6.225103216097553
          ],
          [
           5.037848501088595
          ],
          [
           7.27626082771896
          ],
          [
           6.8735708321613105
          ],
          [
           5.535512645122264
          ],
          [
           4.647403243360906
          ],
          [
           5.543969648826664
          ],
          [
           4.2174411521257475
          ],
          [
           5.6172817931659065
          ],
          [
           7.06862987867863
          ],
          [
           4.381319523618361
          ],
          [
           6.331684413773874
          ],
          [
           5.416493793045796
          ],
          [
           6.254244904648134
          ],
          [
           7.285000137268359
          ]
         ],
         "domain": {
          "x": [
           0,
           1
          ],
          "y": [
           0,
           1
          ]
         },
         "hovertemplate": "labels=%{label}<br>happiness_score_sum=%{value}<br>parent=%{parent}<br>id=%{id}<br>happiness_score=%{color}<extra></extra>",
         "ids": [
          "Asia/Southern Asia/Afghanistan",
          "Europe/Southern Europe/Albania",
          "Africa/Northern Africa/Algeria",
          "Africa/Sub-Saharan Africa/Angola",
          "Americas/Latin America and the Caribbean/Argentina",
          "Asia/Western Asia/Armenia",
          "Oceania/Australia and New Zealand/Australia",
          "Europe/Western Europe/Austria",
          "Asia/Western Asia/Azerbaijan",
          "Asia/Western Asia/Bahrain",
          "Asia/Southern Asia/Bangladesh",
          "Europe/Eastern Europe/Belarus",
          "Europe/Western Europe/Belgium",
          "Africa/Sub-Saharan Africa/Benin",
          "Asia/Southern Asia/Bhutan",
          "Americas/Latin America and the Caribbean/Bolivia",
          "Africa/Sub-Saharan Africa/Botswana",
          "Americas/Latin America and the Caribbean/Brazil",
          "Europe/Eastern Europe/Bulgaria",
          "Africa/Sub-Saharan Africa/Burkina Faso",
          "Africa/Sub-Saharan Africa/Burundi",
          "Asia/South-eastern Asia/Cambodia",
          "Africa/Sub-Saharan Africa/Cameroon",
          "Americas/Northern America/Canada",
          "Africa/Sub-Saharan Africa/Chad",
          "Americas/Latin America and the Caribbean/Chile",
          "Asia/Eastern Asia/China",
          "Americas/Latin America and the Caribbean/Colombia",
          "Americas/Latin America and the Caribbean/Costa Rica",
          "Europe/Southern Europe/Croatia",
          "Asia/Western Asia/Cyprus",
          "Europe/Eastern Europe/Czech Republic",
          "Europe/Northern Europe/Denmark",
          "Americas/Latin America and the Caribbean/Dominican Republic",
          "Americas/Latin America and the Caribbean/Ecuador",
          "Africa/Northern Africa/Egypt",
          "Americas/Latin America and the Caribbean/El Salvador",
          "Europe/Northern Europe/Estonia",
          "Africa/Sub-Saharan Africa/Ethiopia",
          "Europe/Northern Europe/Finland",
          "Europe/Western Europe/France",
          "Africa/Sub-Saharan Africa/Gabon",
          "Asia/Western Asia/Georgia",
          "Europe/Western Europe/Germany",
          "Africa/Sub-Saharan Africa/Ghana",
          "Europe/Southern Europe/Greece",
          "Americas/Latin America and the Caribbean/Guatemala",
          "Africa/Sub-Saharan Africa/Guinea",
          "Americas/Latin America and the Caribbean/Haiti",
          "Americas/Latin America and the Caribbean/Honduras",
          "Europe/Eastern Europe/Hungary",
          "Europe/Northern Europe/Iceland",
          "Asia/Southern Asia/India",
          "Asia/South-eastern Asia/Indonesia",
          "Asia/Southern Asia/Iran",
          "Asia/Western Asia/Iraq",
          "Europe/Northern Europe/Ireland",
          "Asia/Western Asia/Israel",
          "Europe/Southern Europe/Italy",
          "Americas/Latin America and the Caribbean/Jamaica",
          "Asia/Eastern Asia/Japan",
          "Asia/Western Asia/Jordan",
          "Asia/Central Asia/Kazakhstan",
          "Africa/Sub-Saharan Africa/Kenya",
          "Asia/Western Asia/Kuwait",
          "Asia/Central Asia/Kyrgyzstan",
          "Europe/Northern Europe/Latvia",
          "Asia/Western Asia/Lebanon",
          "Africa/Sub-Saharan Africa/Liberia",
          "Africa/Northern Africa/Libya",
          "Europe/Northern Europe/Lithuania",
          "Europe/Western Europe/Luxembourg",
          "Europe/Southern Europe/Macedonia",
          "Africa/Sub-Saharan Africa/Madagascar",
          "Africa/Sub-Saharan Africa/Malawi",
          "Asia/South-eastern Asia/Malaysia",
          "Africa/Sub-Saharan Africa/Mali",
          "Europe/Southern Europe/Malta",
          "Africa/Sub-Saharan Africa/Mauritania",
          "Africa/Sub-Saharan Africa/Mauritius",
          "Americas/Latin America and the Caribbean/Mexico",
          "Europe/Eastern Europe/Moldova",
          "Asia/Eastern Asia/Mongolia",
          "Europe/Southern Europe/Montenegro",
          "Africa/Northern Africa/Morocco",
          "Asia/South-eastern Asia/Myanmar",
          "Asia/Southern Asia/Nepal",
          "Europe/Western Europe/Netherlands",
          "Oceania/Australia and New Zealand/New Zealand",
          "Americas/Latin America and the Caribbean/Nicaragua",
          "Africa/Sub-Saharan Africa/Niger",
          "Africa/Sub-Saharan Africa/Nigeria",
          "Europe/Northern Europe/Norway",
          "Asia/Southern Asia/Pakistan",
          "Americas/Latin America and the Caribbean/Panama",
          "Americas/Latin America and the Caribbean/Paraguay",
          "Americas/Latin America and the Caribbean/Peru",
          "Asia/South-eastern Asia/Philippines",
          "Europe/Eastern Europe/Poland",
          "Europe/Southern Europe/Portugal",
          "Asia/Western Asia/Qatar",
          "Europe/Eastern Europe/Romania",
          "Europe/Eastern Europe/Russia",
          "Africa/Sub-Saharan Africa/Rwanda",
          "Asia/Western Asia/Saudi Arabia",
          "Africa/Sub-Saharan Africa/Senegal",
          "Europe/Southern Europe/Serbia",
          "Africa/Sub-Saharan Africa/Sierra Leone",
          "Asia/South-eastern Asia/Singapore",
          "Europe/Eastern Europe/Slovakia",
          "Europe/Southern Europe/Slovenia",
          "Africa/Sub-Saharan Africa/South Africa",
          "Asia/Eastern Asia/South Korea",
          "Europe/Southern Europe/Spain",
          "Asia/Southern Asia/Sri Lanka",
          "Africa/Northern Africa/Sudan",
          "Europe/Northern Europe/Sweden",
          "Europe/Western Europe/Switzerland",
          "Asia/Western Asia/Syria",
          "Asia/Central Asia/Tajikistan",
          "Africa/Sub-Saharan Africa/Tanzania",
          "Asia/South-eastern Asia/Thailand",
          "Africa/Sub-Saharan Africa/Togo",
          "Americas/Latin America and the Caribbean/Trinidad and Tobago",
          "Africa/Northern Africa/Tunisia",
          "Asia/Western Asia/Turkey",
          "Asia/Central Asia/Turkmenistan",
          "Africa/Sub-Saharan Africa/Uganda",
          "Europe/Eastern Europe/Ukraine",
          "Asia/Western Asia/United Arab Emirates",
          "Europe/Northern Europe/United Kingdom",
          "Americas/Northern America/United States",
          "Americas/Latin America and the Caribbean/Uruguay",
          "Asia/Central Asia/Uzbekistan",
          "Americas/Latin America and the Caribbean/Venezuela",
          "Asia/South-eastern Asia/Vietnam",
          "Asia/Western Asia/Yemen",
          "Africa/Sub-Saharan Africa/Zambia",
          "Africa/Sub-Saharan Africa/Zimbabwe",
          "Oceania/Australia and New Zealand",
          "Asia/Central Asia",
          "Asia/Eastern Asia",
          "Europe/Eastern Europe",
          "Americas/Latin America and the Caribbean",
          "Africa/Northern Africa",
          "Americas/Northern America",
          "Europe/Northern Europe",
          "Asia/South-eastern Asia",
          "Asia/Southern Asia",
          "Europe/Southern Europe",
          "Africa/Sub-Saharan Africa",
          "Asia/Western Asia",
          "Europe/Western Europe",
          "Africa",
          "Americas",
          "Asia",
          "Europe",
          "Oceania"
         ],
         "labels": [
          "Afghanistan",
          "Albania",
          "Algeria",
          "Angola",
          "Argentina",
          "Armenia",
          "Australia",
          "Austria",
          "Azerbaijan",
          "Bahrain",
          "Bangladesh",
          "Belarus",
          "Belgium",
          "Benin",
          "Bhutan",
          "Bolivia",
          "Botswana",
          "Brazil",
          "Bulgaria",
          "Burkina Faso",
          "Burundi",
          "Cambodia",
          "Cameroon",
          "Canada",
          "Chad",
          "Chile",
          "China",
          "Colombia",
          "Costa Rica",
          "Croatia",
          "Cyprus",
          "Czech Republic",
          "Denmark",
          "Dominican Republic",
          "Ecuador",
          "Egypt",
          "El Salvador",
          "Estonia",
          "Ethiopia",
          "Finland",
          "France",
          "Gabon",
          "Georgia",
          "Germany",
          "Ghana",
          "Greece",
          "Guatemala",
          "Guinea",
          "Haiti",
          "Honduras",
          "Hungary",
          "Iceland",
          "India",
          "Indonesia",
          "Iran",
          "Iraq",
          "Ireland",
          "Israel",
          "Italy",
          "Jamaica",
          "Japan",
          "Jordan",
          "Kazakhstan",
          "Kenya",
          "Kuwait",
          "Kyrgyzstan",
          "Latvia",
          "Lebanon",
          "Liberia",
          "Libya",
          "Lithuania",
          "Luxembourg",
          "Macedonia",
          "Madagascar",
          "Malawi",
          "Malaysia",
          "Mali",
          "Malta",
          "Mauritania",
          "Mauritius",
          "Mexico",
          "Moldova",
          "Mongolia",
          "Montenegro",
          "Morocco",
          "Myanmar",
          "Nepal",
          "Netherlands",
          "New Zealand",
          "Nicaragua",
          "Niger",
          "Nigeria",
          "Norway",
          "Pakistan",
          "Panama",
          "Paraguay",
          "Peru",
          "Philippines",
          "Poland",
          "Portugal",
          "Qatar",
          "Romania",
          "Russia",
          "Rwanda",
          "Saudi Arabia",
          "Senegal",
          "Serbia",
          "Sierra Leone",
          "Singapore",
          "Slovakia",
          "Slovenia",
          "South Africa",
          "South Korea",
          "Spain",
          "Sri Lanka",
          "Sudan",
          "Sweden",
          "Switzerland",
          "Syria",
          "Tajikistan",
          "Tanzania",
          "Thailand",
          "Togo",
          "Trinidad and Tobago",
          "Tunisia",
          "Turkey",
          "Turkmenistan",
          "Uganda",
          "Ukraine",
          "United Arab Emirates",
          "United Kingdom",
          "United States",
          "Uruguay",
          "Uzbekistan",
          "Venezuela",
          "Vietnam",
          "Yemen",
          "Zambia",
          "Zimbabwe",
          "Australia and New Zealand",
          "Central Asia",
          "Eastern Asia",
          "Eastern Europe",
          "Latin America and the Caribbean",
          "Northern Africa",
          "Northern America",
          "Northern Europe",
          "South-eastern Asia",
          "Southern Asia",
          "Southern Europe",
          "Sub-Saharan Africa",
          "Western Asia",
          "Western Europe",
          "Africa",
          "Americas",
          "Asia",
          "Europe",
          "Oceania"
         ],
         "marker": {
          "coloraxis": "coloraxis",
          "colors": [
           3.575,
           4.959,
           5.605,
           4.033,
           6.574,
           4.35,
           7.284,
           7.2,
           5.212,
           5.96,
           4.694,
           5.813,
           6.937000000000001,
           3.34,
           5.253,
           5.89,
           4.332,
           6.983,
           4.218,
           3.587,
           2.905,
           3.819,
           4.252,
           7.427,
           3.667,
           6.67,
           5.14,
           6.476999999999999,
           7.225999999999999,
           5.759,
           5.689,
           6.505,
           7.527,
           4.885,
           5.975,
           4.194,
           6.130000000000001,
           5.429,
           4.512,
           7.406,
           6.575,
           3.896,
           4.297,
           6.75,
           4.633,
           4.857,
           6.123,
           3.656,
           4.518,
           4.788,
           4.8,
           7.561,
           4.565,
           5.399,
           4.686,
           4.677,
           6.94,
           7.278,
           5.948,
           5.7090000000000005,
           5.987,
           5.192,
           5.855,
           4.419,
           6.294999999999999,
           5.286,
           5.098,
           4.839,
           4.571,
           5.754,
           5.833,
           6.946,
           5.007,
           3.681,
           4.292,
           5.77,
           3.995,
           6.302,
           4.436,
           5.477,
           7.187,
           5.888999999999999,
           4.874,
           5.192,
           5.013,
           4.307,
           4.514,
           7.378,
           7.286,
           5.828000000000001,
           3.845,
           5.268,
           7.522,
           5.194,
           6.786,
           5.878,
           5.824,
           5.073,
           5.791,
           5.102,
           6.611,
           5.124,
           5.716,
           3.465,
           6.411,
           3.904,
           5.123,
           4.507,
           6.798,
           5.994999999999999,
           5.848,
           4.642,
           5.984,
           6.329000000000001,
           4.271,
           4.55,
           7.364,
           7.587,
           3.006,
           4.786,
           3.7810000000000006,
           6.455,
           2.839,
           6.168,
           4.739,
           5.332,
           5.548,
           3.931,
           4.681,
           6.901,
           6.867,
           7.119,
           6.485000000000001,
           6.003,
           6.81,
           5.36,
           4.077,
           5.129,
           4.61,
           7.285000137268359,
           5.529693936967756,
           5.541410097793951,
           5.536810276534879,
           6.225103216097553,
           5.037848501088595,
           7.27626082771896,
           6.8735708321613105,
           5.535512645122264,
           4.647403243360906,
           5.543969648826664,
           4.2174411521257475,
           5.6172817931659065,
           7.06862987867863,
           4.381319523618361,
           6.331684413773874,
           5.416493793045796,
           6.254244904648134,
           7.285000137268359
          ]
         },
         "name": "",
         "parents": [
          "Asia/Southern Asia",
          "Europe/Southern Europe",
          "Africa/Northern Africa",
          "Africa/Sub-Saharan Africa",
          "Americas/Latin America and the Caribbean",
          "Asia/Western Asia",
          "Oceania/Australia and New Zealand",
          "Europe/Western Europe",
          "Asia/Western Asia",
          "Asia/Western Asia",
          "Asia/Southern Asia",
          "Europe/Eastern Europe",
          "Europe/Western Europe",
          "Africa/Sub-Saharan Africa",
          "Asia/Southern Asia",
          "Americas/Latin America and the Caribbean",
          "Africa/Sub-Saharan Africa",
          "Americas/Latin America and the Caribbean",
          "Europe/Eastern Europe",
          "Africa/Sub-Saharan Africa",
          "Africa/Sub-Saharan Africa",
          "Asia/South-eastern Asia",
          "Africa/Sub-Saharan Africa",
          "Americas/Northern America",
          "Africa/Sub-Saharan Africa",
          "Americas/Latin America and the Caribbean",
          "Asia/Eastern Asia",
          "Americas/Latin America and the Caribbean",
          "Americas/Latin America and the Caribbean",
          "Europe/Southern Europe",
          "Asia/Western Asia",
          "Europe/Eastern Europe",
          "Europe/Northern Europe",
          "Americas/Latin America and the Caribbean",
          "Americas/Latin America and the Caribbean",
          "Africa/Northern Africa",
          "Americas/Latin America and the Caribbean",
          "Europe/Northern Europe",
          "Africa/Sub-Saharan Africa",
          "Europe/Northern Europe",
          "Europe/Western Europe",
          "Africa/Sub-Saharan Africa",
          "Asia/Western Asia",
          "Europe/Western Europe",
          "Africa/Sub-Saharan Africa",
          "Europe/Southern Europe",
          "Americas/Latin America and the Caribbean",
          "Africa/Sub-Saharan Africa",
          "Americas/Latin America and the Caribbean",
          "Americas/Latin America and the Caribbean",
          "Europe/Eastern Europe",
          "Europe/Northern Europe",
          "Asia/Southern Asia",
          "Asia/South-eastern Asia",
          "Asia/Southern Asia",
          "Asia/Western Asia",
          "Europe/Northern Europe",
          "Asia/Western Asia",
          "Europe/Southern Europe",
          "Americas/Latin America and the Caribbean",
          "Asia/Eastern Asia",
          "Asia/Western Asia",
          "Asia/Central Asia",
          "Africa/Sub-Saharan Africa",
          "Asia/Western Asia",
          "Asia/Central Asia",
          "Europe/Northern Europe",
          "Asia/Western Asia",
          "Africa/Sub-Saharan Africa",
          "Africa/Northern Africa",
          "Europe/Northern Europe",
          "Europe/Western Europe",
          "Europe/Southern Europe",
          "Africa/Sub-Saharan Africa",
          "Africa/Sub-Saharan Africa",
          "Asia/South-eastern Asia",
          "Africa/Sub-Saharan Africa",
          "Europe/Southern Europe",
          "Africa/Sub-Saharan Africa",
          "Africa/Sub-Saharan Africa",
          "Americas/Latin America and the Caribbean",
          "Europe/Eastern Europe",
          "Asia/Eastern Asia",
          "Europe/Southern Europe",
          "Africa/Northern Africa",
          "Asia/South-eastern Asia",
          "Asia/Southern Asia",
          "Europe/Western Europe",
          "Oceania/Australia and New Zealand",
          "Americas/Latin America and the Caribbean",
          "Africa/Sub-Saharan Africa",
          "Africa/Sub-Saharan Africa",
          "Europe/Northern Europe",
          "Asia/Southern Asia",
          "Americas/Latin America and the Caribbean",
          "Americas/Latin America and the Caribbean",
          "Americas/Latin America and the Caribbean",
          "Asia/South-eastern Asia",
          "Europe/Eastern Europe",
          "Europe/Southern Europe",
          "Asia/Western Asia",
          "Europe/Eastern Europe",
          "Europe/Eastern Europe",
          "Africa/Sub-Saharan Africa",
          "Asia/Western Asia",
          "Africa/Sub-Saharan Africa",
          "Europe/Southern Europe",
          "Africa/Sub-Saharan Africa",
          "Asia/South-eastern Asia",
          "Europe/Eastern Europe",
          "Europe/Southern Europe",
          "Africa/Sub-Saharan Africa",
          "Asia/Eastern Asia",
          "Europe/Southern Europe",
          "Asia/Southern Asia",
          "Africa/Northern Africa",
          "Europe/Northern Europe",
          "Europe/Western Europe",
          "Asia/Western Asia",
          "Asia/Central Asia",
          "Africa/Sub-Saharan Africa",
          "Asia/South-eastern Asia",
          "Africa/Sub-Saharan Africa",
          "Americas/Latin America and the Caribbean",
          "Africa/Northern Africa",
          "Asia/Western Asia",
          "Asia/Central Asia",
          "Africa/Sub-Saharan Africa",
          "Europe/Eastern Europe",
          "Asia/Western Asia",
          "Europe/Northern Europe",
          "Americas/Northern America",
          "Americas/Latin America and the Caribbean",
          "Asia/Central Asia",
          "Americas/Latin America and the Caribbean",
          "Asia/South-eastern Asia",
          "Asia/Western Asia",
          "Africa/Sub-Saharan Africa",
          "Africa/Sub-Saharan Africa",
          "Oceania",
          "Asia",
          "Asia",
          "Europe",
          "Americas",
          "Africa",
          "Americas",
          "Europe",
          "Asia",
          "Asia",
          "Europe",
          "Africa",
          "Asia",
          "Europe",
          "",
          "",
          "",
          "",
          ""
         ],
         "type": "sunburst",
         "values": [
          3.575,
          4.959,
          5.605,
          4.033,
          6.574,
          4.35,
          7.284,
          7.2,
          5.212,
          5.96,
          4.694,
          5.813,
          6.937,
          3.34,
          5.253,
          5.89,
          4.332,
          6.983,
          4.218,
          3.587,
          2.905,
          3.819,
          4.252,
          7.427,
          3.667,
          6.67,
          5.14,
          6.477,
          7.226,
          5.759,
          5.689,
          6.505,
          7.527,
          4.885,
          5.975,
          4.194,
          6.13,
          5.429,
          4.512,
          7.406,
          6.575,
          3.896,
          4.297,
          6.75,
          4.633,
          4.857,
          6.123,
          3.656,
          4.518,
          4.788,
          4.8,
          7.561,
          4.565,
          5.399,
          4.686,
          4.677,
          6.94,
          7.278,
          5.948,
          5.709,
          5.987,
          5.192,
          5.855,
          4.419,
          6.295,
          5.286,
          5.098,
          4.839,
          4.571,
          5.754,
          5.833,
          6.946,
          5.007,
          3.681,
          4.292,
          5.77,
          3.995,
          6.302,
          4.436,
          5.477,
          7.187,
          5.889,
          4.874,
          5.192,
          5.013,
          4.307,
          4.514,
          7.378,
          7.286,
          5.828,
          3.845,
          5.268,
          7.522,
          5.194,
          6.786,
          5.878,
          5.824,
          5.073,
          5.791,
          5.102,
          6.611,
          5.124,
          5.716,
          3.465,
          6.411,
          3.904,
          5.123,
          4.507,
          6.798,
          5.995,
          5.848,
          4.642,
          5.984,
          6.329,
          4.271,
          4.55,
          7.364,
          7.587,
          3.006,
          4.786,
          3.781,
          6.455,
          2.839,
          6.168,
          4.739,
          5.332,
          5.548,
          3.931,
          4.681,
          6.901,
          6.867,
          7.119,
          6.485,
          6.003,
          6.81,
          5.36,
          4.077,
          5.129,
          4.61,
          14.57,
          27.478,
          21.985,
          54.532,
          128.914,
          29.855,
          14.546,
          67.547,
          42.981,
          36.752,
          60.426,
          119.605,
          86.127,
          49.373,
          149.46,
          143.46,
          215.323,
          231.87800000000001,
          14.57
         ]
        }
       ],
       "layout": {
        "coloraxis": {
         "colorbar": {
          "title": {
           "text": "happiness_score"
          }
         },
         "colorscale": [
          [
           0,
           "rgb(165,0,38)"
          ],
          [
           0.1,
           "rgb(215,48,39)"
          ],
          [
           0.2,
           "rgb(244,109,67)"
          ],
          [
           0.3,
           "rgb(253,174,97)"
          ],
          [
           0.4,
           "rgb(254,224,139)"
          ],
          [
           0.5,
           "rgb(255,255,191)"
          ],
          [
           0.6,
           "rgb(217,239,139)"
          ],
          [
           0.7,
           "rgb(166,217,106)"
          ],
          [
           0.8,
           "rgb(102,189,99)"
          ],
          [
           0.9,
           "rgb(26,152,80)"
          ],
          [
           1,
           "rgb(0,104,55)"
          ]
         ]
        },
        "height": 900,
        "legend": {
         "tracegroupgap": 0
        },
        "template": {
         "data": {
          "bar": [
           {
            "error_x": {
             "color": "#2a3f5f"
            },
            "error_y": {
             "color": "#2a3f5f"
            },
            "marker": {
             "line": {
              "color": "#E5ECF6",
              "width": 0.5
             },
             "pattern": {
              "fillmode": "overlay",
              "size": 10,
              "solidity": 0.2
             }
            },
            "type": "bar"
           }
          ],
          "barpolar": [
           {
            "marker": {
             "line": {
              "color": "#E5ECF6",
              "width": 0.5
             },
             "pattern": {
              "fillmode": "overlay",
              "size": 10,
              "solidity": 0.2
             }
            },
            "type": "barpolar"
           }
          ],
          "carpet": [
           {
            "aaxis": {
             "endlinecolor": "#2a3f5f",
             "gridcolor": "white",
             "linecolor": "white",
             "minorgridcolor": "white",
             "startlinecolor": "#2a3f5f"
            },
            "baxis": {
             "endlinecolor": "#2a3f5f",
             "gridcolor": "white",
             "linecolor": "white",
             "minorgridcolor": "white",
             "startlinecolor": "#2a3f5f"
            },
            "type": "carpet"
           }
          ],
          "choropleth": [
           {
            "colorbar": {
             "outlinewidth": 0,
             "ticks": ""
            },
            "type": "choropleth"
           }
          ],
          "contour": [
           {
            "colorbar": {
             "outlinewidth": 0,
             "ticks": ""
            },
            "colorscale": [
             [
              0,
              "#0d0887"
             ],
             [
              0.1111111111111111,
              "#46039f"
             ],
             [
              0.2222222222222222,
              "#7201a8"
             ],
             [
              0.3333333333333333,
              "#9c179e"
             ],
             [
              0.4444444444444444,
              "#bd3786"
             ],
             [
              0.5555555555555556,
              "#d8576b"
             ],
             [
              0.6666666666666666,
              "#ed7953"
             ],
             [
              0.7777777777777778,
              "#fb9f3a"
             ],
             [
              0.8888888888888888,
              "#fdca26"
             ],
             [
              1,
              "#f0f921"
             ]
            ],
            "type": "contour"
           }
          ],
          "contourcarpet": [
           {
            "colorbar": {
             "outlinewidth": 0,
             "ticks": ""
            },
            "type": "contourcarpet"
           }
          ],
          "heatmap": [
           {
            "colorbar": {
             "outlinewidth": 0,
             "ticks": ""
            },
            "colorscale": [
             [
              0,
              "#0d0887"
             ],
             [
              0.1111111111111111,
              "#46039f"
             ],
             [
              0.2222222222222222,
              "#7201a8"
             ],
             [
              0.3333333333333333,
              "#9c179e"
             ],
             [
              0.4444444444444444,
              "#bd3786"
             ],
             [
              0.5555555555555556,
              "#d8576b"
             ],
             [
              0.6666666666666666,
              "#ed7953"
             ],
             [
              0.7777777777777778,
              "#fb9f3a"
             ],
             [
              0.8888888888888888,
              "#fdca26"
             ],
             [
              1,
              "#f0f921"
             ]
            ],
            "type": "heatmap"
           }
          ],
          "heatmapgl": [
           {
            "colorbar": {
             "outlinewidth": 0,
             "ticks": ""
            },
            "colorscale": [
             [
              0,
              "#0d0887"
             ],
             [
              0.1111111111111111,
              "#46039f"
             ],
             [
              0.2222222222222222,
              "#7201a8"
             ],
             [
              0.3333333333333333,
              "#9c179e"
             ],
             [
              0.4444444444444444,
              "#bd3786"
             ],
             [
              0.5555555555555556,
              "#d8576b"
             ],
             [
              0.6666666666666666,
              "#ed7953"
             ],
             [
              0.7777777777777778,
              "#fb9f3a"
             ],
             [
              0.8888888888888888,
              "#fdca26"
             ],
             [
              1,
              "#f0f921"
             ]
            ],
            "type": "heatmapgl"
           }
          ],
          "histogram": [
           {
            "marker": {
             "pattern": {
              "fillmode": "overlay",
              "size": 10,
              "solidity": 0.2
             }
            },
            "type": "histogram"
           }
          ],
          "histogram2d": [
           {
            "colorbar": {
             "outlinewidth": 0,
             "ticks": ""
            },
            "colorscale": [
             [
              0,
              "#0d0887"
             ],
             [
              0.1111111111111111,
              "#46039f"
             ],
             [
              0.2222222222222222,
              "#7201a8"
             ],
             [
              0.3333333333333333,
              "#9c179e"
             ],
             [
              0.4444444444444444,
              "#bd3786"
             ],
             [
              0.5555555555555556,
              "#d8576b"
             ],
             [
              0.6666666666666666,
              "#ed7953"
             ],
             [
              0.7777777777777778,
              "#fb9f3a"
             ],
             [
              0.8888888888888888,
              "#fdca26"
             ],
             [
              1,
              "#f0f921"
             ]
            ],
            "type": "histogram2d"
           }
          ],
          "histogram2dcontour": [
           {
            "colorbar": {
             "outlinewidth": 0,
             "ticks": ""
            },
            "colorscale": [
             [
              0,
              "#0d0887"
             ],
             [
              0.1111111111111111,
              "#46039f"
             ],
             [
              0.2222222222222222,
              "#7201a8"
             ],
             [
              0.3333333333333333,
              "#9c179e"
             ],
             [
              0.4444444444444444,
              "#bd3786"
             ],
             [
              0.5555555555555556,
              "#d8576b"
             ],
             [
              0.6666666666666666,
              "#ed7953"
             ],
             [
              0.7777777777777778,
              "#fb9f3a"
             ],
             [
              0.8888888888888888,
              "#fdca26"
             ],
             [
              1,
              "#f0f921"
             ]
            ],
            "type": "histogram2dcontour"
           }
          ],
          "mesh3d": [
           {
            "colorbar": {
             "outlinewidth": 0,
             "ticks": ""
            },
            "type": "mesh3d"
           }
          ],
          "parcoords": [
           {
            "line": {
             "colorbar": {
              "outlinewidth": 0,
              "ticks": ""
             }
            },
            "type": "parcoords"
           }
          ],
          "pie": [
           {
            "automargin": true,
            "type": "pie"
           }
          ],
          "scatter": [
           {
            "fillpattern": {
             "fillmode": "overlay",
             "size": 10,
             "solidity": 0.2
            },
            "type": "scatter"
           }
          ],
          "scatter3d": [
           {
            "line": {
             "colorbar": {
              "outlinewidth": 0,
              "ticks": ""
             }
            },
            "marker": {
             "colorbar": {
              "outlinewidth": 0,
              "ticks": ""
             }
            },
            "type": "scatter3d"
           }
          ],
          "scattercarpet": [
           {
            "marker": {
             "colorbar": {
              "outlinewidth": 0,
              "ticks": ""
             }
            },
            "type": "scattercarpet"
           }
          ],
          "scattergeo": [
           {
            "marker": {
             "colorbar": {
              "outlinewidth": 0,
              "ticks": ""
             }
            },
            "type": "scattergeo"
           }
          ],
          "scattergl": [
           {
            "marker": {
             "colorbar": {
              "outlinewidth": 0,
              "ticks": ""
             }
            },
            "type": "scattergl"
           }
          ],
          "scattermapbox": [
           {
            "marker": {
             "colorbar": {
              "outlinewidth": 0,
              "ticks": ""
             }
            },
            "type": "scattermapbox"
           }
          ],
          "scatterpolar": [
           {
            "marker": {
             "colorbar": {
              "outlinewidth": 0,
              "ticks": ""
             }
            },
            "type": "scatterpolar"
           }
          ],
          "scatterpolargl": [
           {
            "marker": {
             "colorbar": {
              "outlinewidth": 0,
              "ticks": ""
             }
            },
            "type": "scatterpolargl"
           }
          ],
          "scatterternary": [
           {
            "marker": {
             "colorbar": {
              "outlinewidth": 0,
              "ticks": ""
             }
            },
            "type": "scatterternary"
           }
          ],
          "surface": [
           {
            "colorbar": {
             "outlinewidth": 0,
             "ticks": ""
            },
            "colorscale": [
             [
              0,
              "#0d0887"
             ],
             [
              0.1111111111111111,
              "#46039f"
             ],
             [
              0.2222222222222222,
              "#7201a8"
             ],
             [
              0.3333333333333333,
              "#9c179e"
             ],
             [
              0.4444444444444444,
              "#bd3786"
             ],
             [
              0.5555555555555556,
              "#d8576b"
             ],
             [
              0.6666666666666666,
              "#ed7953"
             ],
             [
              0.7777777777777778,
              "#fb9f3a"
             ],
             [
              0.8888888888888888,
              "#fdca26"
             ],
             [
              1,
              "#f0f921"
             ]
            ],
            "type": "surface"
           }
          ],
          "table": [
           {
            "cells": {
             "fill": {
              "color": "#EBF0F8"
             },
             "line": {
              "color": "white"
             }
            },
            "header": {
             "fill": {
              "color": "#C8D4E3"
             },
             "line": {
              "color": "white"
             }
            },
            "type": "table"
           }
          ]
         },
         "layout": {
          "annotationdefaults": {
           "arrowcolor": "#2a3f5f",
           "arrowhead": 0,
           "arrowwidth": 1
          },
          "autotypenumbers": "strict",
          "coloraxis": {
           "colorbar": {
            "outlinewidth": 0,
            "ticks": ""
           }
          },
          "colorscale": {
           "diverging": [
            [
             0,
             "#8e0152"
            ],
            [
             0.1,
             "#c51b7d"
            ],
            [
             0.2,
             "#de77ae"
            ],
            [
             0.3,
             "#f1b6da"
            ],
            [
             0.4,
             "#fde0ef"
            ],
            [
             0.5,
             "#f7f7f7"
            ],
            [
             0.6,
             "#e6f5d0"
            ],
            [
             0.7,
             "#b8e186"
            ],
            [
             0.8,
             "#7fbc41"
            ],
            [
             0.9,
             "#4d9221"
            ],
            [
             1,
             "#276419"
            ]
           ],
           "sequential": [
            [
             0,
             "#0d0887"
            ],
            [
             0.1111111111111111,
             "#46039f"
            ],
            [
             0.2222222222222222,
             "#7201a8"
            ],
            [
             0.3333333333333333,
             "#9c179e"
            ],
            [
             0.4444444444444444,
             "#bd3786"
            ],
            [
             0.5555555555555556,
             "#d8576b"
            ],
            [
             0.6666666666666666,
             "#ed7953"
            ],
            [
             0.7777777777777778,
             "#fb9f3a"
            ],
            [
             0.8888888888888888,
             "#fdca26"
            ],
            [
             1,
             "#f0f921"
            ]
           ],
           "sequentialminus": [
            [
             0,
             "#0d0887"
            ],
            [
             0.1111111111111111,
             "#46039f"
            ],
            [
             0.2222222222222222,
             "#7201a8"
            ],
            [
             0.3333333333333333,
             "#9c179e"
            ],
            [
             0.4444444444444444,
             "#bd3786"
            ],
            [
             0.5555555555555556,
             "#d8576b"
            ],
            [
             0.6666666666666666,
             "#ed7953"
            ],
            [
             0.7777777777777778,
             "#fb9f3a"
            ],
            [
             0.8888888888888888,
             "#fdca26"
            ],
            [
             1,
             "#f0f921"
            ]
           ]
          },
          "colorway": [
           "#636efa",
           "#EF553B",
           "#00cc96",
           "#ab63fa",
           "#FFA15A",
           "#19d3f3",
           "#FF6692",
           "#B6E880",
           "#FF97FF",
           "#FECB52"
          ],
          "font": {
           "color": "#2a3f5f"
          },
          "geo": {
           "bgcolor": "white",
           "lakecolor": "white",
           "landcolor": "#E5ECF6",
           "showlakes": true,
           "showland": true,
           "subunitcolor": "white"
          },
          "hoverlabel": {
           "align": "left"
          },
          "hovermode": "closest",
          "mapbox": {
           "style": "light"
          },
          "paper_bgcolor": "white",
          "plot_bgcolor": "#E5ECF6",
          "polar": {
           "angularaxis": {
            "gridcolor": "white",
            "linecolor": "white",
            "ticks": ""
           },
           "bgcolor": "#E5ECF6",
           "radialaxis": {
            "gridcolor": "white",
            "linecolor": "white",
            "ticks": ""
           }
          },
          "scene": {
           "xaxis": {
            "backgroundcolor": "#E5ECF6",
            "gridcolor": "white",
            "gridwidth": 2,
            "linecolor": "white",
            "showbackground": true,
            "ticks": "",
            "zerolinecolor": "white"
           },
           "yaxis": {
            "backgroundcolor": "#E5ECF6",
            "gridcolor": "white",
            "gridwidth": 2,
            "linecolor": "white",
            "showbackground": true,
            "ticks": "",
            "zerolinecolor": "white"
           },
           "zaxis": {
            "backgroundcolor": "#E5ECF6",
            "gridcolor": "white",
            "gridwidth": 2,
            "linecolor": "white",
            "showbackground": true,
            "ticks": "",
            "zerolinecolor": "white"
           }
          },
          "shapedefaults": {
           "line": {
            "color": "#2a3f5f"
           }
          },
          "ternary": {
           "aaxis": {
            "gridcolor": "white",
            "linecolor": "white",
            "ticks": ""
           },
           "baxis": {
            "gridcolor": "white",
            "linecolor": "white",
            "ticks": ""
           },
           "bgcolor": "#E5ECF6",
           "caxis": {
            "gridcolor": "white",
            "linecolor": "white",
            "ticks": ""
           }
          },
          "title": {
           "x": 0.05
          },
          "xaxis": {
           "automargin": true,
           "gridcolor": "white",
           "linecolor": "white",
           "ticks": "",
           "title": {
            "standoff": 15
           },
           "zerolinecolor": "white",
           "zerolinewidth": 2
          },
          "yaxis": {
           "automargin": true,
           "gridcolor": "white",
           "linecolor": "white",
           "ticks": "",
           "title": {
            "standoff": 15
           },
           "zerolinecolor": "white",
           "zerolinewidth": 2
          }
         }
        },
        "title": {
         "text": "Happiness score sunburst - region / sub region / country"
        },
        "width": 900
       }
      },
      "text/html": [
       "<div>                            <div id=\"1ccb9601-6a72-4eac-8635-ec23a1573c05\" class=\"plotly-graph-div\" style=\"height:900px; width:900px;\"></div>            <script type=\"text/javascript\">                require([\"plotly\"], function(Plotly) {                    window.PLOTLYENV=window.PLOTLYENV || {};                                    if (document.getElementById(\"1ccb9601-6a72-4eac-8635-ec23a1573c05\")) {                    Plotly.newPlot(                        \"1ccb9601-6a72-4eac-8635-ec23a1573c05\",                        [{\"branchvalues\":\"total\",\"customdata\":[[3.575],[4.959],[5.605],[4.033],[6.574],[4.35],[7.284],[7.2],[5.212],[5.96],[4.694],[5.813],[6.937000000000001],[3.34],[5.253],[5.89],[4.332],[6.983],[4.218],[3.587],[2.905],[3.819],[4.252],[7.427],[3.667],[6.67],[5.14],[6.476999999999999],[7.225999999999999],[5.759],[5.689],[6.505],[7.527],[4.885],[5.975],[4.194],[6.130000000000001],[5.429],[4.512],[7.406],[6.575],[3.896],[4.297],[6.75],[4.633],[4.857],[6.123],[3.656],[4.518],[4.788],[4.8],[7.561],[4.565],[5.399],[4.686],[4.677],[6.94],[7.278],[5.948],[5.7090000000000005],[5.987],[5.192],[5.855],[4.419],[6.294999999999999],[5.286],[5.098],[4.839],[4.571],[5.754],[5.833],[6.946],[5.007],[3.681],[4.292],[5.77],[3.995],[6.302],[4.436],[5.477],[7.187],[5.888999999999999],[4.874],[5.192],[5.013],[4.307],[4.514],[7.378],[7.286],[5.828000000000001],[3.845],[5.268],[7.522],[5.194],[6.786],[5.878],[5.824],[5.073],[5.791],[5.102],[6.611],[5.124],[5.716],[3.465],[6.411],[3.904],[5.123],[4.507],[6.798],[5.994999999999999],[5.848],[4.642],[5.984],[6.329000000000001],[4.271],[4.55],[7.364],[7.587],[3.006],[4.786],[3.7810000000000006],[6.455],[2.839],[6.168],[4.739],[5.332],[5.548],[3.931],[4.681],[6.901],[6.867],[7.119],[6.485000000000001],[6.003],[6.81],[5.36],[4.077],[5.129],[4.61],[7.285000137268359],[5.529693936967756],[5.541410097793951],[5.536810276534879],[6.225103216097553],[5.037848501088595],[7.27626082771896],[6.8735708321613105],[5.535512645122264],[4.647403243360906],[5.543969648826664],[4.2174411521257475],[5.6172817931659065],[7.06862987867863],[4.381319523618361],[6.331684413773874],[5.416493793045796],[6.254244904648134],[7.285000137268359]],\"domain\":{\"x\":[0.0,1.0],\"y\":[0.0,1.0]},\"hovertemplate\":\"labels=%{label}<br>happiness_score_sum=%{value}<br>parent=%{parent}<br>id=%{id}<br>happiness_score=%{color}<extra></extra>\",\"ids\":[\"Asia/Southern Asia/Afghanistan\",\"Europe/Southern Europe/Albania\",\"Africa/Northern Africa/Algeria\",\"Africa/Sub-Saharan Africa/Angola\",\"Americas/Latin America and the Caribbean/Argentina\",\"Asia/Western Asia/Armenia\",\"Oceania/Australia and New Zealand/Australia\",\"Europe/Western Europe/Austria\",\"Asia/Western Asia/Azerbaijan\",\"Asia/Western Asia/Bahrain\",\"Asia/Southern Asia/Bangladesh\",\"Europe/Eastern Europe/Belarus\",\"Europe/Western Europe/Belgium\",\"Africa/Sub-Saharan Africa/Benin\",\"Asia/Southern Asia/Bhutan\",\"Americas/Latin America and the Caribbean/Bolivia\",\"Africa/Sub-Saharan Africa/Botswana\",\"Americas/Latin America and the Caribbean/Brazil\",\"Europe/Eastern Europe/Bulgaria\",\"Africa/Sub-Saharan Africa/Burkina Faso\",\"Africa/Sub-Saharan Africa/Burundi\",\"Asia/South-eastern Asia/Cambodia\",\"Africa/Sub-Saharan Africa/Cameroon\",\"Americas/Northern America/Canada\",\"Africa/Sub-Saharan Africa/Chad\",\"Americas/Latin America and the Caribbean/Chile\",\"Asia/Eastern Asia/China\",\"Americas/Latin America and the Caribbean/Colombia\",\"Americas/Latin America and the Caribbean/Costa Rica\",\"Europe/Southern Europe/Croatia\",\"Asia/Western Asia/Cyprus\",\"Europe/Eastern Europe/Czech Republic\",\"Europe/Northern Europe/Denmark\",\"Americas/Latin America and the Caribbean/Dominican Republic\",\"Americas/Latin America and the Caribbean/Ecuador\",\"Africa/Northern Africa/Egypt\",\"Americas/Latin America and the Caribbean/El Salvador\",\"Europe/Northern Europe/Estonia\",\"Africa/Sub-Saharan Africa/Ethiopia\",\"Europe/Northern Europe/Finland\",\"Europe/Western Europe/France\",\"Africa/Sub-Saharan Africa/Gabon\",\"Asia/Western Asia/Georgia\",\"Europe/Western Europe/Germany\",\"Africa/Sub-Saharan Africa/Ghana\",\"Europe/Southern Europe/Greece\",\"Americas/Latin America and the Caribbean/Guatemala\",\"Africa/Sub-Saharan Africa/Guinea\",\"Americas/Latin America and the Caribbean/Haiti\",\"Americas/Latin America and the Caribbean/Honduras\",\"Europe/Eastern Europe/Hungary\",\"Europe/Northern Europe/Iceland\",\"Asia/Southern Asia/India\",\"Asia/South-eastern Asia/Indonesia\",\"Asia/Southern Asia/Iran\",\"Asia/Western Asia/Iraq\",\"Europe/Northern Europe/Ireland\",\"Asia/Western Asia/Israel\",\"Europe/Southern Europe/Italy\",\"Americas/Latin America and the Caribbean/Jamaica\",\"Asia/Eastern Asia/Japan\",\"Asia/Western Asia/Jordan\",\"Asia/Central Asia/Kazakhstan\",\"Africa/Sub-Saharan Africa/Kenya\",\"Asia/Western Asia/Kuwait\",\"Asia/Central Asia/Kyrgyzstan\",\"Europe/Northern Europe/Latvia\",\"Asia/Western Asia/Lebanon\",\"Africa/Sub-Saharan Africa/Liberia\",\"Africa/Northern Africa/Libya\",\"Europe/Northern Europe/Lithuania\",\"Europe/Western Europe/Luxembourg\",\"Europe/Southern Europe/Macedonia\",\"Africa/Sub-Saharan Africa/Madagascar\",\"Africa/Sub-Saharan Africa/Malawi\",\"Asia/South-eastern Asia/Malaysia\",\"Africa/Sub-Saharan Africa/Mali\",\"Europe/Southern Europe/Malta\",\"Africa/Sub-Saharan Africa/Mauritania\",\"Africa/Sub-Saharan Africa/Mauritius\",\"Americas/Latin America and the Caribbean/Mexico\",\"Europe/Eastern Europe/Moldova\",\"Asia/Eastern Asia/Mongolia\",\"Europe/Southern Europe/Montenegro\",\"Africa/Northern Africa/Morocco\",\"Asia/South-eastern Asia/Myanmar\",\"Asia/Southern Asia/Nepal\",\"Europe/Western Europe/Netherlands\",\"Oceania/Australia and New Zealand/New Zealand\",\"Americas/Latin America and the Caribbean/Nicaragua\",\"Africa/Sub-Saharan Africa/Niger\",\"Africa/Sub-Saharan Africa/Nigeria\",\"Europe/Northern Europe/Norway\",\"Asia/Southern Asia/Pakistan\",\"Americas/Latin America and the Caribbean/Panama\",\"Americas/Latin America and the Caribbean/Paraguay\",\"Americas/Latin America and the Caribbean/Peru\",\"Asia/South-eastern Asia/Philippines\",\"Europe/Eastern Europe/Poland\",\"Europe/Southern Europe/Portugal\",\"Asia/Western Asia/Qatar\",\"Europe/Eastern Europe/Romania\",\"Europe/Eastern Europe/Russia\",\"Africa/Sub-Saharan Africa/Rwanda\",\"Asia/Western Asia/Saudi Arabia\",\"Africa/Sub-Saharan Africa/Senegal\",\"Europe/Southern Europe/Serbia\",\"Africa/Sub-Saharan Africa/Sierra Leone\",\"Asia/South-eastern Asia/Singapore\",\"Europe/Eastern Europe/Slovakia\",\"Europe/Southern Europe/Slovenia\",\"Africa/Sub-Saharan Africa/South Africa\",\"Asia/Eastern Asia/South Korea\",\"Europe/Southern Europe/Spain\",\"Asia/Southern Asia/Sri Lanka\",\"Africa/Northern Africa/Sudan\",\"Europe/Northern Europe/Sweden\",\"Europe/Western Europe/Switzerland\",\"Asia/Western Asia/Syria\",\"Asia/Central Asia/Tajikistan\",\"Africa/Sub-Saharan Africa/Tanzania\",\"Asia/South-eastern Asia/Thailand\",\"Africa/Sub-Saharan Africa/Togo\",\"Americas/Latin America and the Caribbean/Trinidad and Tobago\",\"Africa/Northern Africa/Tunisia\",\"Asia/Western Asia/Turkey\",\"Asia/Central Asia/Turkmenistan\",\"Africa/Sub-Saharan Africa/Uganda\",\"Europe/Eastern Europe/Ukraine\",\"Asia/Western Asia/United Arab Emirates\",\"Europe/Northern Europe/United Kingdom\",\"Americas/Northern America/United States\",\"Americas/Latin America and the Caribbean/Uruguay\",\"Asia/Central Asia/Uzbekistan\",\"Americas/Latin America and the Caribbean/Venezuela\",\"Asia/South-eastern Asia/Vietnam\",\"Asia/Western Asia/Yemen\",\"Africa/Sub-Saharan Africa/Zambia\",\"Africa/Sub-Saharan Africa/Zimbabwe\",\"Oceania/Australia and New Zealand\",\"Asia/Central Asia\",\"Asia/Eastern Asia\",\"Europe/Eastern Europe\",\"Americas/Latin America and the Caribbean\",\"Africa/Northern Africa\",\"Americas/Northern America\",\"Europe/Northern Europe\",\"Asia/South-eastern Asia\",\"Asia/Southern Asia\",\"Europe/Southern Europe\",\"Africa/Sub-Saharan Africa\",\"Asia/Western Asia\",\"Europe/Western Europe\",\"Africa\",\"Americas\",\"Asia\",\"Europe\",\"Oceania\"],\"labels\":[\"Afghanistan\",\"Albania\",\"Algeria\",\"Angola\",\"Argentina\",\"Armenia\",\"Australia\",\"Austria\",\"Azerbaijan\",\"Bahrain\",\"Bangladesh\",\"Belarus\",\"Belgium\",\"Benin\",\"Bhutan\",\"Bolivia\",\"Botswana\",\"Brazil\",\"Bulgaria\",\"Burkina Faso\",\"Burundi\",\"Cambodia\",\"Cameroon\",\"Canada\",\"Chad\",\"Chile\",\"China\",\"Colombia\",\"Costa Rica\",\"Croatia\",\"Cyprus\",\"Czech Republic\",\"Denmark\",\"Dominican Republic\",\"Ecuador\",\"Egypt\",\"El Salvador\",\"Estonia\",\"Ethiopia\",\"Finland\",\"France\",\"Gabon\",\"Georgia\",\"Germany\",\"Ghana\",\"Greece\",\"Guatemala\",\"Guinea\",\"Haiti\",\"Honduras\",\"Hungary\",\"Iceland\",\"India\",\"Indonesia\",\"Iran\",\"Iraq\",\"Ireland\",\"Israel\",\"Italy\",\"Jamaica\",\"Japan\",\"Jordan\",\"Kazakhstan\",\"Kenya\",\"Kuwait\",\"Kyrgyzstan\",\"Latvia\",\"Lebanon\",\"Liberia\",\"Libya\",\"Lithuania\",\"Luxembourg\",\"Macedonia\",\"Madagascar\",\"Malawi\",\"Malaysia\",\"Mali\",\"Malta\",\"Mauritania\",\"Mauritius\",\"Mexico\",\"Moldova\",\"Mongolia\",\"Montenegro\",\"Morocco\",\"Myanmar\",\"Nepal\",\"Netherlands\",\"New Zealand\",\"Nicaragua\",\"Niger\",\"Nigeria\",\"Norway\",\"Pakistan\",\"Panama\",\"Paraguay\",\"Peru\",\"Philippines\",\"Poland\",\"Portugal\",\"Qatar\",\"Romania\",\"Russia\",\"Rwanda\",\"Saudi Arabia\",\"Senegal\",\"Serbia\",\"Sierra Leone\",\"Singapore\",\"Slovakia\",\"Slovenia\",\"South Africa\",\"South Korea\",\"Spain\",\"Sri Lanka\",\"Sudan\",\"Sweden\",\"Switzerland\",\"Syria\",\"Tajikistan\",\"Tanzania\",\"Thailand\",\"Togo\",\"Trinidad and Tobago\",\"Tunisia\",\"Turkey\",\"Turkmenistan\",\"Uganda\",\"Ukraine\",\"United Arab Emirates\",\"United Kingdom\",\"United States\",\"Uruguay\",\"Uzbekistan\",\"Venezuela\",\"Vietnam\",\"Yemen\",\"Zambia\",\"Zimbabwe\",\"Australia and New Zealand\",\"Central Asia\",\"Eastern Asia\",\"Eastern Europe\",\"Latin America and the Caribbean\",\"Northern Africa\",\"Northern America\",\"Northern Europe\",\"South-eastern Asia\",\"Southern Asia\",\"Southern Europe\",\"Sub-Saharan Africa\",\"Western Asia\",\"Western Europe\",\"Africa\",\"Americas\",\"Asia\",\"Europe\",\"Oceania\"],\"marker\":{\"coloraxis\":\"coloraxis\",\"colors\":[3.575,4.959,5.605,4.033,6.574,4.35,7.284,7.2,5.212,5.96,4.694,5.813,6.937000000000001,3.34,5.253,5.89,4.332,6.983,4.218,3.587,2.905,3.819,4.252,7.427,3.667,6.67,5.14,6.476999999999999,7.225999999999999,5.759,5.689,6.505,7.527,4.885,5.975,4.194,6.130000000000001,5.429,4.512,7.406,6.575,3.896,4.297,6.75,4.633,4.857,6.123,3.656,4.518,4.788,4.8,7.561,4.565,5.399,4.686,4.677,6.94,7.278,5.948,5.7090000000000005,5.987,5.192,5.855,4.419,6.294999999999999,5.286,5.098,4.839,4.571,5.754,5.833,6.946,5.007,3.681,4.292,5.77,3.995,6.302,4.436,5.477,7.187,5.888999999999999,4.874,5.192,5.013,4.307,4.514,7.378,7.286,5.828000000000001,3.845,5.268,7.522,5.194,6.786,5.878,5.824,5.073,5.791,5.102,6.611,5.124,5.716,3.465,6.411,3.904,5.123,4.507,6.798,5.994999999999999,5.848,4.642,5.984,6.329000000000001,4.271,4.55,7.364,7.587,3.006,4.786,3.7810000000000006,6.455,2.839,6.168,4.739,5.332,5.548,3.931,4.681,6.901,6.867,7.119,6.485000000000001,6.003,6.81,5.36,4.077,5.129,4.61,7.285000137268359,5.529693936967756,5.541410097793951,5.536810276534879,6.225103216097553,5.037848501088595,7.27626082771896,6.8735708321613105,5.535512645122264,4.647403243360906,5.543969648826664,4.2174411521257475,5.6172817931659065,7.06862987867863,4.381319523618361,6.331684413773874,5.416493793045796,6.254244904648134,7.285000137268359]},\"name\":\"\",\"parents\":[\"Asia/Southern Asia\",\"Europe/Southern Europe\",\"Africa/Northern Africa\",\"Africa/Sub-Saharan Africa\",\"Americas/Latin America and the Caribbean\",\"Asia/Western Asia\",\"Oceania/Australia and New Zealand\",\"Europe/Western Europe\",\"Asia/Western Asia\",\"Asia/Western Asia\",\"Asia/Southern Asia\",\"Europe/Eastern Europe\",\"Europe/Western Europe\",\"Africa/Sub-Saharan Africa\",\"Asia/Southern Asia\",\"Americas/Latin America and the Caribbean\",\"Africa/Sub-Saharan Africa\",\"Americas/Latin America and the Caribbean\",\"Europe/Eastern Europe\",\"Africa/Sub-Saharan Africa\",\"Africa/Sub-Saharan Africa\",\"Asia/South-eastern Asia\",\"Africa/Sub-Saharan Africa\",\"Americas/Northern America\",\"Africa/Sub-Saharan Africa\",\"Americas/Latin America and the Caribbean\",\"Asia/Eastern Asia\",\"Americas/Latin America and the Caribbean\",\"Americas/Latin America and the Caribbean\",\"Europe/Southern Europe\",\"Asia/Western Asia\",\"Europe/Eastern Europe\",\"Europe/Northern Europe\",\"Americas/Latin America and the Caribbean\",\"Americas/Latin America and the Caribbean\",\"Africa/Northern Africa\",\"Americas/Latin America and the Caribbean\",\"Europe/Northern Europe\",\"Africa/Sub-Saharan Africa\",\"Europe/Northern Europe\",\"Europe/Western Europe\",\"Africa/Sub-Saharan Africa\",\"Asia/Western Asia\",\"Europe/Western Europe\",\"Africa/Sub-Saharan Africa\",\"Europe/Southern Europe\",\"Americas/Latin America and the Caribbean\",\"Africa/Sub-Saharan Africa\",\"Americas/Latin America and the Caribbean\",\"Americas/Latin America and the Caribbean\",\"Europe/Eastern Europe\",\"Europe/Northern Europe\",\"Asia/Southern Asia\",\"Asia/South-eastern Asia\",\"Asia/Southern Asia\",\"Asia/Western Asia\",\"Europe/Northern Europe\",\"Asia/Western Asia\",\"Europe/Southern Europe\",\"Americas/Latin America and the Caribbean\",\"Asia/Eastern Asia\",\"Asia/Western Asia\",\"Asia/Central Asia\",\"Africa/Sub-Saharan Africa\",\"Asia/Western Asia\",\"Asia/Central Asia\",\"Europe/Northern Europe\",\"Asia/Western Asia\",\"Africa/Sub-Saharan Africa\",\"Africa/Northern Africa\",\"Europe/Northern Europe\",\"Europe/Western Europe\",\"Europe/Southern Europe\",\"Africa/Sub-Saharan Africa\",\"Africa/Sub-Saharan Africa\",\"Asia/South-eastern Asia\",\"Africa/Sub-Saharan Africa\",\"Europe/Southern Europe\",\"Africa/Sub-Saharan Africa\",\"Africa/Sub-Saharan Africa\",\"Americas/Latin America and the Caribbean\",\"Europe/Eastern Europe\",\"Asia/Eastern Asia\",\"Europe/Southern Europe\",\"Africa/Northern Africa\",\"Asia/South-eastern Asia\",\"Asia/Southern Asia\",\"Europe/Western Europe\",\"Oceania/Australia and New Zealand\",\"Americas/Latin America and the Caribbean\",\"Africa/Sub-Saharan Africa\",\"Africa/Sub-Saharan Africa\",\"Europe/Northern Europe\",\"Asia/Southern Asia\",\"Americas/Latin America and the Caribbean\",\"Americas/Latin America and the Caribbean\",\"Americas/Latin America and the Caribbean\",\"Asia/South-eastern Asia\",\"Europe/Eastern Europe\",\"Europe/Southern Europe\",\"Asia/Western Asia\",\"Europe/Eastern Europe\",\"Europe/Eastern Europe\",\"Africa/Sub-Saharan Africa\",\"Asia/Western Asia\",\"Africa/Sub-Saharan Africa\",\"Europe/Southern Europe\",\"Africa/Sub-Saharan Africa\",\"Asia/South-eastern Asia\",\"Europe/Eastern Europe\",\"Europe/Southern Europe\",\"Africa/Sub-Saharan Africa\",\"Asia/Eastern Asia\",\"Europe/Southern Europe\",\"Asia/Southern Asia\",\"Africa/Northern Africa\",\"Europe/Northern Europe\",\"Europe/Western Europe\",\"Asia/Western Asia\",\"Asia/Central Asia\",\"Africa/Sub-Saharan Africa\",\"Asia/South-eastern Asia\",\"Africa/Sub-Saharan Africa\",\"Americas/Latin America and the Caribbean\",\"Africa/Northern Africa\",\"Asia/Western Asia\",\"Asia/Central Asia\",\"Africa/Sub-Saharan Africa\",\"Europe/Eastern Europe\",\"Asia/Western Asia\",\"Europe/Northern Europe\",\"Americas/Northern America\",\"Americas/Latin America and the Caribbean\",\"Asia/Central Asia\",\"Americas/Latin America and the Caribbean\",\"Asia/South-eastern Asia\",\"Asia/Western Asia\",\"Africa/Sub-Saharan Africa\",\"Africa/Sub-Saharan Africa\",\"Oceania\",\"Asia\",\"Asia\",\"Europe\",\"Americas\",\"Africa\",\"Americas\",\"Europe\",\"Asia\",\"Asia\",\"Europe\",\"Africa\",\"Asia\",\"Europe\",\"\",\"\",\"\",\"\",\"\"],\"values\":[3.575,4.959,5.605,4.033,6.574,4.35,7.284,7.2,5.212,5.96,4.694,5.813,6.937,3.34,5.253,5.89,4.332,6.983,4.218,3.587,2.905,3.819,4.252,7.427,3.667,6.67,5.14,6.477,7.226,5.759,5.689,6.505,7.527,4.885,5.975,4.194,6.13,5.429,4.512,7.406,6.575,3.896,4.297,6.75,4.633,4.857,6.123,3.656,4.518,4.788,4.8,7.561,4.565,5.399,4.686,4.677,6.94,7.278,5.948,5.709,5.987,5.192,5.855,4.419,6.295,5.286,5.098,4.839,4.571,5.754,5.833,6.946,5.007,3.681,4.292,5.77,3.995,6.302,4.436,5.477,7.187,5.889,4.874,5.192,5.013,4.307,4.514,7.378,7.286,5.828,3.845,5.268,7.522,5.194,6.786,5.878,5.824,5.073,5.791,5.102,6.611,5.124,5.716,3.465,6.411,3.904,5.123,4.507,6.798,5.995,5.848,4.642,5.984,6.329,4.271,4.55,7.364,7.587,3.006,4.786,3.781,6.455,2.839,6.168,4.739,5.332,5.548,3.931,4.681,6.901,6.867,7.119,6.485,6.003,6.81,5.36,4.077,5.129,4.61,14.57,27.478,21.985,54.532,128.914,29.855,14.546,67.547,42.981,36.752,60.426,119.605,86.127,49.373,149.46,143.46,215.323,231.87800000000001,14.57],\"type\":\"sunburst\"}],                        {\"template\":{\"data\":{\"histogram2dcontour\":[{\"type\":\"histogram2dcontour\",\"colorbar\":{\"outlinewidth\":0,\"ticks\":\"\"},\"colorscale\":[[0.0,\"#0d0887\"],[0.1111111111111111,\"#46039f\"],[0.2222222222222222,\"#7201a8\"],[0.3333333333333333,\"#9c179e\"],[0.4444444444444444,\"#bd3786\"],[0.5555555555555556,\"#d8576b\"],[0.6666666666666666,\"#ed7953\"],[0.7777777777777778,\"#fb9f3a\"],[0.8888888888888888,\"#fdca26\"],[1.0,\"#f0f921\"]]}],\"choropleth\":[{\"type\":\"choropleth\",\"colorbar\":{\"outlinewidth\":0,\"ticks\":\"\"}}],\"histogram2d\":[{\"type\":\"histogram2d\",\"colorbar\":{\"outlinewidth\":0,\"ticks\":\"\"},\"colorscale\":[[0.0,\"#0d0887\"],[0.1111111111111111,\"#46039f\"],[0.2222222222222222,\"#7201a8\"],[0.3333333333333333,\"#9c179e\"],[0.4444444444444444,\"#bd3786\"],[0.5555555555555556,\"#d8576b\"],[0.6666666666666666,\"#ed7953\"],[0.7777777777777778,\"#fb9f3a\"],[0.8888888888888888,\"#fdca26\"],[1.0,\"#f0f921\"]]}],\"heatmap\":[{\"type\":\"heatmap\",\"colorbar\":{\"outlinewidth\":0,\"ticks\":\"\"},\"colorscale\":[[0.0,\"#0d0887\"],[0.1111111111111111,\"#46039f\"],[0.2222222222222222,\"#7201a8\"],[0.3333333333333333,\"#9c179e\"],[0.4444444444444444,\"#bd3786\"],[0.5555555555555556,\"#d8576b\"],[0.6666666666666666,\"#ed7953\"],[0.7777777777777778,\"#fb9f3a\"],[0.8888888888888888,\"#fdca26\"],[1.0,\"#f0f921\"]]}],\"heatmapgl\":[{\"type\":\"heatmapgl\",\"colorbar\":{\"outlinewidth\":0,\"ticks\":\"\"},\"colorscale\":[[0.0,\"#0d0887\"],[0.1111111111111111,\"#46039f\"],[0.2222222222222222,\"#7201a8\"],[0.3333333333333333,\"#9c179e\"],[0.4444444444444444,\"#bd3786\"],[0.5555555555555556,\"#d8576b\"],[0.6666666666666666,\"#ed7953\"],[0.7777777777777778,\"#fb9f3a\"],[0.8888888888888888,\"#fdca26\"],[1.0,\"#f0f921\"]]}],\"contourcarpet\":[{\"type\":\"contourcarpet\",\"colorbar\":{\"outlinewidth\":0,\"ticks\":\"\"}}],\"contour\":[{\"type\":\"contour\",\"colorbar\":{\"outlinewidth\":0,\"ticks\":\"\"},\"colorscale\":[[0.0,\"#0d0887\"],[0.1111111111111111,\"#46039f\"],[0.2222222222222222,\"#7201a8\"],[0.3333333333333333,\"#9c179e\"],[0.4444444444444444,\"#bd3786\"],[0.5555555555555556,\"#d8576b\"],[0.6666666666666666,\"#ed7953\"],[0.7777777777777778,\"#fb9f3a\"],[0.8888888888888888,\"#fdca26\"],[1.0,\"#f0f921\"]]}],\"surface\":[{\"type\":\"surface\",\"colorbar\":{\"outlinewidth\":0,\"ticks\":\"\"},\"colorscale\":[[0.0,\"#0d0887\"],[0.1111111111111111,\"#46039f\"],[0.2222222222222222,\"#7201a8\"],[0.3333333333333333,\"#9c179e\"],[0.4444444444444444,\"#bd3786\"],[0.5555555555555556,\"#d8576b\"],[0.6666666666666666,\"#ed7953\"],[0.7777777777777778,\"#fb9f3a\"],[0.8888888888888888,\"#fdca26\"],[1.0,\"#f0f921\"]]}],\"mesh3d\":[{\"type\":\"mesh3d\",\"colorbar\":{\"outlinewidth\":0,\"ticks\":\"\"}}],\"scatter\":[{\"fillpattern\":{\"fillmode\":\"overlay\",\"size\":10,\"solidity\":0.2},\"type\":\"scatter\"}],\"parcoords\":[{\"type\":\"parcoords\",\"line\":{\"colorbar\":{\"outlinewidth\":0,\"ticks\":\"\"}}}],\"scatterpolargl\":[{\"type\":\"scatterpolargl\",\"marker\":{\"colorbar\":{\"outlinewidth\":0,\"ticks\":\"\"}}}],\"bar\":[{\"error_x\":{\"color\":\"#2a3f5f\"},\"error_y\":{\"color\":\"#2a3f5f\"},\"marker\":{\"line\":{\"color\":\"#E5ECF6\",\"width\":0.5},\"pattern\":{\"fillmode\":\"overlay\",\"size\":10,\"solidity\":0.2}},\"type\":\"bar\"}],\"scattergeo\":[{\"type\":\"scattergeo\",\"marker\":{\"colorbar\":{\"outlinewidth\":0,\"ticks\":\"\"}}}],\"scatterpolar\":[{\"type\":\"scatterpolar\",\"marker\":{\"colorbar\":{\"outlinewidth\":0,\"ticks\":\"\"}}}],\"histogram\":[{\"marker\":{\"pattern\":{\"fillmode\":\"overlay\",\"size\":10,\"solidity\":0.2}},\"type\":\"histogram\"}],\"scattergl\":[{\"type\":\"scattergl\",\"marker\":{\"colorbar\":{\"outlinewidth\":0,\"ticks\":\"\"}}}],\"scatter3d\":[{\"type\":\"scatter3d\",\"line\":{\"colorbar\":{\"outlinewidth\":0,\"ticks\":\"\"}},\"marker\":{\"colorbar\":{\"outlinewidth\":0,\"ticks\":\"\"}}}],\"scattermapbox\":[{\"type\":\"scattermapbox\",\"marker\":{\"colorbar\":{\"outlinewidth\":0,\"ticks\":\"\"}}}],\"scatterternary\":[{\"type\":\"scatterternary\",\"marker\":{\"colorbar\":{\"outlinewidth\":0,\"ticks\":\"\"}}}],\"scattercarpet\":[{\"type\":\"scattercarpet\",\"marker\":{\"colorbar\":{\"outlinewidth\":0,\"ticks\":\"\"}}}],\"carpet\":[{\"aaxis\":{\"endlinecolor\":\"#2a3f5f\",\"gridcolor\":\"white\",\"linecolor\":\"white\",\"minorgridcolor\":\"white\",\"startlinecolor\":\"#2a3f5f\"},\"baxis\":{\"endlinecolor\":\"#2a3f5f\",\"gridcolor\":\"white\",\"linecolor\":\"white\",\"minorgridcolor\":\"white\",\"startlinecolor\":\"#2a3f5f\"},\"type\":\"carpet\"}],\"table\":[{\"cells\":{\"fill\":{\"color\":\"#EBF0F8\"},\"line\":{\"color\":\"white\"}},\"header\":{\"fill\":{\"color\":\"#C8D4E3\"},\"line\":{\"color\":\"white\"}},\"type\":\"table\"}],\"barpolar\":[{\"marker\":{\"line\":{\"color\":\"#E5ECF6\",\"width\":0.5},\"pattern\":{\"fillmode\":\"overlay\",\"size\":10,\"solidity\":0.2}},\"type\":\"barpolar\"}],\"pie\":[{\"automargin\":true,\"type\":\"pie\"}]},\"layout\":{\"autotypenumbers\":\"strict\",\"colorway\":[\"#636efa\",\"#EF553B\",\"#00cc96\",\"#ab63fa\",\"#FFA15A\",\"#19d3f3\",\"#FF6692\",\"#B6E880\",\"#FF97FF\",\"#FECB52\"],\"font\":{\"color\":\"#2a3f5f\"},\"hovermode\":\"closest\",\"hoverlabel\":{\"align\":\"left\"},\"paper_bgcolor\":\"white\",\"plot_bgcolor\":\"#E5ECF6\",\"polar\":{\"bgcolor\":\"#E5ECF6\",\"angularaxis\":{\"gridcolor\":\"white\",\"linecolor\":\"white\",\"ticks\":\"\"},\"radialaxis\":{\"gridcolor\":\"white\",\"linecolor\":\"white\",\"ticks\":\"\"}},\"ternary\":{\"bgcolor\":\"#E5ECF6\",\"aaxis\":{\"gridcolor\":\"white\",\"linecolor\":\"white\",\"ticks\":\"\"},\"baxis\":{\"gridcolor\":\"white\",\"linecolor\":\"white\",\"ticks\":\"\"},\"caxis\":{\"gridcolor\":\"white\",\"linecolor\":\"white\",\"ticks\":\"\"}},\"coloraxis\":{\"colorbar\":{\"outlinewidth\":0,\"ticks\":\"\"}},\"colorscale\":{\"sequential\":[[0.0,\"#0d0887\"],[0.1111111111111111,\"#46039f\"],[0.2222222222222222,\"#7201a8\"],[0.3333333333333333,\"#9c179e\"],[0.4444444444444444,\"#bd3786\"],[0.5555555555555556,\"#d8576b\"],[0.6666666666666666,\"#ed7953\"],[0.7777777777777778,\"#fb9f3a\"],[0.8888888888888888,\"#fdca26\"],[1.0,\"#f0f921\"]],\"sequentialminus\":[[0.0,\"#0d0887\"],[0.1111111111111111,\"#46039f\"],[0.2222222222222222,\"#7201a8\"],[0.3333333333333333,\"#9c179e\"],[0.4444444444444444,\"#bd3786\"],[0.5555555555555556,\"#d8576b\"],[0.6666666666666666,\"#ed7953\"],[0.7777777777777778,\"#fb9f3a\"],[0.8888888888888888,\"#fdca26\"],[1.0,\"#f0f921\"]],\"diverging\":[[0,\"#8e0152\"],[0.1,\"#c51b7d\"],[0.2,\"#de77ae\"],[0.3,\"#f1b6da\"],[0.4,\"#fde0ef\"],[0.5,\"#f7f7f7\"],[0.6,\"#e6f5d0\"],[0.7,\"#b8e186\"],[0.8,\"#7fbc41\"],[0.9,\"#4d9221\"],[1,\"#276419\"]]},\"xaxis\":{\"gridcolor\":\"white\",\"linecolor\":\"white\",\"ticks\":\"\",\"title\":{\"standoff\":15},\"zerolinecolor\":\"white\",\"automargin\":true,\"zerolinewidth\":2},\"yaxis\":{\"gridcolor\":\"white\",\"linecolor\":\"white\",\"ticks\":\"\",\"title\":{\"standoff\":15},\"zerolinecolor\":\"white\",\"automargin\":true,\"zerolinewidth\":2},\"scene\":{\"xaxis\":{\"backgroundcolor\":\"#E5ECF6\",\"gridcolor\":\"white\",\"linecolor\":\"white\",\"showbackground\":true,\"ticks\":\"\",\"zerolinecolor\":\"white\",\"gridwidth\":2},\"yaxis\":{\"backgroundcolor\":\"#E5ECF6\",\"gridcolor\":\"white\",\"linecolor\":\"white\",\"showbackground\":true,\"ticks\":\"\",\"zerolinecolor\":\"white\",\"gridwidth\":2},\"zaxis\":{\"backgroundcolor\":\"#E5ECF6\",\"gridcolor\":\"white\",\"linecolor\":\"white\",\"showbackground\":true,\"ticks\":\"\",\"zerolinecolor\":\"white\",\"gridwidth\":2}},\"shapedefaults\":{\"line\":{\"color\":\"#2a3f5f\"}},\"annotationdefaults\":{\"arrowcolor\":\"#2a3f5f\",\"arrowhead\":0,\"arrowwidth\":1},\"geo\":{\"bgcolor\":\"white\",\"landcolor\":\"#E5ECF6\",\"subunitcolor\":\"white\",\"showland\":true,\"showlakes\":true,\"lakecolor\":\"white\"},\"title\":{\"x\":0.05},\"mapbox\":{\"style\":\"light\"}}},\"coloraxis\":{\"colorbar\":{\"title\":{\"text\":\"happiness_score\"}},\"colorscale\":[[0.0,\"rgb(165,0,38)\"],[0.1,\"rgb(215,48,39)\"],[0.2,\"rgb(244,109,67)\"],[0.3,\"rgb(253,174,97)\"],[0.4,\"rgb(254,224,139)\"],[0.5,\"rgb(255,255,191)\"],[0.6,\"rgb(217,239,139)\"],[0.7,\"rgb(166,217,106)\"],[0.8,\"rgb(102,189,99)\"],[0.9,\"rgb(26,152,80)\"],[1.0,\"rgb(0,104,55)\"]]},\"legend\":{\"tracegroupgap\":0},\"title\":{\"text\":\"Happiness score sunburst - region / sub region / country\"},\"height\":900,\"width\":900},                        {\"responsive\": true}                    ).then(function(){\n",
       "                            \n",
       "var gd = document.getElementById('1ccb9601-6a72-4eac-8635-ec23a1573c05');\n",
       "var x = new MutationObserver(function (mutations, observer) {{\n",
       "        var display = window.getComputedStyle(gd).display;\n",
       "        if (!display || display === 'none') {{\n",
       "            console.log([gd, 'removed!']);\n",
       "            Plotly.purge(gd);\n",
       "            observer.disconnect();\n",
       "        }}\n",
       "}});\n",
       "\n",
       "// Listen for the removal of the full notebook cells\n",
       "var notebookContainer = gd.closest('#notebook-container');\n",
       "if (notebookContainer) {{\n",
       "    x.observe(notebookContainer, {childList: true});\n",
       "}}\n",
       "\n",
       "// Listen for the clearing of the current output cell\n",
       "var outputEl = gd.closest('.output');\n",
       "if (outputEl) {{\n",
       "    x.observe(outputEl, {childList: true});\n",
       "}}\n",
       "\n",
       "                        })                };                });            </script>        </div>"
      ]
     },
     "metadata": {},
     "output_type": "display_data"
    }
   ],
   "source": [
    "# Sunburst Chart for year 2015\n",
    "\n",
    "fig = px.sunburst(data_frame= df_2015,\n",
    "                  path=[\"region\", \"sub_region\", \"country\"],\n",
    "                  values=\"happiness_score\",\n",
    "                  color=\"happiness_score\",\n",
    "                  color_continuous_scale='RdYlGn',\n",
    "                  width=900, \n",
    "                  height=900,\n",
    "                  title = 'Happiness score sunburst - region / sub region / country')\n",
    "fig.show()"
   ]
  },
  {
   "cell_type": "markdown",
   "id": "0b04b9d4",
   "metadata": {},
   "source": []
  },
  {
   "cell_type": "markdown",
   "id": "512b0f20",
   "metadata": {},
   "source": [
    "# mapping continents Data for Year 2016"
   ]
  },
  {
   "cell_type": "code",
   "execution_count": 39,
   "id": "b3c4df19",
   "metadata": {
    "scrolled": true
   },
   "outputs": [
    {
     "data": {
      "text/html": [
       "<div>\n",
       "<style scoped>\n",
       "    .dataframe tbody tr th:only-of-type {\n",
       "        vertical-align: middle;\n",
       "    }\n",
       "\n",
       "    .dataframe tbody tr th {\n",
       "        vertical-align: top;\n",
       "    }\n",
       "\n",
       "    .dataframe thead th {\n",
       "        text-align: right;\n",
       "    }\n",
       "</style>\n",
       "<table border=\"1\" class=\"dataframe\">\n",
       "  <thead>\n",
       "    <tr style=\"text-align: right;\">\n",
       "      <th></th>\n",
       "      <th>country</th>\n",
       "      <th>happiness_rank</th>\n",
       "      <th>happiness_score</th>\n",
       "      <th>gdp_per_capita</th>\n",
       "      <th>social_support</th>\n",
       "      <th>life_expectancy</th>\n",
       "      <th>freedom_to_make_life_choices</th>\n",
       "      <th>perceptions_of_corruption</th>\n",
       "      <th>generosity</th>\n",
       "      <th>iso_alpha</th>\n",
       "      <th>region</th>\n",
       "      <th>sub_region</th>\n",
       "    </tr>\n",
       "  </thead>\n",
       "  <tbody>\n",
       "    <tr>\n",
       "      <th>0</th>\n",
       "      <td>Denmark</td>\n",
       "      <td>1</td>\n",
       "      <td>7.526</td>\n",
       "      <td>1.44178</td>\n",
       "      <td>1.16374</td>\n",
       "      <td>0.79504</td>\n",
       "      <td>0.57941</td>\n",
       "      <td>0.44453</td>\n",
       "      <td>0.36171</td>\n",
       "      <td>DNK</td>\n",
       "      <td>Europe</td>\n",
       "      <td>Northern Europe</td>\n",
       "    </tr>\n",
       "    <tr>\n",
       "      <th>1</th>\n",
       "      <td>Switzerland</td>\n",
       "      <td>2</td>\n",
       "      <td>7.509</td>\n",
       "      <td>1.52733</td>\n",
       "      <td>1.14524</td>\n",
       "      <td>0.86303</td>\n",
       "      <td>0.58557</td>\n",
       "      <td>0.41203</td>\n",
       "      <td>0.28083</td>\n",
       "      <td>CHE</td>\n",
       "      <td>Europe</td>\n",
       "      <td>Western Europe</td>\n",
       "    </tr>\n",
       "    <tr>\n",
       "      <th>2</th>\n",
       "      <td>Iceland</td>\n",
       "      <td>3</td>\n",
       "      <td>7.501</td>\n",
       "      <td>1.42666</td>\n",
       "      <td>1.18326</td>\n",
       "      <td>0.86733</td>\n",
       "      <td>0.56624</td>\n",
       "      <td>0.14975</td>\n",
       "      <td>0.47678</td>\n",
       "      <td>ISL</td>\n",
       "      <td>Europe</td>\n",
       "      <td>Northern Europe</td>\n",
       "    </tr>\n",
       "    <tr>\n",
       "      <th>3</th>\n",
       "      <td>Norway</td>\n",
       "      <td>4</td>\n",
       "      <td>7.498</td>\n",
       "      <td>1.57744</td>\n",
       "      <td>1.12690</td>\n",
       "      <td>0.79579</td>\n",
       "      <td>0.59609</td>\n",
       "      <td>0.35776</td>\n",
       "      <td>0.37895</td>\n",
       "      <td>NOR</td>\n",
       "      <td>Europe</td>\n",
       "      <td>Northern Europe</td>\n",
       "    </tr>\n",
       "    <tr>\n",
       "      <th>4</th>\n",
       "      <td>Finland</td>\n",
       "      <td>5</td>\n",
       "      <td>7.413</td>\n",
       "      <td>1.40598</td>\n",
       "      <td>1.13464</td>\n",
       "      <td>0.81091</td>\n",
       "      <td>0.57104</td>\n",
       "      <td>0.41004</td>\n",
       "      <td>0.25492</td>\n",
       "      <td>FIN</td>\n",
       "      <td>Europe</td>\n",
       "      <td>Northern Europe</td>\n",
       "    </tr>\n",
       "    <tr>\n",
       "      <th>...</th>\n",
       "      <td>...</td>\n",
       "      <td>...</td>\n",
       "      <td>...</td>\n",
       "      <td>...</td>\n",
       "      <td>...</td>\n",
       "      <td>...</td>\n",
       "      <td>...</td>\n",
       "      <td>...</td>\n",
       "      <td>...</td>\n",
       "      <td>...</td>\n",
       "      <td>...</td>\n",
       "      <td>...</td>\n",
       "    </tr>\n",
       "    <tr>\n",
       "      <th>141</th>\n",
       "      <td>Benin</td>\n",
       "      <td>153</td>\n",
       "      <td>3.484</td>\n",
       "      <td>0.39499</td>\n",
       "      <td>0.10419</td>\n",
       "      <td>0.21028</td>\n",
       "      <td>0.39747</td>\n",
       "      <td>0.06681</td>\n",
       "      <td>0.20180</td>\n",
       "      <td>BEN</td>\n",
       "      <td>Africa</td>\n",
       "      <td>Sub-Saharan Africa</td>\n",
       "    </tr>\n",
       "    <tr>\n",
       "      <th>142</th>\n",
       "      <td>Afghanistan</td>\n",
       "      <td>154</td>\n",
       "      <td>3.360</td>\n",
       "      <td>0.38227</td>\n",
       "      <td>0.11037</td>\n",
       "      <td>0.17344</td>\n",
       "      <td>0.16430</td>\n",
       "      <td>0.07112</td>\n",
       "      <td>0.31268</td>\n",
       "      <td>AFG</td>\n",
       "      <td>Asia</td>\n",
       "      <td>Southern Asia</td>\n",
       "    </tr>\n",
       "    <tr>\n",
       "      <th>143</th>\n",
       "      <td>Togo</td>\n",
       "      <td>155</td>\n",
       "      <td>3.303</td>\n",
       "      <td>0.28123</td>\n",
       "      <td>0.00000</td>\n",
       "      <td>0.24811</td>\n",
       "      <td>0.34678</td>\n",
       "      <td>0.11587</td>\n",
       "      <td>0.17517</td>\n",
       "      <td>TGO</td>\n",
       "      <td>Africa</td>\n",
       "      <td>Sub-Saharan Africa</td>\n",
       "    </tr>\n",
       "    <tr>\n",
       "      <th>144</th>\n",
       "      <td>Syria</td>\n",
       "      <td>156</td>\n",
       "      <td>3.069</td>\n",
       "      <td>0.74719</td>\n",
       "      <td>0.14866</td>\n",
       "      <td>0.62994</td>\n",
       "      <td>0.06912</td>\n",
       "      <td>0.17233</td>\n",
       "      <td>0.48397</td>\n",
       "      <td>SYR</td>\n",
       "      <td>Asia</td>\n",
       "      <td>Western Asia</td>\n",
       "    </tr>\n",
       "    <tr>\n",
       "      <th>145</th>\n",
       "      <td>Burundi</td>\n",
       "      <td>157</td>\n",
       "      <td>2.905</td>\n",
       "      <td>0.06831</td>\n",
       "      <td>0.23442</td>\n",
       "      <td>0.15747</td>\n",
       "      <td>0.04320</td>\n",
       "      <td>0.09419</td>\n",
       "      <td>0.20290</td>\n",
       "      <td>BDI</td>\n",
       "      <td>Africa</td>\n",
       "      <td>Sub-Saharan Africa</td>\n",
       "    </tr>\n",
       "  </tbody>\n",
       "</table>\n",
       "<p>146 rows × 12 columns</p>\n",
       "</div>"
      ],
      "text/plain": [
       "         country  happiness_rank  happiness_score  gdp_per_capita  \\\n",
       "0        Denmark               1            7.526         1.44178   \n",
       "1    Switzerland               2            7.509         1.52733   \n",
       "2        Iceland               3            7.501         1.42666   \n",
       "3         Norway               4            7.498         1.57744   \n",
       "4        Finland               5            7.413         1.40598   \n",
       "..           ...             ...              ...             ...   \n",
       "141        Benin             153            3.484         0.39499   \n",
       "142  Afghanistan             154            3.360         0.38227   \n",
       "143         Togo             155            3.303         0.28123   \n",
       "144        Syria             156            3.069         0.74719   \n",
       "145      Burundi             157            2.905         0.06831   \n",
       "\n",
       "     social_support  life_expectancy  freedom_to_make_life_choices  \\\n",
       "0           1.16374          0.79504                       0.57941   \n",
       "1           1.14524          0.86303                       0.58557   \n",
       "2           1.18326          0.86733                       0.56624   \n",
       "3           1.12690          0.79579                       0.59609   \n",
       "4           1.13464          0.81091                       0.57104   \n",
       "..              ...              ...                           ...   \n",
       "141         0.10419          0.21028                       0.39747   \n",
       "142         0.11037          0.17344                       0.16430   \n",
       "143         0.00000          0.24811                       0.34678   \n",
       "144         0.14866          0.62994                       0.06912   \n",
       "145         0.23442          0.15747                       0.04320   \n",
       "\n",
       "     perceptions_of_corruption  generosity iso_alpha  region  \\\n",
       "0                      0.44453     0.36171       DNK  Europe   \n",
       "1                      0.41203     0.28083       CHE  Europe   \n",
       "2                      0.14975     0.47678       ISL  Europe   \n",
       "3                      0.35776     0.37895       NOR  Europe   \n",
       "4                      0.41004     0.25492       FIN  Europe   \n",
       "..                         ...         ...       ...     ...   \n",
       "141                    0.06681     0.20180       BEN  Africa   \n",
       "142                    0.07112     0.31268       AFG    Asia   \n",
       "143                    0.11587     0.17517       TGO  Africa   \n",
       "144                    0.17233     0.48397       SYR    Asia   \n",
       "145                    0.09419     0.20290       BDI  Africa   \n",
       "\n",
       "             sub_region  \n",
       "0       Northern Europe  \n",
       "1        Western Europe  \n",
       "2       Northern Europe  \n",
       "3       Northern Europe  \n",
       "4       Northern Europe  \n",
       "..                  ...  \n",
       "141  Sub-Saharan Africa  \n",
       "142       Southern Asia  \n",
       "143  Sub-Saharan Africa  \n",
       "144        Western Asia  \n",
       "145  Sub-Saharan Africa  \n",
       "\n",
       "[146 rows x 12 columns]"
      ]
     },
     "execution_count": 39,
     "metadata": {},
     "output_type": "execute_result"
    }
   ],
   "source": [
    "df_2016 = df2.merge(mapping_country, on='country', how='left')\n",
    "\n",
    "df_2016"
   ]
  },
  {
   "cell_type": "code",
   "execution_count": 40,
   "id": "ddfc453d",
   "metadata": {},
   "outputs": [
    {
     "data": {
      "text/plain": [
       "country                         0\n",
       "happiness_rank                  0\n",
       "happiness_score                 0\n",
       "gdp_per_capita                  0\n",
       "social_support                  0\n",
       "life_expectancy                 0\n",
       "freedom_to_make_life_choices    0\n",
       "perceptions_of_corruption       0\n",
       "generosity                      0\n",
       "iso_alpha                       7\n",
       "region                          7\n",
       "sub_region                      7\n",
       "dtype: int64"
      ]
     },
     "execution_count": 40,
     "metadata": {},
     "output_type": "execute_result"
    }
   ],
   "source": [
    "df_2016.isnull().sum()"
   ]
  },
  {
   "cell_type": "code",
   "execution_count": 41,
   "id": "14c51b33",
   "metadata": {},
   "outputs": [
    {
     "data": {
      "text/html": [
       "<div>\n",
       "<style scoped>\n",
       "    .dataframe tbody tr th:only-of-type {\n",
       "        vertical-align: middle;\n",
       "    }\n",
       "\n",
       "    .dataframe tbody tr th {\n",
       "        vertical-align: top;\n",
       "    }\n",
       "\n",
       "    .dataframe thead th {\n",
       "        text-align: right;\n",
       "    }\n",
       "</style>\n",
       "<table border=\"1\" class=\"dataframe\">\n",
       "  <thead>\n",
       "    <tr style=\"text-align: right;\">\n",
       "      <th></th>\n",
       "      <th>country</th>\n",
       "      <th>happiness_rank</th>\n",
       "      <th>happiness_score</th>\n",
       "      <th>gdp_per_capita</th>\n",
       "      <th>social_support</th>\n",
       "      <th>life_expectancy</th>\n",
       "      <th>freedom_to_make_life_choices</th>\n",
       "      <th>perceptions_of_corruption</th>\n",
       "      <th>generosity</th>\n",
       "      <th>iso_alpha</th>\n",
       "      <th>region</th>\n",
       "      <th>sub_region</th>\n",
       "    </tr>\n",
       "  </thead>\n",
       "  <tbody>\n",
       "    <tr>\n",
       "      <th>0</th>\n",
       "      <td>Denmark</td>\n",
       "      <td>1</td>\n",
       "      <td>7.526</td>\n",
       "      <td>1.44178</td>\n",
       "      <td>1.16374</td>\n",
       "      <td>0.79504</td>\n",
       "      <td>0.57941</td>\n",
       "      <td>0.44453</td>\n",
       "      <td>0.36171</td>\n",
       "      <td>DNK</td>\n",
       "      <td>Europe</td>\n",
       "      <td>Northern Europe</td>\n",
       "    </tr>\n",
       "    <tr>\n",
       "      <th>1</th>\n",
       "      <td>Switzerland</td>\n",
       "      <td>2</td>\n",
       "      <td>7.509</td>\n",
       "      <td>1.52733</td>\n",
       "      <td>1.14524</td>\n",
       "      <td>0.86303</td>\n",
       "      <td>0.58557</td>\n",
       "      <td>0.41203</td>\n",
       "      <td>0.28083</td>\n",
       "      <td>CHE</td>\n",
       "      <td>Europe</td>\n",
       "      <td>Western Europe</td>\n",
       "    </tr>\n",
       "    <tr>\n",
       "      <th>2</th>\n",
       "      <td>Iceland</td>\n",
       "      <td>3</td>\n",
       "      <td>7.501</td>\n",
       "      <td>1.42666</td>\n",
       "      <td>1.18326</td>\n",
       "      <td>0.86733</td>\n",
       "      <td>0.56624</td>\n",
       "      <td>0.14975</td>\n",
       "      <td>0.47678</td>\n",
       "      <td>ISL</td>\n",
       "      <td>Europe</td>\n",
       "      <td>Northern Europe</td>\n",
       "    </tr>\n",
       "    <tr>\n",
       "      <th>3</th>\n",
       "      <td>Norway</td>\n",
       "      <td>4</td>\n",
       "      <td>7.498</td>\n",
       "      <td>1.57744</td>\n",
       "      <td>1.12690</td>\n",
       "      <td>0.79579</td>\n",
       "      <td>0.59609</td>\n",
       "      <td>0.35776</td>\n",
       "      <td>0.37895</td>\n",
       "      <td>NOR</td>\n",
       "      <td>Europe</td>\n",
       "      <td>Northern Europe</td>\n",
       "    </tr>\n",
       "    <tr>\n",
       "      <th>4</th>\n",
       "      <td>Finland</td>\n",
       "      <td>5</td>\n",
       "      <td>7.413</td>\n",
       "      <td>1.40598</td>\n",
       "      <td>1.13464</td>\n",
       "      <td>0.81091</td>\n",
       "      <td>0.57104</td>\n",
       "      <td>0.41004</td>\n",
       "      <td>0.25492</td>\n",
       "      <td>FIN</td>\n",
       "      <td>Europe</td>\n",
       "      <td>Northern Europe</td>\n",
       "    </tr>\n",
       "    <tr>\n",
       "      <th>...</th>\n",
       "      <td>...</td>\n",
       "      <td>...</td>\n",
       "      <td>...</td>\n",
       "      <td>...</td>\n",
       "      <td>...</td>\n",
       "      <td>...</td>\n",
       "      <td>...</td>\n",
       "      <td>...</td>\n",
       "      <td>...</td>\n",
       "      <td>...</td>\n",
       "      <td>...</td>\n",
       "      <td>...</td>\n",
       "    </tr>\n",
       "    <tr>\n",
       "      <th>141</th>\n",
       "      <td>Benin</td>\n",
       "      <td>153</td>\n",
       "      <td>3.484</td>\n",
       "      <td>0.39499</td>\n",
       "      <td>0.10419</td>\n",
       "      <td>0.21028</td>\n",
       "      <td>0.39747</td>\n",
       "      <td>0.06681</td>\n",
       "      <td>0.20180</td>\n",
       "      <td>BEN</td>\n",
       "      <td>Africa</td>\n",
       "      <td>Sub-Saharan Africa</td>\n",
       "    </tr>\n",
       "    <tr>\n",
       "      <th>142</th>\n",
       "      <td>Afghanistan</td>\n",
       "      <td>154</td>\n",
       "      <td>3.360</td>\n",
       "      <td>0.38227</td>\n",
       "      <td>0.11037</td>\n",
       "      <td>0.17344</td>\n",
       "      <td>0.16430</td>\n",
       "      <td>0.07112</td>\n",
       "      <td>0.31268</td>\n",
       "      <td>AFG</td>\n",
       "      <td>Asia</td>\n",
       "      <td>Southern Asia</td>\n",
       "    </tr>\n",
       "    <tr>\n",
       "      <th>143</th>\n",
       "      <td>Togo</td>\n",
       "      <td>155</td>\n",
       "      <td>3.303</td>\n",
       "      <td>0.28123</td>\n",
       "      <td>0.00000</td>\n",
       "      <td>0.24811</td>\n",
       "      <td>0.34678</td>\n",
       "      <td>0.11587</td>\n",
       "      <td>0.17517</td>\n",
       "      <td>TGO</td>\n",
       "      <td>Africa</td>\n",
       "      <td>Sub-Saharan Africa</td>\n",
       "    </tr>\n",
       "    <tr>\n",
       "      <th>144</th>\n",
       "      <td>Syria</td>\n",
       "      <td>156</td>\n",
       "      <td>3.069</td>\n",
       "      <td>0.74719</td>\n",
       "      <td>0.14866</td>\n",
       "      <td>0.62994</td>\n",
       "      <td>0.06912</td>\n",
       "      <td>0.17233</td>\n",
       "      <td>0.48397</td>\n",
       "      <td>SYR</td>\n",
       "      <td>Asia</td>\n",
       "      <td>Western Asia</td>\n",
       "    </tr>\n",
       "    <tr>\n",
       "      <th>145</th>\n",
       "      <td>Burundi</td>\n",
       "      <td>157</td>\n",
       "      <td>2.905</td>\n",
       "      <td>0.06831</td>\n",
       "      <td>0.23442</td>\n",
       "      <td>0.15747</td>\n",
       "      <td>0.04320</td>\n",
       "      <td>0.09419</td>\n",
       "      <td>0.20290</td>\n",
       "      <td>BDI</td>\n",
       "      <td>Africa</td>\n",
       "      <td>Sub-Saharan Africa</td>\n",
       "    </tr>\n",
       "  </tbody>\n",
       "</table>\n",
       "<p>139 rows × 12 columns</p>\n",
       "</div>"
      ],
      "text/plain": [
       "         country  happiness_rank  happiness_score  gdp_per_capita  \\\n",
       "0        Denmark               1            7.526         1.44178   \n",
       "1    Switzerland               2            7.509         1.52733   \n",
       "2        Iceland               3            7.501         1.42666   \n",
       "3         Norway               4            7.498         1.57744   \n",
       "4        Finland               5            7.413         1.40598   \n",
       "..           ...             ...              ...             ...   \n",
       "141        Benin             153            3.484         0.39499   \n",
       "142  Afghanistan             154            3.360         0.38227   \n",
       "143         Togo             155            3.303         0.28123   \n",
       "144        Syria             156            3.069         0.74719   \n",
       "145      Burundi             157            2.905         0.06831   \n",
       "\n",
       "     social_support  life_expectancy  freedom_to_make_life_choices  \\\n",
       "0           1.16374          0.79504                       0.57941   \n",
       "1           1.14524          0.86303                       0.58557   \n",
       "2           1.18326          0.86733                       0.56624   \n",
       "3           1.12690          0.79579                       0.59609   \n",
       "4           1.13464          0.81091                       0.57104   \n",
       "..              ...              ...                           ...   \n",
       "141         0.10419          0.21028                       0.39747   \n",
       "142         0.11037          0.17344                       0.16430   \n",
       "143         0.00000          0.24811                       0.34678   \n",
       "144         0.14866          0.62994                       0.06912   \n",
       "145         0.23442          0.15747                       0.04320   \n",
       "\n",
       "     perceptions_of_corruption  generosity iso_alpha  region  \\\n",
       "0                      0.44453     0.36171       DNK  Europe   \n",
       "1                      0.41203     0.28083       CHE  Europe   \n",
       "2                      0.14975     0.47678       ISL  Europe   \n",
       "3                      0.35776     0.37895       NOR  Europe   \n",
       "4                      0.41004     0.25492       FIN  Europe   \n",
       "..                         ...         ...       ...     ...   \n",
       "141                    0.06681     0.20180       BEN  Africa   \n",
       "142                    0.07112     0.31268       AFG    Asia   \n",
       "143                    0.11587     0.17517       TGO  Africa   \n",
       "144                    0.17233     0.48397       SYR    Asia   \n",
       "145                    0.09419     0.20290       BDI  Africa   \n",
       "\n",
       "             sub_region  \n",
       "0       Northern Europe  \n",
       "1        Western Europe  \n",
       "2       Northern Europe  \n",
       "3       Northern Europe  \n",
       "4       Northern Europe  \n",
       "..                  ...  \n",
       "141  Sub-Saharan Africa  \n",
       "142       Southern Asia  \n",
       "143  Sub-Saharan Africa  \n",
       "144        Western Asia  \n",
       "145  Sub-Saharan Africa  \n",
       "\n",
       "[139 rows x 12 columns]"
      ]
     },
     "execution_count": 41,
     "metadata": {},
     "output_type": "execute_result"
    }
   ],
   "source": [
    "df_2016.dropna(inplace=True)\n",
    "df_2016"
   ]
  },
  {
   "cell_type": "code",
   "execution_count": 42,
   "id": "0dafdf83",
   "metadata": {},
   "outputs": [
    {
     "data": {
      "text/html": [
       "<div>\n",
       "<style scoped>\n",
       "    .dataframe tbody tr th:only-of-type {\n",
       "        vertical-align: middle;\n",
       "    }\n",
       "\n",
       "    .dataframe tbody tr th {\n",
       "        vertical-align: top;\n",
       "    }\n",
       "\n",
       "    .dataframe thead th {\n",
       "        text-align: right;\n",
       "    }\n",
       "</style>\n",
       "<table border=\"1\" class=\"dataframe\">\n",
       "  <thead>\n",
       "    <tr style=\"text-align: right;\">\n",
       "      <th></th>\n",
       "      <th>country</th>\n",
       "      <th>region</th>\n",
       "      <th>sub_region</th>\n",
       "      <th>iso_alpha</th>\n",
       "      <th>happiness_score</th>\n",
       "      <th>gdp_per_capita</th>\n",
       "      <th>social_support</th>\n",
       "      <th>life_expectancy</th>\n",
       "      <th>freedom_to_make_life_choices</th>\n",
       "      <th>generosity</th>\n",
       "      <th>perceptions_of_corruption</th>\n",
       "    </tr>\n",
       "  </thead>\n",
       "  <tbody>\n",
       "    <tr>\n",
       "      <th>0</th>\n",
       "      <td>Denmark</td>\n",
       "      <td>Europe</td>\n",
       "      <td>Northern Europe</td>\n",
       "      <td>DNK</td>\n",
       "      <td>7.526</td>\n",
       "      <td>1.44178</td>\n",
       "      <td>1.16374</td>\n",
       "      <td>0.79504</td>\n",
       "      <td>0.57941</td>\n",
       "      <td>0.36171</td>\n",
       "      <td>0.44453</td>\n",
       "    </tr>\n",
       "    <tr>\n",
       "      <th>1</th>\n",
       "      <td>Switzerland</td>\n",
       "      <td>Europe</td>\n",
       "      <td>Western Europe</td>\n",
       "      <td>CHE</td>\n",
       "      <td>7.509</td>\n",
       "      <td>1.52733</td>\n",
       "      <td>1.14524</td>\n",
       "      <td>0.86303</td>\n",
       "      <td>0.58557</td>\n",
       "      <td>0.28083</td>\n",
       "      <td>0.41203</td>\n",
       "    </tr>\n",
       "    <tr>\n",
       "      <th>2</th>\n",
       "      <td>Iceland</td>\n",
       "      <td>Europe</td>\n",
       "      <td>Northern Europe</td>\n",
       "      <td>ISL</td>\n",
       "      <td>7.501</td>\n",
       "      <td>1.42666</td>\n",
       "      <td>1.18326</td>\n",
       "      <td>0.86733</td>\n",
       "      <td>0.56624</td>\n",
       "      <td>0.47678</td>\n",
       "      <td>0.14975</td>\n",
       "    </tr>\n",
       "    <tr>\n",
       "      <th>3</th>\n",
       "      <td>Norway</td>\n",
       "      <td>Europe</td>\n",
       "      <td>Northern Europe</td>\n",
       "      <td>NOR</td>\n",
       "      <td>7.498</td>\n",
       "      <td>1.57744</td>\n",
       "      <td>1.12690</td>\n",
       "      <td>0.79579</td>\n",
       "      <td>0.59609</td>\n",
       "      <td>0.37895</td>\n",
       "      <td>0.35776</td>\n",
       "    </tr>\n",
       "    <tr>\n",
       "      <th>4</th>\n",
       "      <td>Finland</td>\n",
       "      <td>Europe</td>\n",
       "      <td>Northern Europe</td>\n",
       "      <td>FIN</td>\n",
       "      <td>7.413</td>\n",
       "      <td>1.40598</td>\n",
       "      <td>1.13464</td>\n",
       "      <td>0.81091</td>\n",
       "      <td>0.57104</td>\n",
       "      <td>0.25492</td>\n",
       "      <td>0.41004</td>\n",
       "    </tr>\n",
       "    <tr>\n",
       "      <th>...</th>\n",
       "      <td>...</td>\n",
       "      <td>...</td>\n",
       "      <td>...</td>\n",
       "      <td>...</td>\n",
       "      <td>...</td>\n",
       "      <td>...</td>\n",
       "      <td>...</td>\n",
       "      <td>...</td>\n",
       "      <td>...</td>\n",
       "      <td>...</td>\n",
       "      <td>...</td>\n",
       "    </tr>\n",
       "    <tr>\n",
       "      <th>141</th>\n",
       "      <td>Benin</td>\n",
       "      <td>Africa</td>\n",
       "      <td>Sub-Saharan Africa</td>\n",
       "      <td>BEN</td>\n",
       "      <td>3.484</td>\n",
       "      <td>0.39499</td>\n",
       "      <td>0.10419</td>\n",
       "      <td>0.21028</td>\n",
       "      <td>0.39747</td>\n",
       "      <td>0.20180</td>\n",
       "      <td>0.06681</td>\n",
       "    </tr>\n",
       "    <tr>\n",
       "      <th>142</th>\n",
       "      <td>Afghanistan</td>\n",
       "      <td>Asia</td>\n",
       "      <td>Southern Asia</td>\n",
       "      <td>AFG</td>\n",
       "      <td>3.360</td>\n",
       "      <td>0.38227</td>\n",
       "      <td>0.11037</td>\n",
       "      <td>0.17344</td>\n",
       "      <td>0.16430</td>\n",
       "      <td>0.31268</td>\n",
       "      <td>0.07112</td>\n",
       "    </tr>\n",
       "    <tr>\n",
       "      <th>143</th>\n",
       "      <td>Togo</td>\n",
       "      <td>Africa</td>\n",
       "      <td>Sub-Saharan Africa</td>\n",
       "      <td>TGO</td>\n",
       "      <td>3.303</td>\n",
       "      <td>0.28123</td>\n",
       "      <td>0.00000</td>\n",
       "      <td>0.24811</td>\n",
       "      <td>0.34678</td>\n",
       "      <td>0.17517</td>\n",
       "      <td>0.11587</td>\n",
       "    </tr>\n",
       "    <tr>\n",
       "      <th>144</th>\n",
       "      <td>Syria</td>\n",
       "      <td>Asia</td>\n",
       "      <td>Western Asia</td>\n",
       "      <td>SYR</td>\n",
       "      <td>3.069</td>\n",
       "      <td>0.74719</td>\n",
       "      <td>0.14866</td>\n",
       "      <td>0.62994</td>\n",
       "      <td>0.06912</td>\n",
       "      <td>0.48397</td>\n",
       "      <td>0.17233</td>\n",
       "    </tr>\n",
       "    <tr>\n",
       "      <th>145</th>\n",
       "      <td>Burundi</td>\n",
       "      <td>Africa</td>\n",
       "      <td>Sub-Saharan Africa</td>\n",
       "      <td>BDI</td>\n",
       "      <td>2.905</td>\n",
       "      <td>0.06831</td>\n",
       "      <td>0.23442</td>\n",
       "      <td>0.15747</td>\n",
       "      <td>0.04320</td>\n",
       "      <td>0.20290</td>\n",
       "      <td>0.09419</td>\n",
       "    </tr>\n",
       "  </tbody>\n",
       "</table>\n",
       "<p>139 rows × 11 columns</p>\n",
       "</div>"
      ],
      "text/plain": [
       "         country  region          sub_region iso_alpha  happiness_score  \\\n",
       "0        Denmark  Europe     Northern Europe       DNK            7.526   \n",
       "1    Switzerland  Europe      Western Europe       CHE            7.509   \n",
       "2        Iceland  Europe     Northern Europe       ISL            7.501   \n",
       "3         Norway  Europe     Northern Europe       NOR            7.498   \n",
       "4        Finland  Europe     Northern Europe       FIN            7.413   \n",
       "..           ...     ...                 ...       ...              ...   \n",
       "141        Benin  Africa  Sub-Saharan Africa       BEN            3.484   \n",
       "142  Afghanistan    Asia       Southern Asia       AFG            3.360   \n",
       "143         Togo  Africa  Sub-Saharan Africa       TGO            3.303   \n",
       "144        Syria    Asia        Western Asia       SYR            3.069   \n",
       "145      Burundi  Africa  Sub-Saharan Africa       BDI            2.905   \n",
       "\n",
       "     gdp_per_capita  social_support  life_expectancy  \\\n",
       "0           1.44178         1.16374          0.79504   \n",
       "1           1.52733         1.14524          0.86303   \n",
       "2           1.42666         1.18326          0.86733   \n",
       "3           1.57744         1.12690          0.79579   \n",
       "4           1.40598         1.13464          0.81091   \n",
       "..              ...             ...              ...   \n",
       "141         0.39499         0.10419          0.21028   \n",
       "142         0.38227         0.11037          0.17344   \n",
       "143         0.28123         0.00000          0.24811   \n",
       "144         0.74719         0.14866          0.62994   \n",
       "145         0.06831         0.23442          0.15747   \n",
       "\n",
       "     freedom_to_make_life_choices  generosity  perceptions_of_corruption  \n",
       "0                         0.57941     0.36171                    0.44453  \n",
       "1                         0.58557     0.28083                    0.41203  \n",
       "2                         0.56624     0.47678                    0.14975  \n",
       "3                         0.59609     0.37895                    0.35776  \n",
       "4                         0.57104     0.25492                    0.41004  \n",
       "..                            ...         ...                        ...  \n",
       "141                       0.39747     0.20180                    0.06681  \n",
       "142                       0.16430     0.31268                    0.07112  \n",
       "143                       0.34678     0.17517                    0.11587  \n",
       "144                       0.06912     0.48397                    0.17233  \n",
       "145                       0.04320     0.20290                    0.09419  \n",
       "\n",
       "[139 rows x 11 columns]"
      ]
     },
     "execution_count": 42,
     "metadata": {},
     "output_type": "execute_result"
    }
   ],
   "source": [
    "df_2016=df_2016[[\"country\",\"region\",\"sub_region\",\"iso_alpha\",\"happiness_score\",\"gdp_per_capita\",\"social_support\",\"life_expectancy\",\"freedom_to_make_life_choices\",\"generosity\",\"perceptions_of_corruption\"]]\n",
    "df_2016"
   ]
  },
  {
   "cell_type": "code",
   "execution_count": 43,
   "id": "fd389e04",
   "metadata": {},
   "outputs": [
    {
     "data": {
      "text/plain": [
       "country                         0\n",
       "region                          0\n",
       "sub_region                      0\n",
       "iso_alpha                       0\n",
       "happiness_score                 0\n",
       "gdp_per_capita                  0\n",
       "social_support                  0\n",
       "life_expectancy                 0\n",
       "freedom_to_make_life_choices    0\n",
       "generosity                      0\n",
       "perceptions_of_corruption       0\n",
       "dtype: int64"
      ]
     },
     "execution_count": 43,
     "metadata": {},
     "output_type": "execute_result"
    }
   ],
   "source": [
    "df_2016.isnull().sum()"
   ]
  },
  {
   "cell_type": "code",
   "execution_count": 44,
   "id": "01ee46ef",
   "metadata": {},
   "outputs": [
    {
     "data": {
      "text/plain": [
       "country                         0\n",
       "region                          0\n",
       "sub_region                      0\n",
       "iso_alpha                       0\n",
       "happiness_score                 0\n",
       "gdp_per_capita                  0\n",
       "social_support                  0\n",
       "life_expectancy                 0\n",
       "freedom_to_make_life_choices    0\n",
       "generosity                      0\n",
       "perceptions_of_corruption       0\n",
       "dtype: int64"
      ]
     },
     "execution_count": 44,
     "metadata": {},
     "output_type": "execute_result"
    }
   ],
   "source": [
    "df_2016.isna().sum()"
   ]
  },
  {
   "cell_type": "markdown",
   "id": "2a59f6fa",
   "metadata": {},
   "source": [
    "# mapping continents Data for Year 2017"
   ]
  },
  {
   "cell_type": "code",
   "execution_count": 45,
   "id": "34ea54d1",
   "metadata": {},
   "outputs": [
    {
     "data": {
      "text/html": [
       "<div>\n",
       "<style scoped>\n",
       "    .dataframe tbody tr th:only-of-type {\n",
       "        vertical-align: middle;\n",
       "    }\n",
       "\n",
       "    .dataframe tbody tr th {\n",
       "        vertical-align: top;\n",
       "    }\n",
       "\n",
       "    .dataframe thead th {\n",
       "        text-align: right;\n",
       "    }\n",
       "</style>\n",
       "<table border=\"1\" class=\"dataframe\">\n",
       "  <thead>\n",
       "    <tr style=\"text-align: right;\">\n",
       "      <th></th>\n",
       "      <th>country</th>\n",
       "      <th>happiness_rank</th>\n",
       "      <th>happiness_score</th>\n",
       "      <th>gdp_per_capita</th>\n",
       "      <th>social_support</th>\n",
       "      <th>life_expectancy</th>\n",
       "      <th>freedom_to_make_life_choices</th>\n",
       "      <th>generosity</th>\n",
       "      <th>perceptions_of_corruption</th>\n",
       "      <th>iso_alpha</th>\n",
       "      <th>region</th>\n",
       "      <th>sub_region</th>\n",
       "    </tr>\n",
       "  </thead>\n",
       "  <tbody>\n",
       "    <tr>\n",
       "      <th>0</th>\n",
       "      <td>Norway</td>\n",
       "      <td>1</td>\n",
       "      <td>7.537</td>\n",
       "      <td>1.616463</td>\n",
       "      <td>1.533524</td>\n",
       "      <td>0.796667</td>\n",
       "      <td>0.635423</td>\n",
       "      <td>0.362012</td>\n",
       "      <td>0.315964</td>\n",
       "      <td>NOR</td>\n",
       "      <td>Europe</td>\n",
       "      <td>Northern Europe</td>\n",
       "    </tr>\n",
       "    <tr>\n",
       "      <th>1</th>\n",
       "      <td>Denmark</td>\n",
       "      <td>2</td>\n",
       "      <td>7.522</td>\n",
       "      <td>1.482383</td>\n",
       "      <td>1.551122</td>\n",
       "      <td>0.792566</td>\n",
       "      <td>0.626007</td>\n",
       "      <td>0.355280</td>\n",
       "      <td>0.400770</td>\n",
       "      <td>DNK</td>\n",
       "      <td>Europe</td>\n",
       "      <td>Northern Europe</td>\n",
       "    </tr>\n",
       "    <tr>\n",
       "      <th>2</th>\n",
       "      <td>Iceland</td>\n",
       "      <td>3</td>\n",
       "      <td>7.504</td>\n",
       "      <td>1.480633</td>\n",
       "      <td>1.610574</td>\n",
       "      <td>0.833552</td>\n",
       "      <td>0.627163</td>\n",
       "      <td>0.475540</td>\n",
       "      <td>0.153527</td>\n",
       "      <td>ISL</td>\n",
       "      <td>Europe</td>\n",
       "      <td>Northern Europe</td>\n",
       "    </tr>\n",
       "    <tr>\n",
       "      <th>3</th>\n",
       "      <td>Switzerland</td>\n",
       "      <td>4</td>\n",
       "      <td>7.494</td>\n",
       "      <td>1.564980</td>\n",
       "      <td>1.516912</td>\n",
       "      <td>0.858131</td>\n",
       "      <td>0.620071</td>\n",
       "      <td>0.290549</td>\n",
       "      <td>0.367007</td>\n",
       "      <td>CHE</td>\n",
       "      <td>Europe</td>\n",
       "      <td>Western Europe</td>\n",
       "    </tr>\n",
       "    <tr>\n",
       "      <th>4</th>\n",
       "      <td>Finland</td>\n",
       "      <td>5</td>\n",
       "      <td>7.469</td>\n",
       "      <td>1.443572</td>\n",
       "      <td>1.540247</td>\n",
       "      <td>0.809158</td>\n",
       "      <td>0.617951</td>\n",
       "      <td>0.245483</td>\n",
       "      <td>0.382612</td>\n",
       "      <td>FIN</td>\n",
       "      <td>Europe</td>\n",
       "      <td>Northern Europe</td>\n",
       "    </tr>\n",
       "    <tr>\n",
       "      <th>...</th>\n",
       "      <td>...</td>\n",
       "      <td>...</td>\n",
       "      <td>...</td>\n",
       "      <td>...</td>\n",
       "      <td>...</td>\n",
       "      <td>...</td>\n",
       "      <td>...</td>\n",
       "      <td>...</td>\n",
       "      <td>...</td>\n",
       "      <td>...</td>\n",
       "      <td>...</td>\n",
       "      <td>...</td>\n",
       "    </tr>\n",
       "    <tr>\n",
       "      <th>141</th>\n",
       "      <td>Togo</td>\n",
       "      <td>150</td>\n",
       "      <td>3.495</td>\n",
       "      <td>0.305445</td>\n",
       "      <td>0.431883</td>\n",
       "      <td>0.247106</td>\n",
       "      <td>0.380426</td>\n",
       "      <td>0.196896</td>\n",
       "      <td>0.095665</td>\n",
       "      <td>TGO</td>\n",
       "      <td>Africa</td>\n",
       "      <td>Sub-Saharan Africa</td>\n",
       "    </tr>\n",
       "    <tr>\n",
       "      <th>142</th>\n",
       "      <td>Rwanda</td>\n",
       "      <td>151</td>\n",
       "      <td>3.471</td>\n",
       "      <td>0.368746</td>\n",
       "      <td>0.945707</td>\n",
       "      <td>0.326425</td>\n",
       "      <td>0.581844</td>\n",
       "      <td>0.252756</td>\n",
       "      <td>0.455220</td>\n",
       "      <td>RWA</td>\n",
       "      <td>Africa</td>\n",
       "      <td>Sub-Saharan Africa</td>\n",
       "    </tr>\n",
       "    <tr>\n",
       "      <th>143</th>\n",
       "      <td>Syria</td>\n",
       "      <td>152</td>\n",
       "      <td>3.462</td>\n",
       "      <td>0.777153</td>\n",
       "      <td>0.396103</td>\n",
       "      <td>0.500533</td>\n",
       "      <td>0.081539</td>\n",
       "      <td>0.493664</td>\n",
       "      <td>0.151347</td>\n",
       "      <td>SYR</td>\n",
       "      <td>Asia</td>\n",
       "      <td>Western Asia</td>\n",
       "    </tr>\n",
       "    <tr>\n",
       "      <th>144</th>\n",
       "      <td>Tanzania</td>\n",
       "      <td>153</td>\n",
       "      <td>3.349</td>\n",
       "      <td>0.511136</td>\n",
       "      <td>1.041990</td>\n",
       "      <td>0.364509</td>\n",
       "      <td>0.390018</td>\n",
       "      <td>0.354256</td>\n",
       "      <td>0.066035</td>\n",
       "      <td>TZA</td>\n",
       "      <td>Africa</td>\n",
       "      <td>Sub-Saharan Africa</td>\n",
       "    </tr>\n",
       "    <tr>\n",
       "      <th>145</th>\n",
       "      <td>Burundi</td>\n",
       "      <td>154</td>\n",
       "      <td>2.905</td>\n",
       "      <td>0.091623</td>\n",
       "      <td>0.629794</td>\n",
       "      <td>0.151611</td>\n",
       "      <td>0.059901</td>\n",
       "      <td>0.204435</td>\n",
       "      <td>0.084148</td>\n",
       "      <td>BDI</td>\n",
       "      <td>Africa</td>\n",
       "      <td>Sub-Saharan Africa</td>\n",
       "    </tr>\n",
       "  </tbody>\n",
       "</table>\n",
       "<p>146 rows × 12 columns</p>\n",
       "</div>"
      ],
      "text/plain": [
       "         country  happiness_rank  happiness_score  gdp_per_capita  \\\n",
       "0         Norway               1            7.537        1.616463   \n",
       "1        Denmark               2            7.522        1.482383   \n",
       "2        Iceland               3            7.504        1.480633   \n",
       "3    Switzerland               4            7.494        1.564980   \n",
       "4        Finland               5            7.469        1.443572   \n",
       "..           ...             ...              ...             ...   \n",
       "141         Togo             150            3.495        0.305445   \n",
       "142       Rwanda             151            3.471        0.368746   \n",
       "143        Syria             152            3.462        0.777153   \n",
       "144     Tanzania             153            3.349        0.511136   \n",
       "145      Burundi             154            2.905        0.091623   \n",
       "\n",
       "     social_support  life_expectancy  freedom_to_make_life_choices  \\\n",
       "0          1.533524         0.796667                      0.635423   \n",
       "1          1.551122         0.792566                      0.626007   \n",
       "2          1.610574         0.833552                      0.627163   \n",
       "3          1.516912         0.858131                      0.620071   \n",
       "4          1.540247         0.809158                      0.617951   \n",
       "..              ...              ...                           ...   \n",
       "141        0.431883         0.247106                      0.380426   \n",
       "142        0.945707         0.326425                      0.581844   \n",
       "143        0.396103         0.500533                      0.081539   \n",
       "144        1.041990         0.364509                      0.390018   \n",
       "145        0.629794         0.151611                      0.059901   \n",
       "\n",
       "     generosity  perceptions_of_corruption iso_alpha  region  \\\n",
       "0      0.362012                   0.315964       NOR  Europe   \n",
       "1      0.355280                   0.400770       DNK  Europe   \n",
       "2      0.475540                   0.153527       ISL  Europe   \n",
       "3      0.290549                   0.367007       CHE  Europe   \n",
       "4      0.245483                   0.382612       FIN  Europe   \n",
       "..          ...                        ...       ...     ...   \n",
       "141    0.196896                   0.095665       TGO  Africa   \n",
       "142    0.252756                   0.455220       RWA  Africa   \n",
       "143    0.493664                   0.151347       SYR    Asia   \n",
       "144    0.354256                   0.066035       TZA  Africa   \n",
       "145    0.204435                   0.084148       BDI  Africa   \n",
       "\n",
       "             sub_region  \n",
       "0       Northern Europe  \n",
       "1       Northern Europe  \n",
       "2       Northern Europe  \n",
       "3        Western Europe  \n",
       "4       Northern Europe  \n",
       "..                  ...  \n",
       "141  Sub-Saharan Africa  \n",
       "142  Sub-Saharan Africa  \n",
       "143        Western Asia  \n",
       "144  Sub-Saharan Africa  \n",
       "145  Sub-Saharan Africa  \n",
       "\n",
       "[146 rows x 12 columns]"
      ]
     },
     "execution_count": 45,
     "metadata": {},
     "output_type": "execute_result"
    }
   ],
   "source": [
    "df_2017 = df3.merge(mapping_country, on='country', how='left')\n",
    "\n",
    "df_2017"
   ]
  },
  {
   "cell_type": "code",
   "execution_count": 46,
   "id": "8aaac2b0",
   "metadata": {},
   "outputs": [
    {
     "data": {
      "text/plain": [
       "country                         0\n",
       "happiness_rank                  0\n",
       "happiness_score                 0\n",
       "gdp_per_capita                  0\n",
       "social_support                  0\n",
       "life_expectancy                 0\n",
       "freedom_to_make_life_choices    0\n",
       "generosity                      0\n",
       "perceptions_of_corruption       0\n",
       "iso_alpha                       7\n",
       "region                          7\n",
       "sub_region                      7\n",
       "dtype: int64"
      ]
     },
     "execution_count": 46,
     "metadata": {},
     "output_type": "execute_result"
    }
   ],
   "source": [
    "df_2017.isnull().sum()"
   ]
  },
  {
   "cell_type": "code",
   "execution_count": 47,
   "id": "1dacd0f7",
   "metadata": {},
   "outputs": [
    {
     "data": {
      "text/html": [
       "<div>\n",
       "<style scoped>\n",
       "    .dataframe tbody tr th:only-of-type {\n",
       "        vertical-align: middle;\n",
       "    }\n",
       "\n",
       "    .dataframe tbody tr th {\n",
       "        vertical-align: top;\n",
       "    }\n",
       "\n",
       "    .dataframe thead th {\n",
       "        text-align: right;\n",
       "    }\n",
       "</style>\n",
       "<table border=\"1\" class=\"dataframe\">\n",
       "  <thead>\n",
       "    <tr style=\"text-align: right;\">\n",
       "      <th></th>\n",
       "      <th>country</th>\n",
       "      <th>happiness_rank</th>\n",
       "      <th>happiness_score</th>\n",
       "      <th>gdp_per_capita</th>\n",
       "      <th>social_support</th>\n",
       "      <th>life_expectancy</th>\n",
       "      <th>freedom_to_make_life_choices</th>\n",
       "      <th>generosity</th>\n",
       "      <th>perceptions_of_corruption</th>\n",
       "      <th>iso_alpha</th>\n",
       "      <th>region</th>\n",
       "      <th>sub_region</th>\n",
       "    </tr>\n",
       "  </thead>\n",
       "  <tbody>\n",
       "    <tr>\n",
       "      <th>0</th>\n",
       "      <td>Norway</td>\n",
       "      <td>1</td>\n",
       "      <td>7.537</td>\n",
       "      <td>1.616463</td>\n",
       "      <td>1.533524</td>\n",
       "      <td>0.796667</td>\n",
       "      <td>0.635423</td>\n",
       "      <td>0.362012</td>\n",
       "      <td>0.315964</td>\n",
       "      <td>NOR</td>\n",
       "      <td>Europe</td>\n",
       "      <td>Northern Europe</td>\n",
       "    </tr>\n",
       "    <tr>\n",
       "      <th>1</th>\n",
       "      <td>Denmark</td>\n",
       "      <td>2</td>\n",
       "      <td>7.522</td>\n",
       "      <td>1.482383</td>\n",
       "      <td>1.551122</td>\n",
       "      <td>0.792566</td>\n",
       "      <td>0.626007</td>\n",
       "      <td>0.355280</td>\n",
       "      <td>0.400770</td>\n",
       "      <td>DNK</td>\n",
       "      <td>Europe</td>\n",
       "      <td>Northern Europe</td>\n",
       "    </tr>\n",
       "    <tr>\n",
       "      <th>2</th>\n",
       "      <td>Iceland</td>\n",
       "      <td>3</td>\n",
       "      <td>7.504</td>\n",
       "      <td>1.480633</td>\n",
       "      <td>1.610574</td>\n",
       "      <td>0.833552</td>\n",
       "      <td>0.627163</td>\n",
       "      <td>0.475540</td>\n",
       "      <td>0.153527</td>\n",
       "      <td>ISL</td>\n",
       "      <td>Europe</td>\n",
       "      <td>Northern Europe</td>\n",
       "    </tr>\n",
       "    <tr>\n",
       "      <th>3</th>\n",
       "      <td>Switzerland</td>\n",
       "      <td>4</td>\n",
       "      <td>7.494</td>\n",
       "      <td>1.564980</td>\n",
       "      <td>1.516912</td>\n",
       "      <td>0.858131</td>\n",
       "      <td>0.620071</td>\n",
       "      <td>0.290549</td>\n",
       "      <td>0.367007</td>\n",
       "      <td>CHE</td>\n",
       "      <td>Europe</td>\n",
       "      <td>Western Europe</td>\n",
       "    </tr>\n",
       "    <tr>\n",
       "      <th>4</th>\n",
       "      <td>Finland</td>\n",
       "      <td>5</td>\n",
       "      <td>7.469</td>\n",
       "      <td>1.443572</td>\n",
       "      <td>1.540247</td>\n",
       "      <td>0.809158</td>\n",
       "      <td>0.617951</td>\n",
       "      <td>0.245483</td>\n",
       "      <td>0.382612</td>\n",
       "      <td>FIN</td>\n",
       "      <td>Europe</td>\n",
       "      <td>Northern Europe</td>\n",
       "    </tr>\n",
       "    <tr>\n",
       "      <th>...</th>\n",
       "      <td>...</td>\n",
       "      <td>...</td>\n",
       "      <td>...</td>\n",
       "      <td>...</td>\n",
       "      <td>...</td>\n",
       "      <td>...</td>\n",
       "      <td>...</td>\n",
       "      <td>...</td>\n",
       "      <td>...</td>\n",
       "      <td>...</td>\n",
       "      <td>...</td>\n",
       "      <td>...</td>\n",
       "    </tr>\n",
       "    <tr>\n",
       "      <th>141</th>\n",
       "      <td>Togo</td>\n",
       "      <td>150</td>\n",
       "      <td>3.495</td>\n",
       "      <td>0.305445</td>\n",
       "      <td>0.431883</td>\n",
       "      <td>0.247106</td>\n",
       "      <td>0.380426</td>\n",
       "      <td>0.196896</td>\n",
       "      <td>0.095665</td>\n",
       "      <td>TGO</td>\n",
       "      <td>Africa</td>\n",
       "      <td>Sub-Saharan Africa</td>\n",
       "    </tr>\n",
       "    <tr>\n",
       "      <th>142</th>\n",
       "      <td>Rwanda</td>\n",
       "      <td>151</td>\n",
       "      <td>3.471</td>\n",
       "      <td>0.368746</td>\n",
       "      <td>0.945707</td>\n",
       "      <td>0.326425</td>\n",
       "      <td>0.581844</td>\n",
       "      <td>0.252756</td>\n",
       "      <td>0.455220</td>\n",
       "      <td>RWA</td>\n",
       "      <td>Africa</td>\n",
       "      <td>Sub-Saharan Africa</td>\n",
       "    </tr>\n",
       "    <tr>\n",
       "      <th>143</th>\n",
       "      <td>Syria</td>\n",
       "      <td>152</td>\n",
       "      <td>3.462</td>\n",
       "      <td>0.777153</td>\n",
       "      <td>0.396103</td>\n",
       "      <td>0.500533</td>\n",
       "      <td>0.081539</td>\n",
       "      <td>0.493664</td>\n",
       "      <td>0.151347</td>\n",
       "      <td>SYR</td>\n",
       "      <td>Asia</td>\n",
       "      <td>Western Asia</td>\n",
       "    </tr>\n",
       "    <tr>\n",
       "      <th>144</th>\n",
       "      <td>Tanzania</td>\n",
       "      <td>153</td>\n",
       "      <td>3.349</td>\n",
       "      <td>0.511136</td>\n",
       "      <td>1.041990</td>\n",
       "      <td>0.364509</td>\n",
       "      <td>0.390018</td>\n",
       "      <td>0.354256</td>\n",
       "      <td>0.066035</td>\n",
       "      <td>TZA</td>\n",
       "      <td>Africa</td>\n",
       "      <td>Sub-Saharan Africa</td>\n",
       "    </tr>\n",
       "    <tr>\n",
       "      <th>145</th>\n",
       "      <td>Burundi</td>\n",
       "      <td>154</td>\n",
       "      <td>2.905</td>\n",
       "      <td>0.091623</td>\n",
       "      <td>0.629794</td>\n",
       "      <td>0.151611</td>\n",
       "      <td>0.059901</td>\n",
       "      <td>0.204435</td>\n",
       "      <td>0.084148</td>\n",
       "      <td>BDI</td>\n",
       "      <td>Africa</td>\n",
       "      <td>Sub-Saharan Africa</td>\n",
       "    </tr>\n",
       "  </tbody>\n",
       "</table>\n",
       "<p>139 rows × 12 columns</p>\n",
       "</div>"
      ],
      "text/plain": [
       "         country  happiness_rank  happiness_score  gdp_per_capita  \\\n",
       "0         Norway               1            7.537        1.616463   \n",
       "1        Denmark               2            7.522        1.482383   \n",
       "2        Iceland               3            7.504        1.480633   \n",
       "3    Switzerland               4            7.494        1.564980   \n",
       "4        Finland               5            7.469        1.443572   \n",
       "..           ...             ...              ...             ...   \n",
       "141         Togo             150            3.495        0.305445   \n",
       "142       Rwanda             151            3.471        0.368746   \n",
       "143        Syria             152            3.462        0.777153   \n",
       "144     Tanzania             153            3.349        0.511136   \n",
       "145      Burundi             154            2.905        0.091623   \n",
       "\n",
       "     social_support  life_expectancy  freedom_to_make_life_choices  \\\n",
       "0          1.533524         0.796667                      0.635423   \n",
       "1          1.551122         0.792566                      0.626007   \n",
       "2          1.610574         0.833552                      0.627163   \n",
       "3          1.516912         0.858131                      0.620071   \n",
       "4          1.540247         0.809158                      0.617951   \n",
       "..              ...              ...                           ...   \n",
       "141        0.431883         0.247106                      0.380426   \n",
       "142        0.945707         0.326425                      0.581844   \n",
       "143        0.396103         0.500533                      0.081539   \n",
       "144        1.041990         0.364509                      0.390018   \n",
       "145        0.629794         0.151611                      0.059901   \n",
       "\n",
       "     generosity  perceptions_of_corruption iso_alpha  region  \\\n",
       "0      0.362012                   0.315964       NOR  Europe   \n",
       "1      0.355280                   0.400770       DNK  Europe   \n",
       "2      0.475540                   0.153527       ISL  Europe   \n",
       "3      0.290549                   0.367007       CHE  Europe   \n",
       "4      0.245483                   0.382612       FIN  Europe   \n",
       "..          ...                        ...       ...     ...   \n",
       "141    0.196896                   0.095665       TGO  Africa   \n",
       "142    0.252756                   0.455220       RWA  Africa   \n",
       "143    0.493664                   0.151347       SYR    Asia   \n",
       "144    0.354256                   0.066035       TZA  Africa   \n",
       "145    0.204435                   0.084148       BDI  Africa   \n",
       "\n",
       "             sub_region  \n",
       "0       Northern Europe  \n",
       "1       Northern Europe  \n",
       "2       Northern Europe  \n",
       "3        Western Europe  \n",
       "4       Northern Europe  \n",
       "..                  ...  \n",
       "141  Sub-Saharan Africa  \n",
       "142  Sub-Saharan Africa  \n",
       "143        Western Asia  \n",
       "144  Sub-Saharan Africa  \n",
       "145  Sub-Saharan Africa  \n",
       "\n",
       "[139 rows x 12 columns]"
      ]
     },
     "execution_count": 47,
     "metadata": {},
     "output_type": "execute_result"
    }
   ],
   "source": [
    "df_2017.dropna(inplace=True)\n",
    "df_2017"
   ]
  },
  {
   "cell_type": "code",
   "execution_count": 48,
   "id": "4bd80b0c",
   "metadata": {},
   "outputs": [
    {
     "data": {
      "text/html": [
       "<div>\n",
       "<style scoped>\n",
       "    .dataframe tbody tr th:only-of-type {\n",
       "        vertical-align: middle;\n",
       "    }\n",
       "\n",
       "    .dataframe tbody tr th {\n",
       "        vertical-align: top;\n",
       "    }\n",
       "\n",
       "    .dataframe thead th {\n",
       "        text-align: right;\n",
       "    }\n",
       "</style>\n",
       "<table border=\"1\" class=\"dataframe\">\n",
       "  <thead>\n",
       "    <tr style=\"text-align: right;\">\n",
       "      <th></th>\n",
       "      <th>country</th>\n",
       "      <th>region</th>\n",
       "      <th>sub_region</th>\n",
       "      <th>iso_alpha</th>\n",
       "      <th>happiness_score</th>\n",
       "      <th>gdp_per_capita</th>\n",
       "      <th>social_support</th>\n",
       "      <th>life_expectancy</th>\n",
       "      <th>freedom_to_make_life_choices</th>\n",
       "      <th>generosity</th>\n",
       "      <th>perceptions_of_corruption</th>\n",
       "    </tr>\n",
       "  </thead>\n",
       "  <tbody>\n",
       "    <tr>\n",
       "      <th>0</th>\n",
       "      <td>Norway</td>\n",
       "      <td>Europe</td>\n",
       "      <td>Northern Europe</td>\n",
       "      <td>NOR</td>\n",
       "      <td>7.537</td>\n",
       "      <td>1.616463</td>\n",
       "      <td>1.533524</td>\n",
       "      <td>0.796667</td>\n",
       "      <td>0.635423</td>\n",
       "      <td>0.362012</td>\n",
       "      <td>0.315964</td>\n",
       "    </tr>\n",
       "    <tr>\n",
       "      <th>1</th>\n",
       "      <td>Denmark</td>\n",
       "      <td>Europe</td>\n",
       "      <td>Northern Europe</td>\n",
       "      <td>DNK</td>\n",
       "      <td>7.522</td>\n",
       "      <td>1.482383</td>\n",
       "      <td>1.551122</td>\n",
       "      <td>0.792566</td>\n",
       "      <td>0.626007</td>\n",
       "      <td>0.355280</td>\n",
       "      <td>0.400770</td>\n",
       "    </tr>\n",
       "    <tr>\n",
       "      <th>2</th>\n",
       "      <td>Iceland</td>\n",
       "      <td>Europe</td>\n",
       "      <td>Northern Europe</td>\n",
       "      <td>ISL</td>\n",
       "      <td>7.504</td>\n",
       "      <td>1.480633</td>\n",
       "      <td>1.610574</td>\n",
       "      <td>0.833552</td>\n",
       "      <td>0.627163</td>\n",
       "      <td>0.475540</td>\n",
       "      <td>0.153527</td>\n",
       "    </tr>\n",
       "    <tr>\n",
       "      <th>3</th>\n",
       "      <td>Switzerland</td>\n",
       "      <td>Europe</td>\n",
       "      <td>Western Europe</td>\n",
       "      <td>CHE</td>\n",
       "      <td>7.494</td>\n",
       "      <td>1.564980</td>\n",
       "      <td>1.516912</td>\n",
       "      <td>0.858131</td>\n",
       "      <td>0.620071</td>\n",
       "      <td>0.290549</td>\n",
       "      <td>0.367007</td>\n",
       "    </tr>\n",
       "    <tr>\n",
       "      <th>4</th>\n",
       "      <td>Finland</td>\n",
       "      <td>Europe</td>\n",
       "      <td>Northern Europe</td>\n",
       "      <td>FIN</td>\n",
       "      <td>7.469</td>\n",
       "      <td>1.443572</td>\n",
       "      <td>1.540247</td>\n",
       "      <td>0.809158</td>\n",
       "      <td>0.617951</td>\n",
       "      <td>0.245483</td>\n",
       "      <td>0.382612</td>\n",
       "    </tr>\n",
       "    <tr>\n",
       "      <th>...</th>\n",
       "      <td>...</td>\n",
       "      <td>...</td>\n",
       "      <td>...</td>\n",
       "      <td>...</td>\n",
       "      <td>...</td>\n",
       "      <td>...</td>\n",
       "      <td>...</td>\n",
       "      <td>...</td>\n",
       "      <td>...</td>\n",
       "      <td>...</td>\n",
       "      <td>...</td>\n",
       "    </tr>\n",
       "    <tr>\n",
       "      <th>141</th>\n",
       "      <td>Togo</td>\n",
       "      <td>Africa</td>\n",
       "      <td>Sub-Saharan Africa</td>\n",
       "      <td>TGO</td>\n",
       "      <td>3.495</td>\n",
       "      <td>0.305445</td>\n",
       "      <td>0.431883</td>\n",
       "      <td>0.247106</td>\n",
       "      <td>0.380426</td>\n",
       "      <td>0.196896</td>\n",
       "      <td>0.095665</td>\n",
       "    </tr>\n",
       "    <tr>\n",
       "      <th>142</th>\n",
       "      <td>Rwanda</td>\n",
       "      <td>Africa</td>\n",
       "      <td>Sub-Saharan Africa</td>\n",
       "      <td>RWA</td>\n",
       "      <td>3.471</td>\n",
       "      <td>0.368746</td>\n",
       "      <td>0.945707</td>\n",
       "      <td>0.326425</td>\n",
       "      <td>0.581844</td>\n",
       "      <td>0.252756</td>\n",
       "      <td>0.455220</td>\n",
       "    </tr>\n",
       "    <tr>\n",
       "      <th>143</th>\n",
       "      <td>Syria</td>\n",
       "      <td>Asia</td>\n",
       "      <td>Western Asia</td>\n",
       "      <td>SYR</td>\n",
       "      <td>3.462</td>\n",
       "      <td>0.777153</td>\n",
       "      <td>0.396103</td>\n",
       "      <td>0.500533</td>\n",
       "      <td>0.081539</td>\n",
       "      <td>0.493664</td>\n",
       "      <td>0.151347</td>\n",
       "    </tr>\n",
       "    <tr>\n",
       "      <th>144</th>\n",
       "      <td>Tanzania</td>\n",
       "      <td>Africa</td>\n",
       "      <td>Sub-Saharan Africa</td>\n",
       "      <td>TZA</td>\n",
       "      <td>3.349</td>\n",
       "      <td>0.511136</td>\n",
       "      <td>1.041990</td>\n",
       "      <td>0.364509</td>\n",
       "      <td>0.390018</td>\n",
       "      <td>0.354256</td>\n",
       "      <td>0.066035</td>\n",
       "    </tr>\n",
       "    <tr>\n",
       "      <th>145</th>\n",
       "      <td>Burundi</td>\n",
       "      <td>Africa</td>\n",
       "      <td>Sub-Saharan Africa</td>\n",
       "      <td>BDI</td>\n",
       "      <td>2.905</td>\n",
       "      <td>0.091623</td>\n",
       "      <td>0.629794</td>\n",
       "      <td>0.151611</td>\n",
       "      <td>0.059901</td>\n",
       "      <td>0.204435</td>\n",
       "      <td>0.084148</td>\n",
       "    </tr>\n",
       "  </tbody>\n",
       "</table>\n",
       "<p>139 rows × 11 columns</p>\n",
       "</div>"
      ],
      "text/plain": [
       "         country  region          sub_region iso_alpha  happiness_score  \\\n",
       "0         Norway  Europe     Northern Europe       NOR            7.537   \n",
       "1        Denmark  Europe     Northern Europe       DNK            7.522   \n",
       "2        Iceland  Europe     Northern Europe       ISL            7.504   \n",
       "3    Switzerland  Europe      Western Europe       CHE            7.494   \n",
       "4        Finland  Europe     Northern Europe       FIN            7.469   \n",
       "..           ...     ...                 ...       ...              ...   \n",
       "141         Togo  Africa  Sub-Saharan Africa       TGO            3.495   \n",
       "142       Rwanda  Africa  Sub-Saharan Africa       RWA            3.471   \n",
       "143        Syria    Asia        Western Asia       SYR            3.462   \n",
       "144     Tanzania  Africa  Sub-Saharan Africa       TZA            3.349   \n",
       "145      Burundi  Africa  Sub-Saharan Africa       BDI            2.905   \n",
       "\n",
       "     gdp_per_capita  social_support  life_expectancy  \\\n",
       "0          1.616463        1.533524         0.796667   \n",
       "1          1.482383        1.551122         0.792566   \n",
       "2          1.480633        1.610574         0.833552   \n",
       "3          1.564980        1.516912         0.858131   \n",
       "4          1.443572        1.540247         0.809158   \n",
       "..              ...             ...              ...   \n",
       "141        0.305445        0.431883         0.247106   \n",
       "142        0.368746        0.945707         0.326425   \n",
       "143        0.777153        0.396103         0.500533   \n",
       "144        0.511136        1.041990         0.364509   \n",
       "145        0.091623        0.629794         0.151611   \n",
       "\n",
       "     freedom_to_make_life_choices  generosity  perceptions_of_corruption  \n",
       "0                        0.635423    0.362012                   0.315964  \n",
       "1                        0.626007    0.355280                   0.400770  \n",
       "2                        0.627163    0.475540                   0.153527  \n",
       "3                        0.620071    0.290549                   0.367007  \n",
       "4                        0.617951    0.245483                   0.382612  \n",
       "..                            ...         ...                        ...  \n",
       "141                      0.380426    0.196896                   0.095665  \n",
       "142                      0.581844    0.252756                   0.455220  \n",
       "143                      0.081539    0.493664                   0.151347  \n",
       "144                      0.390018    0.354256                   0.066035  \n",
       "145                      0.059901    0.204435                   0.084148  \n",
       "\n",
       "[139 rows x 11 columns]"
      ]
     },
     "execution_count": 48,
     "metadata": {},
     "output_type": "execute_result"
    }
   ],
   "source": [
    "df_2017=df_2017[[\"country\",\"region\",\"sub_region\",\"iso_alpha\",\"happiness_score\",\"gdp_per_capita\",\"social_support\",\"life_expectancy\",\"freedom_to_make_life_choices\",\"generosity\",\"perceptions_of_corruption\"]]\n",
    "df_2017"
   ]
  },
  {
   "cell_type": "code",
   "execution_count": 49,
   "id": "9cb180f9",
   "metadata": {},
   "outputs": [
    {
     "data": {
      "text/plain": [
       "country                         0\n",
       "region                          0\n",
       "sub_region                      0\n",
       "iso_alpha                       0\n",
       "happiness_score                 0\n",
       "gdp_per_capita                  0\n",
       "social_support                  0\n",
       "life_expectancy                 0\n",
       "freedom_to_make_life_choices    0\n",
       "generosity                      0\n",
       "perceptions_of_corruption       0\n",
       "dtype: int64"
      ]
     },
     "execution_count": 49,
     "metadata": {},
     "output_type": "execute_result"
    }
   ],
   "source": [
    "df_2017.isnull().sum()"
   ]
  },
  {
   "cell_type": "code",
   "execution_count": null,
   "id": "5f4f969c",
   "metadata": {},
   "outputs": [],
   "source": [
    "df_2017.isna().sum()"
   ]
  },
  {
   "cell_type": "markdown",
   "id": "194d96ef",
   "metadata": {},
   "source": [
    "# Exporting the final dataframes as csv to resources folder "
   ]
  },
  {
   "cell_type": "code",
   "execution_count": 50,
   "id": "d4e4b887",
   "metadata": {},
   "outputs": [],
   "source": [
    "\n",
    "df_2015.to_csv(\"./resources/wh_2015.csv\", index = False)"
   ]
  },
  {
   "cell_type": "code",
   "execution_count": 51,
   "id": "8dd81e98",
   "metadata": {},
   "outputs": [],
   "source": [
    "df_2016.to_csv(\"./resources/wh_2016.csv\", index = False)"
   ]
  },
  {
   "cell_type": "code",
   "execution_count": 52,
   "id": "556227e1",
   "metadata": {},
   "outputs": [],
   "source": [
    "df_2017.to_csv(\"./resources/wh_2017.csv\", index = False)"
   ]
  }
 ],
 "metadata": {
  "kernelspec": {
   "display_name": "Python 3 (ipykernel)",
   "language": "python",
   "name": "python3"
  },
  "language_info": {
   "codemirror_mode": {
    "name": "ipython",
    "version": 3
   },
   "file_extension": ".py",
   "mimetype": "text/x-python",
   "name": "python",
   "nbconvert_exporter": "python",
   "pygments_lexer": "ipython3",
   "version": "3.11.5"
  }
 },
 "nbformat": 4,
 "nbformat_minor": 5
}
